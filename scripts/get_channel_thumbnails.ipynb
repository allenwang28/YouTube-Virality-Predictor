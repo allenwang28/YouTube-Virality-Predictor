{
 "cells": [
  {
   "cell_type": "code",
   "execution_count": 21,
   "metadata": {
    "collapsed": true
   },
   "outputs": [],
   "source": [
    "%matplotlib inline\n",
    "import pandas as pd\n",
    "import numpy as np\n",
    "import matplotlib.pyplot as plt\n",
    "import seaborn as sns\n",
    "from scipy import stats\n",
    "from ast import literal_eval\n",
    "from sklearn.feature_extraction.text import TfidfVectorizer, CountVectorizer\n",
    "from sklearn.metrics.pairwise import linear_kernel, cosine_similarity\n",
    "from nltk.stem.snowball import SnowballStemmer\n",
    "from nltk.stem.wordnet import WordNetLemmatizer\n",
    "from nltk.corpus import wordnet\n",
    "from langdetect import detect\n",
    "import csv\n",
    "import requests\n",
    "import urllib2\n",
    "from lxml import html, etree\n",
    "import json\n",
    "\n",
    "import warnings; warnings.simplefilter('ignore')"
   ]
  },
  {
   "cell_type": "code",
   "execution_count": 22,
   "metadata": {
    "collapsed": true
   },
   "outputs": [],
   "source": [
    "# Channel stats\n",
    "dfChannel = pd.read_csv('../data/channelStats.csv')\n",
    "\n",
    "# All Channels\n",
    "df = pd.read_csv('../data/videoStats_known_channels.csv', encoding = 'latin-1')"
   ]
  },
  {
   "cell_type": "code",
   "execution_count": 23,
   "metadata": {},
   "outputs": [
    {
     "data": {
      "text/plain": [
       "Index([u'Id', u'Title', u'Description', u'LikeCount', u'DislikeCount',\n",
       "       u'ViewCount', u'FavoriteCount', u'CommentCount', u'PublishedAt',\n",
       "       u'Channel Id', u'Channel Title'],\n",
       "      dtype='object')"
      ]
     },
     "execution_count": 23,
     "metadata": {},
     "output_type": "execute_result"
    }
   ],
   "source": [
    "df.columns"
   ]
  },
  {
   "cell_type": "code",
   "execution_count": 24,
   "metadata": {},
   "outputs": [],
   "source": [
    "def getYTLink(s):\n",
    "    return \"https://i.ytimg.com/vi/\" + s + \"/default.jpg\""
   ]
  },
  {
   "cell_type": "code",
   "execution_count": 25,
   "metadata": {
    "collapsed": true
   },
   "outputs": [],
   "source": [
    "df['Thumbnail Default'] = df['Id'].apply(getYTLink)"
   ]
  },
  {
   "cell_type": "code",
   "execution_count": 26,
   "metadata": {},
   "outputs": [
    {
     "data": {
      "text/html": [
       "<div>\n",
       "<style>\n",
       "    .dataframe thead tr:only-child th {\n",
       "        text-align: right;\n",
       "    }\n",
       "\n",
       "    .dataframe thead th {\n",
       "        text-align: left;\n",
       "    }\n",
       "\n",
       "    .dataframe tbody tr th {\n",
       "        vertical-align: top;\n",
       "    }\n",
       "</style>\n",
       "<table border=\"1\" class=\"dataframe\">\n",
       "  <thead>\n",
       "    <tr style=\"text-align: right;\">\n",
       "      <th></th>\n",
       "      <th>Id</th>\n",
       "      <th>Title</th>\n",
       "      <th>Description</th>\n",
       "      <th>LikeCount</th>\n",
       "      <th>DislikeCount</th>\n",
       "      <th>ViewCount</th>\n",
       "      <th>FavoriteCount</th>\n",
       "      <th>CommentCount</th>\n",
       "      <th>PublishedAt</th>\n",
       "      <th>Channel Id</th>\n",
       "      <th>Channel Title</th>\n",
       "      <th>Thumbnail Default</th>\n",
       "    </tr>\n",
       "  </thead>\n",
       "  <tbody>\n",
       "    <tr>\n",
       "      <th>0</th>\n",
       "      <td>9rHI5zRctn0</td>\n",
       "      <td>Cachorro mais forte do mundo</td>\n",
       "      <td>NaN</td>\n",
       "      <td>0</td>\n",
       "      <td>0</td>\n",
       "      <td>36</td>\n",
       "      <td>0</td>\n",
       "      <td>0</td>\n",
       "      <td>2017-11-10T14:55:18.000Z</td>\n",
       "      <td>UCa0o4WDOq1kJAyMETrPnpQg</td>\n",
       "      <td>narakyyagamy</td>\n",
       "      <td>https://i.ytimg.com/vi/9rHI5zRctn0/default.jpg</td>\n",
       "    </tr>\n",
       "    <tr>\n",
       "      <th>1</th>\n",
       "      <td>LUNnmpxR0AI</td>\n",
       "      <td>Baleia Encalhada na praia</td>\n",
       "      <td>NaN</td>\n",
       "      <td>0</td>\n",
       "      <td>0</td>\n",
       "      <td>42</td>\n",
       "      <td>0</td>\n",
       "      <td>0</td>\n",
       "      <td>2017-11-10T03:34:55.000Z</td>\n",
       "      <td>UCa0o4WDOq1kJAyMETrPnpQg</td>\n",
       "      <td>narakyyagamy</td>\n",
       "      <td>https://i.ytimg.com/vi/LUNnmpxR0AI/default.jpg</td>\n",
       "    </tr>\n",
       "    <tr>\n",
       "      <th>2</th>\n",
       "      <td>8NRkk_ncXxQ</td>\n",
       "      <td>Arrancando o Maior dente do mundo</td>\n",
       "      <td>Super dente arrancado.</td>\n",
       "      <td>0</td>\n",
       "      <td>1</td>\n",
       "      <td>158</td>\n",
       "      <td>0</td>\n",
       "      <td>0</td>\n",
       "      <td>2017-10-13T22:24:18.000Z</td>\n",
       "      <td>UCa0o4WDOq1kJAyMETrPnpQg</td>\n",
       "      <td>narakyyagamy</td>\n",
       "      <td>https://i.ytimg.com/vi/8NRkk_ncXxQ/default.jpg</td>\n",
       "    </tr>\n",
       "    <tr>\n",
       "      <th>3</th>\n",
       "      <td>2PlglUM_97U</td>\n",
       "      <td>Manobra Jetski</td>\n",
       "      <td>RÃ© engatada e acelerando forte</td>\n",
       "      <td>0</td>\n",
       "      <td>1</td>\n",
       "      <td>31</td>\n",
       "      <td>0</td>\n",
       "      <td>0</td>\n",
       "      <td>2017-10-13T22:16:33.000Z</td>\n",
       "      <td>UCa0o4WDOq1kJAyMETrPnpQg</td>\n",
       "      <td>narakyyagamy</td>\n",
       "      <td>https://i.ytimg.com/vi/2PlglUM_97U/default.jpg</td>\n",
       "    </tr>\n",
       "    <tr>\n",
       "      <th>4</th>\n",
       "      <td>0Lqfk3AcGNo</td>\n",
       "      <td>Caribe de SÃ£o Paulo</td>\n",
       "      <td>Mar Azul em  litoral sul  Sp. Coisa linda</td>\n",
       "      <td>0</td>\n",
       "      <td>0</td>\n",
       "      <td>36</td>\n",
       "      <td>0</td>\n",
       "      <td>0</td>\n",
       "      <td>2017-10-13T22:12:22.000Z</td>\n",
       "      <td>UCa0o4WDOq1kJAyMETrPnpQg</td>\n",
       "      <td>narakyyagamy</td>\n",
       "      <td>https://i.ytimg.com/vi/0Lqfk3AcGNo/default.jpg</td>\n",
       "    </tr>\n",
       "  </tbody>\n",
       "</table>\n",
       "</div>"
      ],
      "text/plain": [
       "            Id                              Title  \\\n",
       "0  9rHI5zRctn0       Cachorro mais forte do mundo   \n",
       "1  LUNnmpxR0AI          Baleia Encalhada na praia   \n",
       "2  8NRkk_ncXxQ  Arrancando o Maior dente do mundo   \n",
       "3  2PlglUM_97U                     Manobra Jetski   \n",
       "4  0Lqfk3AcGNo               Caribe de SÃ£o Paulo   \n",
       "\n",
       "                                 Description  LikeCount  DislikeCount  \\\n",
       "0                                        NaN          0             0   \n",
       "1                                        NaN          0             0   \n",
       "2                     Super dente arrancado.          0             1   \n",
       "3            RÃ© engatada e acelerando forte          0             1   \n",
       "4  Mar Azul em  litoral sul  Sp. Coisa linda          0             0   \n",
       "\n",
       "   ViewCount  FavoriteCount  CommentCount               PublishedAt  \\\n",
       "0         36              0             0  2017-11-10T14:55:18.000Z   \n",
       "1         42              0             0  2017-11-10T03:34:55.000Z   \n",
       "2        158              0             0  2017-10-13T22:24:18.000Z   \n",
       "3         31              0             0  2017-10-13T22:16:33.000Z   \n",
       "4         36              0             0  2017-10-13T22:12:22.000Z   \n",
       "\n",
       "                 Channel Id Channel Title  \\\n",
       "0  UCa0o4WDOq1kJAyMETrPnpQg  narakyyagamy   \n",
       "1  UCa0o4WDOq1kJAyMETrPnpQg  narakyyagamy   \n",
       "2  UCa0o4WDOq1kJAyMETrPnpQg  narakyyagamy   \n",
       "3  UCa0o4WDOq1kJAyMETrPnpQg  narakyyagamy   \n",
       "4  UCa0o4WDOq1kJAyMETrPnpQg  narakyyagamy   \n",
       "\n",
       "                                Thumbnail Default  \n",
       "0  https://i.ytimg.com/vi/9rHI5zRctn0/default.jpg  \n",
       "1  https://i.ytimg.com/vi/LUNnmpxR0AI/default.jpg  \n",
       "2  https://i.ytimg.com/vi/8NRkk_ncXxQ/default.jpg  \n",
       "3  https://i.ytimg.com/vi/2PlglUM_97U/default.jpg  \n",
       "4  https://i.ytimg.com/vi/0Lqfk3AcGNo/default.jpg  "
      ]
     },
     "execution_count": 26,
     "metadata": {},
     "output_type": "execute_result"
    }
   ],
   "source": [
    "df.head()"
   ]
  },
  {
   "cell_type": "code",
   "execution_count": 28,
   "metadata": {},
   "outputs": [],
   "source": [
    "import sys\n",
    "reload(sys)\n",
    "sys.setdefaultencoding('utf-8')\n",
    "df.to_csv(\"channels_thumbnails.csv\")"
   ]
  },
  {
   "cell_type": "code",
   "execution_count": null,
   "metadata": {
    "collapsed": true
   },
   "outputs": [],
   "source": []
  }
 ],
 "metadata": {
  "kernelspec": {
   "display_name": "Python 2",
   "language": "python",
   "name": "python2"
  },
  "language_info": {
   "codemirror_mode": {
    "name": "ipython",
    "version": 2
   },
   "file_extension": ".py",
   "mimetype": "text/x-python",
   "name": "python",
   "nbconvert_exporter": "python",
   "pygments_lexer": "ipython2",
   "version": "2.7.13"
  }
 },
 "nbformat": 4,
 "nbformat_minor": 2
}
