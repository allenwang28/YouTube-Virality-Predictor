{
 "cells": [
  {
   "cell_type": "code",
   "execution_count": 374,
   "metadata": {
    "collapsed": true
   },
   "outputs": [],
   "source": [
    "%matplotlib inline\n",
    "import pandas as pd\n",
    "import numpy as np\n",
    "import matplotlib.pyplot as plt\n",
    "import seaborn as sns\n",
    "from scipy import stats\n",
    "from ast import literal_eval\n",
    "from sklearn.feature_extraction.text import TfidfVectorizer, CountVectorizer\n",
    "from sklearn.metrics.pairwise import linear_kernel, cosine_similarity\n",
    "from nltk.stem.snowball import SnowballStemmer\n",
    "from nltk.stem.wordnet import WordNetLemmatizer\n",
    "from nltk.corpus import wordnet\n",
    "from langdetect import detect\n",
    "import csv\n",
    "import requests\n",
    "import urllib2\n",
    "from lxml import html, etree\n",
    "import json\n",
    "\n",
    "import warnings; warnings.simplefilter('ignore')"
   ]
  },
  {
   "cell_type": "markdown",
   "metadata": {},
   "source": [
    "# Load Data"
   ]
  },
  {
   "cell_type": "code",
   "execution_count": 375,
   "metadata": {
    "collapsed": true
   },
   "outputs": [],
   "source": [
    "# Channel stats\n",
    "dfData = pd.read_csv('../data/channel_lang_final.csv')\n",
    "\n",
    "# All Channels\n",
    "dfChannel = pd.read_csv('../data/channelStats.csv')"
   ]
  },
  {
   "cell_type": "code",
   "execution_count": 376,
   "metadata": {},
   "outputs": [],
   "source": [
    "dfData = dfData.merge(dfChannel,on='Channel Id',how='left')\n",
    "dfData.rename(columns={'Unnamed: 0':'rowHash'}, inplace=True)"
   ]
  },
  {
   "cell_type": "markdown",
   "metadata": {},
   "source": [
    "# Get Previous View Count"
   ]
  },
  {
   "cell_type": "code",
   "execution_count": 377,
   "metadata": {
    "collapsed": true
   },
   "outputs": [],
   "source": [
    "dfData_en = dfData[dfData[\"Lang\"] == 'en']"
   ]
  },
  {
   "cell_type": "code",
   "execution_count": 378,
   "metadata": {},
   "outputs": [],
   "source": [
    "dfData_single_en = dfData_en[dfData_en.groupby('Channel Id')['Channel Id'].transform(len) == 1]"
   ]
  },
  {
   "cell_type": "code",
   "execution_count": 379,
   "metadata": {},
   "outputs": [],
   "source": [
    "dfData_multiple_en = dfData_en[dfData_en.groupby('Channel Id')['Channel Id'].transform(len) > 1]"
   ]
  },
  {
   "cell_type": "code",
   "execution_count": 380,
   "metadata": {},
   "outputs": [],
   "source": [
    "dfData_multiple_en['rowHash'] = [x for x in range(dfData_multiple_en.shape[0])]"
   ]
  },
  {
   "cell_type": "code",
   "execution_count": 381,
   "metadata": {},
   "outputs": [],
   "source": [
    "uniqueChannelID = list(set(dfData_multiple_en['Channel Id'].tolist()))"
   ]
  },
  {
   "cell_type": "code",
   "execution_count": 382,
   "metadata": {},
   "outputs": [],
   "source": [
    "def getNextHashCode(x):\n",
    "    return x + 1\n",
    "cg['nextHash'] = cg['rowHash'].apply(getNextHashCode)"
   ]
  },
  {
   "cell_type": "markdown",
   "metadata": {},
   "source": [
    "# Set up first DataFrame"
   ]
  },
  {
   "cell_type": "code",
   "execution_count": 383,
   "metadata": {},
   "outputs": [],
   "source": [
    "cg1 = dfData_multiple_en\n",
    "cg1 = dfData_multiple_en[dfData_multiple_en['Channel Id'] == uniqueChannelID[0]]\n",
    "cg1 = cg1.drop(cg1.index[cg1.shape[0]-1])\n",
    "cg1['nextHash'] = cg1['rowHash'].apply(getNextHashCode)\n"
   ]
  },
  {
   "cell_type": "code",
   "execution_count": 384,
   "metadata": {},
   "outputs": [
    {
     "data": {
      "text/plain": [
       "5     1\n",
       "27    2\n",
       "30    3\n",
       "Name: nextHash, dtype: int64"
      ]
     },
     "execution_count": 384,
     "metadata": {},
     "output_type": "execute_result"
    }
   ],
   "source": [
    "cg1['nextHash']"
   ]
  },
  {
   "cell_type": "code",
   "execution_count": 385,
   "metadata": {},
   "outputs": [
    {
     "data": {
      "text/plain": [
       "3803"
      ]
     },
     "execution_count": 385,
     "metadata": {},
     "output_type": "execute_result"
    }
   ],
   "source": [
    "len(uniqueChannelID)"
   ]
  },
  {
   "cell_type": "markdown",
   "metadata": {},
   "source": [
    "# Concatenate all Unique ID"
   ]
  },
  {
   "cell_type": "code",
   "execution_count": 386,
   "metadata": {},
   "outputs": [
    {
     "name": "stderr",
     "output_type": "stream",
     "text": [
      "100% |########################################################################|\n"
     ]
    }
   ],
   "source": [
    "import progressbar\n",
    "bar = progressbar.ProgressBar()\n",
    "for channel in bar(uniqueChannelID):\n",
    "    dftemp = dfData_multiple_en[dfData_multiple_en['Channel Id'] == channel]\n",
    "    dftemp['nextHash'] = dftemp['rowHash'].apply(getNextHashCode)\n",
    "    cg1 = cg1.dropna()\n",
    "    cg1 = cg1.append(dftemp[:-1])\n",
    "    "
   ]
  },
  {
   "cell_type": "code",
   "execution_count": 389,
   "metadata": {},
   "outputs": [],
   "source": [
    "cg1 = cg1.drop_duplicates(subset='Id', keep=\"first\")\n",
    "cg1[['rowHash','nextHash']]\n",
    "cg1.to_csv(\"row_Hash_in_full_data.csv\")"
   ]
  },
  {
   "cell_type": "code",
   "execution_count": 402,
   "metadata": {},
   "outputs": [],
   "source": [
    "header = [\"nextHash\", \"PrevCommentCount\", \"PrevDislikeCount\", \"PrevLikeCount\",\"PrevPublishedAt\",\"PrevViewCount\"]\n",
    "nextHashDF = dfData_multiple_en[['rowHash','CommentCount','DislikeCount','LikeCount','PublishedAt','ViewCount']]\n",
    "nextHashDF.to_csv(\"next_hash_map.csv\")"
   ]
  },
  {
   "cell_type": "code",
   "execution_count": 403,
   "metadata": {},
   "outputs": [],
   "source": [
    "nextHashDF.columns = header"
   ]
  },
  {
   "cell_type": "markdown",
   "metadata": {},
   "source": [
    "# Map Previous Values"
   ]
  },
  {
   "cell_type": "code",
   "execution_count": 404,
   "metadata": {},
   "outputs": [],
   "source": [
    "cg2 = cg1.drop_duplicates(subset='Id', keep=\"first\")"
   ]
  },
  {
   "cell_type": "code",
   "execution_count": 405,
   "metadata": {},
   "outputs": [],
   "source": [
    "mergeDF = cg1.merge(nextHashDF,on='nextHash',how='left')"
   ]
  },
  {
   "cell_type": "code",
   "execution_count": 407,
   "metadata": {},
   "outputs": [],
   "source": [
    "mergeDF.to_csv(\"Merged_data.csv\")"
   ]
  },
  {
   "cell_type": "code",
   "execution_count": 408,
   "metadata": {},
   "outputs": [
    {
     "data": {
      "text/plain": [
       "92291"
      ]
     },
     "execution_count": 408,
     "metadata": {},
     "output_type": "execute_result"
    }
   ],
   "source": [
    "mergeDF.shape[0]"
   ]
  },
  {
   "cell_type": "code",
   "execution_count": 417,
   "metadata": {},
   "outputs": [
    {
     "data": {
      "text/html": [
       "<div>\n",
       "<style>\n",
       "    .dataframe thead tr:only-child th {\n",
       "        text-align: right;\n",
       "    }\n",
       "\n",
       "    .dataframe thead th {\n",
       "        text-align: left;\n",
       "    }\n",
       "\n",
       "    .dataframe tbody tr th {\n",
       "        vertical-align: top;\n",
       "    }\n",
       "</style>\n",
       "<table border=\"1\" class=\"dataframe\">\n",
       "  <thead>\n",
       "    <tr style=\"text-align: right;\">\n",
       "      <th></th>\n",
       "      <th>rowHash</th>\n",
       "      <th>Id</th>\n",
       "      <th>Title</th>\n",
       "      <th>Description</th>\n",
       "      <th>LikeCount</th>\n",
       "      <th>DislikeCount</th>\n",
       "      <th>ViewCount</th>\n",
       "      <th>FavoriteCount</th>\n",
       "      <th>CommentCount</th>\n",
       "      <th>PublishedAt</th>\n",
       "      <th>...</th>\n",
       "      <th>channelVideoCount</th>\n",
       "      <th>channelViewCount</th>\n",
       "      <th>nextHash</th>\n",
       "      <th>PrevCommentCount</th>\n",
       "      <th>PrevDislikeCount</th>\n",
       "      <th>PrevLikeCount</th>\n",
       "      <th>PrevPublishedAt</th>\n",
       "      <th>PrevViewCount</th>\n",
       "      <th>PublishedYear</th>\n",
       "      <th>ChannelAge</th>\n",
       "    </tr>\n",
       "  </thead>\n",
       "  <tbody>\n",
       "    <tr>\n",
       "      <th>0</th>\n",
       "      <td>0</td>\n",
       "      <td>Scp3JH3eVLw</td>\n",
       "      <td>Depeche Mode   It's No Good</td>\n",
       "      <td>DANCA MUITO.</td>\n",
       "      <td>0</td>\n",
       "      <td>0</td>\n",
       "      <td>18</td>\n",
       "      <td>0</td>\n",
       "      <td>0</td>\n",
       "      <td>2017-06-25T19:12:16.000Z</td>\n",
       "      <td>...</td>\n",
       "      <td>37</td>\n",
       "      <td>8251061</td>\n",
       "      <td>1</td>\n",
       "      <td>0</td>\n",
       "      <td>2</td>\n",
       "      <td>14</td>\n",
       "      <td>2012-03-28T18:01:31.000Z</td>\n",
       "      <td>3911</td>\n",
       "      <td>2017</td>\n",
       "      <td>2008</td>\n",
       "    </tr>\n",
       "    <tr>\n",
       "      <th>1</th>\n",
       "      <td>1</td>\n",
       "      <td>wLqmkz6u8G4</td>\n",
       "      <td>the best of Jay cutler Dorian Yates</td>\n",
       "      <td>Jay cutler e Dorian Yates</td>\n",
       "      <td>14</td>\n",
       "      <td>2</td>\n",
       "      <td>3911</td>\n",
       "      <td>0</td>\n",
       "      <td>0</td>\n",
       "      <td>2012-03-28T18:01:31.000Z</td>\n",
       "      <td>...</td>\n",
       "      <td>37</td>\n",
       "      <td>8251061</td>\n",
       "      <td>2</td>\n",
       "      <td>5</td>\n",
       "      <td>2</td>\n",
       "      <td>8</td>\n",
       "      <td>2010-08-23T16:12:50.000Z</td>\n",
       "      <td>3853</td>\n",
       "      <td>2012</td>\n",
       "      <td>2008</td>\n",
       "    </tr>\n",
       "    <tr>\n",
       "      <th>2</th>\n",
       "      <td>2</td>\n",
       "      <td>nKMsh79uOcM</td>\n",
       "      <td>Iron Man Andy photos   NO PAIN NO GAIN</td>\n",
       "      <td>Iron Man Andy muscle NO PAIN NO GAIN</td>\n",
       "      <td>8</td>\n",
       "      <td>2</td>\n",
       "      <td>3853</td>\n",
       "      <td>0</td>\n",
       "      <td>5</td>\n",
       "      <td>2010-08-23T16:12:50.000Z</td>\n",
       "      <td>...</td>\n",
       "      <td>37</td>\n",
       "      <td>8251061</td>\n",
       "      <td>3</td>\n",
       "      <td>0</td>\n",
       "      <td>2</td>\n",
       "      <td>3</td>\n",
       "      <td>2010-05-17T10:15:48.000Z</td>\n",
       "      <td>1392</td>\n",
       "      <td>2010</td>\n",
       "      <td>2008</td>\n",
       "    </tr>\n",
       "    <tr>\n",
       "      <th>3</th>\n",
       "      <td>4</td>\n",
       "      <td>E--7XtuuqAg</td>\n",
       "      <td>Mooring Anchor Carry 120kg at Papar Strongestm...</td>\n",
       "      <td>Only manage 11 meters</td>\n",
       "      <td>0</td>\n",
       "      <td>0</td>\n",
       "      <td>56</td>\n",
       "      <td>0</td>\n",
       "      <td>0</td>\n",
       "      <td>2016-10-10T15:07:16.000Z</td>\n",
       "      <td>...</td>\n",
       "      <td>79</td>\n",
       "      <td>123988</td>\n",
       "      <td>5</td>\n",
       "      <td>0</td>\n",
       "      <td>0</td>\n",
       "      <td>0</td>\n",
       "      <td>2016-10-10T15:01:02.000Z</td>\n",
       "      <td>74</td>\n",
       "      <td>2016</td>\n",
       "      <td>2011</td>\n",
       "    </tr>\n",
       "    <tr>\n",
       "      <th>4</th>\n",
       "      <td>5</td>\n",
       "      <td>fdsppIOelPw</td>\n",
       "      <td>Tire Flip 450kg at Papar Strongestman 2016</td>\n",
       "      <td>450kg x 5 flips</td>\n",
       "      <td>0</td>\n",
       "      <td>0</td>\n",
       "      <td>74</td>\n",
       "      <td>0</td>\n",
       "      <td>0</td>\n",
       "      <td>2016-10-10T15:01:02.000Z</td>\n",
       "      <td>...</td>\n",
       "      <td>79</td>\n",
       "      <td>123988</td>\n",
       "      <td>6</td>\n",
       "      <td>0</td>\n",
       "      <td>0</td>\n",
       "      <td>0</td>\n",
       "      <td>2016-10-10T14:59:15.000Z</td>\n",
       "      <td>46</td>\n",
       "      <td>2016</td>\n",
       "      <td>2011</td>\n",
       "    </tr>\n",
       "  </tbody>\n",
       "</table>\n",
       "<p>5 rows × 25 columns</p>\n",
       "</div>"
      ],
      "text/plain": [
       "   rowHash           Id                                              Title  \\\n",
       "0        0  Scp3JH3eVLw                        Depeche Mode   It's No Good   \n",
       "1        1  wLqmkz6u8G4                the best of Jay cutler Dorian Yates   \n",
       "2        2  nKMsh79uOcM             Iron Man Andy photos   NO PAIN NO GAIN   \n",
       "3        4  E--7XtuuqAg  Mooring Anchor Carry 120kg at Papar Strongestm...   \n",
       "4        5  fdsppIOelPw         Tire Flip 450kg at Papar Strongestman 2016   \n",
       "\n",
       "                            Description  LikeCount  DislikeCount  ViewCount  \\\n",
       "0                          DANCA MUITO.          0             0         18   \n",
       "1             Jay cutler e Dorian Yates         14             2       3911   \n",
       "2  Iron Man Andy muscle NO PAIN NO GAIN          8             2       3853   \n",
       "3                 Only manage 11 meters          0             0         56   \n",
       "4                       450kg x 5 flips          0             0         74   \n",
       "\n",
       "   FavoriteCount  CommentCount               PublishedAt     ...      \\\n",
       "0              0             0  2017-06-25T19:12:16.000Z     ...       \n",
       "1              0             0  2012-03-28T18:01:31.000Z     ...       \n",
       "2              0             5  2010-08-23T16:12:50.000Z     ...       \n",
       "3              0             0  2016-10-10T15:07:16.000Z     ...       \n",
       "4              0             0  2016-10-10T15:01:02.000Z     ...       \n",
       "\n",
       "  channelVideoCount channelViewCount nextHash PrevCommentCount  \\\n",
       "0                37          8251061        1                0   \n",
       "1                37          8251061        2                5   \n",
       "2                37          8251061        3                0   \n",
       "3                79           123988        5                0   \n",
       "4                79           123988        6                0   \n",
       "\n",
       "   PrevDislikeCount  PrevLikeCount           PrevPublishedAt  PrevViewCount  \\\n",
       "0                 2             14  2012-03-28T18:01:31.000Z           3911   \n",
       "1                 2              8  2010-08-23T16:12:50.000Z           3853   \n",
       "2                 2              3  2010-05-17T10:15:48.000Z           1392   \n",
       "3                 0              0  2016-10-10T15:01:02.000Z             74   \n",
       "4                 0              0  2016-10-10T14:59:15.000Z             46   \n",
       "\n",
       "   PublishedYear  ChannelAge  \n",
       "0           2017        2008  \n",
       "1           2012        2008  \n",
       "2           2010        2008  \n",
       "3           2016        2011  \n",
       "4           2016        2011  \n",
       "\n",
       "[5 rows x 25 columns]"
      ]
     },
     "execution_count": 417,
     "metadata": {},
     "output_type": "execute_result"
    }
   ],
   "source": [
    "mergeDF.head()"
   ]
  },
  {
   "cell_type": "code",
   "execution_count": 462,
   "metadata": {
    "collapsed": true
   },
   "outputs": [],
   "source": [
    "def drop_obvious_features(dfData):\n",
    "    dfData = dfData.drop(['LikeCount','DislikeCount','CommentCount'],axis = 1)\n",
    "    return dfData\n",
    "def drop_useless_features(dfData):\n",
    "    dfData= dfData.drop(['rowHash','Id','Title','Description','FavoriteCount','nextHash','Lang','PrevPublishedAt',\n",
    "                         'Channel Title','Channel Id'],axis = 1)\n",
    "    return dfData\n",
    "def feature_engineer(dfData):\n",
    "    dfData['PublishedYear'] = dfData['PublishedAt'].apply(lambda x: x[:4])\n",
    "    dfData['ChannelAge'] =  dfData['publishedAt'].apply(lambda x: x[:4])\n",
    "    dfData = dfData.drop(['PublishedAt','publishedAt'],axis = 1)\n",
    "    return dfData"
   ]
  },
  {
   "cell_type": "code",
   "execution_count": 504,
   "metadata": {},
   "outputs": [
    {
     "data": {
      "text/plain": [
       "Index([u'rowHash', u'Id', u'Title', u'Description', u'LikeCount',\n",
       "       u'DislikeCount', u'ViewCount', u'FavoriteCount', u'CommentCount',\n",
       "       u'PublishedAt', u'Channel Id', u'Channel Title', u'Lang',\n",
       "       u'publishedAt', u'subscriberCount', u'channelVideoCount',\n",
       "       u'channelViewCount', u'nextHash', u'PrevCommentCount',\n",
       "       u'PrevDislikeCount', u'PrevLikeCount', u'PrevPublishedAt',\n",
       "       u'PrevViewCount', u'PublishedYear', u'ChannelAge'],\n",
       "      dtype='object')"
      ]
     },
     "execution_count": 504,
     "metadata": {},
     "output_type": "execute_result"
    }
   ],
   "source": [
    "mergeDF.columns"
   ]
  },
  {
   "cell_type": "code",
   "execution_count": 464,
   "metadata": {},
   "outputs": [],
   "source": [
    "df = drop_obvious_features(drop_useless_features(feature_engineer(mergeDF)))"
   ]
  },
  {
   "cell_type": "code",
   "execution_count": 465,
   "metadata": {},
   "outputs": [
    {
     "data": {
      "text/plain": [
       "Index([u'ViewCount', u'subscriberCount', u'channelVideoCount',\n",
       "       u'channelViewCount', u'PrevCommentCount', u'PrevDislikeCount',\n",
       "       u'PrevLikeCount', u'PrevViewCount', u'PublishedYear', u'ChannelAge'],\n",
       "      dtype='object')"
      ]
     },
     "execution_count": 465,
     "metadata": {},
     "output_type": "execute_result"
    }
   ],
   "source": [
    "df.columns"
   ]
  },
  {
   "cell_type": "code",
   "execution_count": 473,
   "metadata": {
    "collapsed": true
   },
   "outputs": [],
   "source": [
    "X, y = df.drop('ViewCount',axis = 1) , np.log1p(df['ViewCount'])"
   ]
  },
  {
   "cell_type": "code",
   "execution_count": 474,
   "metadata": {},
   "outputs": [
    {
     "name": "stdout",
     "output_type": "stream",
     "text": [
      "Check For Null Values\n",
      "False\n",
      "False\n",
      "False\n",
      "False\n",
      "False\n",
      "False\n",
      "False\n",
      "False\n",
      "False\n",
      "Check for Pred:\n",
      "False\n"
     ]
    }
   ],
   "source": [
    "def checkForNull(X,y):\n",
    "    X = X.as_matrix().astype(float)\n",
    "    print \"Check For Null Values\"\n",
    "    for i in range(0,len(df.columns)-1):\n",
    "        print np.any(np.isinf(X[:,i]))\n",
    "    print \"Check for Pred:\"\n",
    "    y = y.as_matrix().astype(float)\n",
    "    print np.any(np.isinf(y))\n",
    "checkForNull(X,y)"
   ]
  },
  {
   "cell_type": "code",
   "execution_count": 475,
   "metadata": {},
   "outputs": [],
   "source": [
    "from sklearn.ensemble import GradientBoostingClassifier, GradientBoostingRegressor\n",
    "from sklearn.dummy import DummyClassifier, DummyRegressor\n",
    "from sklearn.model_selection import train_test_split\n",
    "from xgboost import XGBClassifier, XGBRegressor\n",
    "train_X, test_X, train_y, test_y = train_test_split(X, y, train_size=0.75, test_size=0.25)"
   ]
  },
  {
   "cell_type": "code",
   "execution_count": 476,
   "metadata": {},
   "outputs": [
    {
     "data": {
      "text/plain": [
       "0.67892739439494965"
      ]
     },
     "execution_count": 476,
     "metadata": {},
     "output_type": "execute_result"
    }
   ],
   "source": [
    "reg = GradientBoostingRegressor()\n",
    "reg.fit(train_X, train_y)\n",
    "reg.score(test_X, test_y)"
   ]
  },
  {
   "cell_type": "code",
   "execution_count": 477,
   "metadata": {},
   "outputs": [
    {
     "data": {
      "text/plain": [
       "<matplotlib.axes._subplots.AxesSubplot at 0x4432f630>"
      ]
     },
     "execution_count": 477,
     "metadata": {},
     "output_type": "execute_result"
    },
    {
     "data": {
      "image/png": "[encoded data removed]",
      "text/plain": [
       "<matplotlib.figure.Figure at 0x2358fc50>"
      ]
     },
     "metadata": {},
     "output_type": "display_data"
    }
   ],
   "source": [
    "sns.set_style('whitegrid')\n",
    "plt.figure(figsize=(10,12))\n",
    "sns.barplot(x=reg.feature_importances_, y=X.columns)"
   ]
  },
  {
   "cell_type": "code",
   "execution_count": 479,
   "metadata": {},
   "outputs": [
    {
     "data": {
      "text/plain": [
       "0.67870180234405297"
      ]
     },
     "execution_count": 479,
     "metadata": {},
     "output_type": "execute_result"
    }
   ],
   "source": [
    "reg = XGBRegressor()\n",
    "train_X['ChannelAge'] = train_X['ChannelAge'].astype(int)\n",
    "test_X['ChannelAge'] = test_X['ChannelAge'].astype(int)\n",
    "train_X['PublishedYear'] = train_X['PublishedYear'].astype(int)\n",
    "test_X['PublishedYear'] = test_X['PublishedYear'].astype(int)\n",
    "reg.fit(train_X, train_y)\n",
    "reg.score(test_X, test_y)"
   ]
  },
  {
   "cell_type": "markdown",
   "metadata": {},
   "source": [
    "# Bring back in channels with only 1 video"
   ]
  },
  {
   "cell_type": "code",
   "execution_count": 500,
   "metadata": {},
   "outputs": [],
   "source": [
    "dfData_single_en['nextHash'] = \"\"\n",
    "singleDF = dfData_single_en.merge(nextHashDF,on='nextHash',how='left').fillna(0)"
   ]
  },
  {
   "cell_type": "code",
   "execution_count": 505,
   "metadata": {},
   "outputs": [],
   "source": [
    "mergeDF = mergeDF.drop(['PublishedYear','ChannelAge'],axis = 1)"
   ]
  },
  {
   "cell_type": "code",
   "execution_count": 508,
   "metadata": {},
   "outputs": [],
   "source": [
    "singleDF = singleDF[mergeDF.columns]"
   ]
  },
  {
   "cell_type": "code",
   "execution_count": 509,
   "metadata": {
    "collapsed": true
   },
   "outputs": [],
   "source": [
    "allDF = mergeDF.append(singleDF)"
   ]
  },
  {
   "cell_type": "code",
   "execution_count": 510,
   "metadata": {},
   "outputs": [
    {
     "data": {
      "text/html": [
       "<div>\n",
       "<style>\n",
       "    .dataframe thead tr:only-child th {\n",
       "        text-align: right;\n",
       "    }\n",
       "\n",
       "    .dataframe thead th {\n",
       "        text-align: left;\n",
       "    }\n",
       "\n",
       "    .dataframe tbody tr th {\n",
       "        vertical-align: top;\n",
       "    }\n",
       "</style>\n",
       "<table border=\"1\" class=\"dataframe\">\n",
       "  <thead>\n",
       "    <tr style=\"text-align: right;\">\n",
       "      <th></th>\n",
       "      <th>rowHash</th>\n",
       "      <th>Id</th>\n",
       "      <th>Title</th>\n",
       "      <th>Description</th>\n",
       "      <th>LikeCount</th>\n",
       "      <th>DislikeCount</th>\n",
       "      <th>ViewCount</th>\n",
       "      <th>FavoriteCount</th>\n",
       "      <th>CommentCount</th>\n",
       "      <th>PublishedAt</th>\n",
       "      <th>...</th>\n",
       "      <th>publishedAt</th>\n",
       "      <th>subscriberCount</th>\n",
       "      <th>channelVideoCount</th>\n",
       "      <th>channelViewCount</th>\n",
       "      <th>nextHash</th>\n",
       "      <th>PrevCommentCount</th>\n",
       "      <th>PrevDislikeCount</th>\n",
       "      <th>PrevLikeCount</th>\n",
       "      <th>PrevPublishedAt</th>\n",
       "      <th>PrevViewCount</th>\n",
       "    </tr>\n",
       "  </thead>\n",
       "  <tbody>\n",
       "    <tr>\n",
       "      <th>0</th>\n",
       "      <td>0</td>\n",
       "      <td>Scp3JH3eVLw</td>\n",
       "      <td>Depeche Mode   It's No Good</td>\n",
       "      <td>DANCA MUITO.</td>\n",
       "      <td>0</td>\n",
       "      <td>0</td>\n",
       "      <td>18</td>\n",
       "      <td>0</td>\n",
       "      <td>0</td>\n",
       "      <td>2017-06-25T19:12:16.000Z</td>\n",
       "      <td>...</td>\n",
       "      <td>2008-11-09T01:34:31.000Z</td>\n",
       "      <td>10296</td>\n",
       "      <td>37</td>\n",
       "      <td>8251061</td>\n",
       "      <td>1</td>\n",
       "      <td>0.0</td>\n",
       "      <td>2.0</td>\n",
       "      <td>14.0</td>\n",
       "      <td>2012-03-28T18:01:31.000Z</td>\n",
       "      <td>3911.0</td>\n",
       "    </tr>\n",
       "    <tr>\n",
       "      <th>1</th>\n",
       "      <td>1</td>\n",
       "      <td>wLqmkz6u8G4</td>\n",
       "      <td>the best of Jay cutler Dorian Yates</td>\n",
       "      <td>Jay cutler e Dorian Yates</td>\n",
       "      <td>14</td>\n",
       "      <td>2</td>\n",
       "      <td>3911</td>\n",
       "      <td>0</td>\n",
       "      <td>0</td>\n",
       "      <td>2012-03-28T18:01:31.000Z</td>\n",
       "      <td>...</td>\n",
       "      <td>2008-11-09T01:34:31.000Z</td>\n",
       "      <td>10296</td>\n",
       "      <td>37</td>\n",
       "      <td>8251061</td>\n",
       "      <td>2</td>\n",
       "      <td>5.0</td>\n",
       "      <td>2.0</td>\n",
       "      <td>8.0</td>\n",
       "      <td>2010-08-23T16:12:50.000Z</td>\n",
       "      <td>3853.0</td>\n",
       "    </tr>\n",
       "    <tr>\n",
       "      <th>2</th>\n",
       "      <td>2</td>\n",
       "      <td>nKMsh79uOcM</td>\n",
       "      <td>Iron Man Andy photos   NO PAIN NO GAIN</td>\n",
       "      <td>Iron Man Andy muscle NO PAIN NO GAIN</td>\n",
       "      <td>8</td>\n",
       "      <td>2</td>\n",
       "      <td>3853</td>\n",
       "      <td>0</td>\n",
       "      <td>5</td>\n",
       "      <td>2010-08-23T16:12:50.000Z</td>\n",
       "      <td>...</td>\n",
       "      <td>2008-11-09T01:34:31.000Z</td>\n",
       "      <td>10296</td>\n",
       "      <td>37</td>\n",
       "      <td>8251061</td>\n",
       "      <td>3</td>\n",
       "      <td>0.0</td>\n",
       "      <td>2.0</td>\n",
       "      <td>3.0</td>\n",
       "      <td>2010-05-17T10:15:48.000Z</td>\n",
       "      <td>1392.0</td>\n",
       "    </tr>\n",
       "    <tr>\n",
       "      <th>3</th>\n",
       "      <td>4</td>\n",
       "      <td>E--7XtuuqAg</td>\n",
       "      <td>Mooring Anchor Carry 120kg at Papar Strongestm...</td>\n",
       "      <td>Only manage 11 meters</td>\n",
       "      <td>0</td>\n",
       "      <td>0</td>\n",
       "      <td>56</td>\n",
       "      <td>0</td>\n",
       "      <td>0</td>\n",
       "      <td>2016-10-10T15:07:16.000Z</td>\n",
       "      <td>...</td>\n",
       "      <td>2011-05-11T22:51:09.000Z</td>\n",
       "      <td>288</td>\n",
       "      <td>79</td>\n",
       "      <td>123988</td>\n",
       "      <td>5</td>\n",
       "      <td>0.0</td>\n",
       "      <td>0.0</td>\n",
       "      <td>0.0</td>\n",
       "      <td>2016-10-10T15:01:02.000Z</td>\n",
       "      <td>74.0</td>\n",
       "    </tr>\n",
       "    <tr>\n",
       "      <th>4</th>\n",
       "      <td>5</td>\n",
       "      <td>fdsppIOelPw</td>\n",
       "      <td>Tire Flip 450kg at Papar Strongestman 2016</td>\n",
       "      <td>450kg x 5 flips</td>\n",
       "      <td>0</td>\n",
       "      <td>0</td>\n",
       "      <td>74</td>\n",
       "      <td>0</td>\n",
       "      <td>0</td>\n",
       "      <td>2016-10-10T15:01:02.000Z</td>\n",
       "      <td>...</td>\n",
       "      <td>2011-05-11T22:51:09.000Z</td>\n",
       "      <td>288</td>\n",
       "      <td>79</td>\n",
       "      <td>123988</td>\n",
       "      <td>6</td>\n",
       "      <td>0.0</td>\n",
       "      <td>0.0</td>\n",
       "      <td>0.0</td>\n",
       "      <td>2016-10-10T14:59:15.000Z</td>\n",
       "      <td>46.0</td>\n",
       "    </tr>\n",
       "  </tbody>\n",
       "</table>\n",
       "<p>5 rows × 23 columns</p>\n",
       "</div>"
      ],
      "text/plain": [
       "   rowHash           Id                                              Title  \\\n",
       "0        0  Scp3JH3eVLw                        Depeche Mode   It's No Good   \n",
       "1        1  wLqmkz6u8G4                the best of Jay cutler Dorian Yates   \n",
       "2        2  nKMsh79uOcM             Iron Man Andy photos   NO PAIN NO GAIN   \n",
       "3        4  E--7XtuuqAg  Mooring Anchor Carry 120kg at Papar Strongestm...   \n",
       "4        5  fdsppIOelPw         Tire Flip 450kg at Papar Strongestman 2016   \n",
       "\n",
       "                            Description  LikeCount  DislikeCount  ViewCount  \\\n",
       "0                          DANCA MUITO.          0             0         18   \n",
       "1             Jay cutler e Dorian Yates         14             2       3911   \n",
       "2  Iron Man Andy muscle NO PAIN NO GAIN          8             2       3853   \n",
       "3                 Only manage 11 meters          0             0         56   \n",
       "4                       450kg x 5 flips          0             0         74   \n",
       "\n",
       "   FavoriteCount  CommentCount               PublishedAt      ...        \\\n",
       "0              0             0  2017-06-25T19:12:16.000Z      ...         \n",
       "1              0             0  2012-03-28T18:01:31.000Z      ...         \n",
       "2              0             5  2010-08-23T16:12:50.000Z      ...         \n",
       "3              0             0  2016-10-10T15:07:16.000Z      ...         \n",
       "4              0             0  2016-10-10T15:01:02.000Z      ...         \n",
       "\n",
       "                publishedAt subscriberCount channelVideoCount  \\\n",
       "0  2008-11-09T01:34:31.000Z           10296                37   \n",
       "1  2008-11-09T01:34:31.000Z           10296                37   \n",
       "2  2008-11-09T01:34:31.000Z           10296                37   \n",
       "3  2011-05-11T22:51:09.000Z             288                79   \n",
       "4  2011-05-11T22:51:09.000Z             288                79   \n",
       "\n",
       "  channelViewCount  nextHash  PrevCommentCount  PrevDislikeCount  \\\n",
       "0          8251061         1               0.0               2.0   \n",
       "1          8251061         2               5.0               2.0   \n",
       "2          8251061         3               0.0               2.0   \n",
       "3           123988         5               0.0               0.0   \n",
       "4           123988         6               0.0               0.0   \n",
       "\n",
       "  PrevLikeCount           PrevPublishedAt  PrevViewCount  \n",
       "0          14.0  2012-03-28T18:01:31.000Z         3911.0  \n",
       "1           8.0  2010-08-23T16:12:50.000Z         3853.0  \n",
       "2           3.0  2010-05-17T10:15:48.000Z         1392.0  \n",
       "3           0.0  2016-10-10T15:01:02.000Z           74.0  \n",
       "4           0.0  2016-10-10T14:59:15.000Z           46.0  \n",
       "\n",
       "[5 rows x 23 columns]"
      ]
     },
     "execution_count": 510,
     "metadata": {},
     "output_type": "execute_result"
    }
   ],
   "source": [
    "allDF.head()"
   ]
  },
  {
   "cell_type": "markdown",
   "metadata": {},
   "source": [
    "# Repeat Experiment"
   ]
  },
  {
   "cell_type": "code",
   "execution_count": null,
   "metadata": {
    "collapsed": true
   },
   "outputs": [],
   "source": [
    "df = drop_obvious_features(drop_useless_features(feature_engineer(allDF)))"
   ]
  },
  {
   "cell_type": "code",
   "execution_count": 511,
   "metadata": {
    "collapsed": true
   },
   "outputs": [],
   "source": [
    "X, y = df.drop('ViewCount',axis = 1) , np.log1p(df['ViewCount'])"
   ]
  },
  {
   "cell_type": "code",
   "execution_count": 512,
   "metadata": {},
   "outputs": [
    {
     "data": {
      "text/plain": [
       "0.67892739439494965"
      ]
     },
     "execution_count": 512,
     "metadata": {},
     "output_type": "execute_result"
    }
   ],
   "source": [
    "reg = GradientBoostingRegressor()\n",
    "reg.fit(train_X, train_y)\n",
    "reg.score(test_X, test_y)"
   ]
  },
  {
   "cell_type": "code",
   "execution_count": 513,
   "metadata": {
    "collapsed": true
   },
   "outputs": [],
   "source": [
    "allDF.to_csv(\"All_data.csv\")"
   ]
  },
  {
   "cell_type": "code",
   "execution_count": 514,
   "metadata": {},
   "outputs": [
    {
     "data": {
      "text/html": [
       "<div>\n",
       "<style>\n",
       "    .dataframe thead tr:only-child th {\n",
       "        text-align: right;\n",
       "    }\n",
       "\n",
       "    .dataframe thead th {\n",
       "        text-align: left;\n",
       "    }\n",
       "\n",
       "    .dataframe tbody tr th {\n",
       "        vertical-align: top;\n",
       "    }\n",
       "</style>\n",
       "<table border=\"1\" class=\"dataframe\">\n",
       "  <thead>\n",
       "    <tr style=\"text-align: right;\">\n",
       "      <th></th>\n",
       "      <th>rowHash</th>\n",
       "      <th>Id</th>\n",
       "      <th>Title</th>\n",
       "      <th>Description</th>\n",
       "      <th>LikeCount</th>\n",
       "      <th>DislikeCount</th>\n",
       "      <th>ViewCount</th>\n",
       "      <th>FavoriteCount</th>\n",
       "      <th>CommentCount</th>\n",
       "      <th>PublishedAt</th>\n",
       "      <th>...</th>\n",
       "      <th>publishedAt</th>\n",
       "      <th>subscriberCount</th>\n",
       "      <th>channelVideoCount</th>\n",
       "      <th>channelViewCount</th>\n",
       "      <th>nextHash</th>\n",
       "      <th>PrevCommentCount</th>\n",
       "      <th>PrevDislikeCount</th>\n",
       "      <th>PrevLikeCount</th>\n",
       "      <th>PrevPublishedAt</th>\n",
       "      <th>PrevViewCount</th>\n",
       "    </tr>\n",
       "  </thead>\n",
       "  <tbody>\n",
       "    <tr>\n",
       "      <th>0</th>\n",
       "      <td>0</td>\n",
       "      <td>Scp3JH3eVLw</td>\n",
       "      <td>Depeche Mode   It's No Good</td>\n",
       "      <td>DANCA MUITO.</td>\n",
       "      <td>0</td>\n",
       "      <td>0</td>\n",
       "      <td>18</td>\n",
       "      <td>0</td>\n",
       "      <td>0</td>\n",
       "      <td>2017-06-25T19:12:16.000Z</td>\n",
       "      <td>...</td>\n",
       "      <td>2008-11-09T01:34:31.000Z</td>\n",
       "      <td>10296</td>\n",
       "      <td>37</td>\n",
       "      <td>8251061</td>\n",
       "      <td>1</td>\n",
       "      <td>0.0</td>\n",
       "      <td>2.0</td>\n",
       "      <td>14.0</td>\n",
       "      <td>2012-03-28T18:01:31.000Z</td>\n",
       "      <td>3911.0</td>\n",
       "    </tr>\n",
       "    <tr>\n",
       "      <th>1</th>\n",
       "      <td>1</td>\n",
       "      <td>wLqmkz6u8G4</td>\n",
       "      <td>the best of Jay cutler Dorian Yates</td>\n",
       "      <td>Jay cutler e Dorian Yates</td>\n",
       "      <td>14</td>\n",
       "      <td>2</td>\n",
       "      <td>3911</td>\n",
       "      <td>0</td>\n",
       "      <td>0</td>\n",
       "      <td>2012-03-28T18:01:31.000Z</td>\n",
       "      <td>...</td>\n",
       "      <td>2008-11-09T01:34:31.000Z</td>\n",
       "      <td>10296</td>\n",
       "      <td>37</td>\n",
       "      <td>8251061</td>\n",
       "      <td>2</td>\n",
       "      <td>5.0</td>\n",
       "      <td>2.0</td>\n",
       "      <td>8.0</td>\n",
       "      <td>2010-08-23T16:12:50.000Z</td>\n",
       "      <td>3853.0</td>\n",
       "    </tr>\n",
       "    <tr>\n",
       "      <th>2</th>\n",
       "      <td>2</td>\n",
       "      <td>nKMsh79uOcM</td>\n",
       "      <td>Iron Man Andy photos   NO PAIN NO GAIN</td>\n",
       "      <td>Iron Man Andy muscle NO PAIN NO GAIN</td>\n",
       "      <td>8</td>\n",
       "      <td>2</td>\n",
       "      <td>3853</td>\n",
       "      <td>0</td>\n",
       "      <td>5</td>\n",
       "      <td>2010-08-23T16:12:50.000Z</td>\n",
       "      <td>...</td>\n",
       "      <td>2008-11-09T01:34:31.000Z</td>\n",
       "      <td>10296</td>\n",
       "      <td>37</td>\n",
       "      <td>8251061</td>\n",
       "      <td>3</td>\n",
       "      <td>0.0</td>\n",
       "      <td>2.0</td>\n",
       "      <td>3.0</td>\n",
       "      <td>2010-05-17T10:15:48.000Z</td>\n",
       "      <td>1392.0</td>\n",
       "    </tr>\n",
       "    <tr>\n",
       "      <th>3</th>\n",
       "      <td>4</td>\n",
       "      <td>E--7XtuuqAg</td>\n",
       "      <td>Mooring Anchor Carry 120kg at Papar Strongestm...</td>\n",
       "      <td>Only manage 11 meters</td>\n",
       "      <td>0</td>\n",
       "      <td>0</td>\n",
       "      <td>56</td>\n",
       "      <td>0</td>\n",
       "      <td>0</td>\n",
       "      <td>2016-10-10T15:07:16.000Z</td>\n",
       "      <td>...</td>\n",
       "      <td>2011-05-11T22:51:09.000Z</td>\n",
       "      <td>288</td>\n",
       "      <td>79</td>\n",
       "      <td>123988</td>\n",
       "      <td>5</td>\n",
       "      <td>0.0</td>\n",
       "      <td>0.0</td>\n",
       "      <td>0.0</td>\n",
       "      <td>2016-10-10T15:01:02.000Z</td>\n",
       "      <td>74.0</td>\n",
       "    </tr>\n",
       "    <tr>\n",
       "      <th>4</th>\n",
       "      <td>5</td>\n",
       "      <td>fdsppIOelPw</td>\n",
       "      <td>Tire Flip 450kg at Papar Strongestman 2016</td>\n",
       "      <td>450kg x 5 flips</td>\n",
       "      <td>0</td>\n",
       "      <td>0</td>\n",
       "      <td>74</td>\n",
       "      <td>0</td>\n",
       "      <td>0</td>\n",
       "      <td>2016-10-10T15:01:02.000Z</td>\n",
       "      <td>...</td>\n",
       "      <td>2011-05-11T22:51:09.000Z</td>\n",
       "      <td>288</td>\n",
       "      <td>79</td>\n",
       "      <td>123988</td>\n",
       "      <td>6</td>\n",
       "      <td>0.0</td>\n",
       "      <td>0.0</td>\n",
       "      <td>0.0</td>\n",
       "      <td>2016-10-10T14:59:15.000Z</td>\n",
       "      <td>46.0</td>\n",
       "    </tr>\n",
       "  </tbody>\n",
       "</table>\n",
       "<p>5 rows × 23 columns</p>\n",
       "</div>"
      ],
      "text/plain": [
       "   rowHash           Id                                              Title  \\\n",
       "0        0  Scp3JH3eVLw                        Depeche Mode   It's No Good   \n",
       "1        1  wLqmkz6u8G4                the best of Jay cutler Dorian Yates   \n",
       "2        2  nKMsh79uOcM             Iron Man Andy photos   NO PAIN NO GAIN   \n",
       "3        4  E--7XtuuqAg  Mooring Anchor Carry 120kg at Papar Strongestm...   \n",
       "4        5  fdsppIOelPw         Tire Flip 450kg at Papar Strongestman 2016   \n",
       "\n",
       "                            Description  LikeCount  DislikeCount  ViewCount  \\\n",
       "0                          DANCA MUITO.          0             0         18   \n",
       "1             Jay cutler e Dorian Yates         14             2       3911   \n",
       "2  Iron Man Andy muscle NO PAIN NO GAIN          8             2       3853   \n",
       "3                 Only manage 11 meters          0             0         56   \n",
       "4                       450kg x 5 flips          0             0         74   \n",
       "\n",
       "   FavoriteCount  CommentCount               PublishedAt      ...        \\\n",
       "0              0             0  2017-06-25T19:12:16.000Z      ...         \n",
       "1              0             0  2012-03-28T18:01:31.000Z      ...         \n",
       "2              0             5  2010-08-23T16:12:50.000Z      ...         \n",
       "3              0             0  2016-10-10T15:07:16.000Z      ...         \n",
       "4              0             0  2016-10-10T15:01:02.000Z      ...         \n",
       "\n",
       "                publishedAt subscriberCount channelVideoCount  \\\n",
       "0  2008-11-09T01:34:31.000Z           10296                37   \n",
       "1  2008-11-09T01:34:31.000Z           10296                37   \n",
       "2  2008-11-09T01:34:31.000Z           10296                37   \n",
       "3  2011-05-11T22:51:09.000Z             288                79   \n",
       "4  2011-05-11T22:51:09.000Z             288                79   \n",
       "\n",
       "  channelViewCount  nextHash  PrevCommentCount  PrevDislikeCount  \\\n",
       "0          8251061         1               0.0               2.0   \n",
       "1          8251061         2               5.0               2.0   \n",
       "2          8251061         3               0.0               2.0   \n",
       "3           123988         5               0.0               0.0   \n",
       "4           123988         6               0.0               0.0   \n",
       "\n",
       "  PrevLikeCount           PrevPublishedAt  PrevViewCount  \n",
       "0          14.0  2012-03-28T18:01:31.000Z         3911.0  \n",
       "1           8.0  2010-08-23T16:12:50.000Z         3853.0  \n",
       "2           3.0  2010-05-17T10:15:48.000Z         1392.0  \n",
       "3           0.0  2016-10-10T15:01:02.000Z           74.0  \n",
       "4           0.0  2016-10-10T14:59:15.000Z           46.0  \n",
       "\n",
       "[5 rows x 23 columns]"
      ]
     },
     "execution_count": 514,
     "metadata": {},
     "output_type": "execute_result"
    }
   ],
   "source": [
    "allDF.head()"
   ]
  },
  {
   "cell_type": "code",
   "execution_count": null,
   "metadata": {
    "collapsed": true
   },
   "outputs": [],
   "source": []
  }
 ],
 "metadata": {
  "kernelspec": {
   "display_name": "Python 2",
   "language": "python",
   "name": "python2"
  },
  "language_info": {
   "codemirror_mode": {
    "name": "ipython",
    "version": 2
   },
   "file_extension": ".py",
   "mimetype": "text/x-python",
   "name": "python",
   "nbconvert_exporter": "python",
   "pygments_lexer": "ipython2",
   "version": "2.7.13"
  }
 },
 "nbformat": 4,
 "nbformat_minor": 2
}
