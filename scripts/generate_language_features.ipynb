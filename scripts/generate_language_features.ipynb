{
 "cells": [
  {
   "cell_type": "code",
   "execution_count": 1,
   "metadata": {
    "collapsed": true
   },
   "outputs": [],
   "source": [
    "%matplotlib inline\n",
    "import pandas as pd\n",
    "import numpy as np\n",
    "import matplotlib.pyplot as plt\n",
    "import seaborn as sns\n",
    "from scipy import stats\n",
    "from ast import literal_eval\n",
    "from sklearn.feature_extraction.text import TfidfVectorizer, CountVectorizer\n",
    "from sklearn.metrics.pairwise import linear_kernel, cosine_similarity\n",
    "from nltk.stem.snowball import SnowballStemmer\n",
    "from nltk.stem.wordnet import WordNetLemmatizer\n",
    "from nltk.corpus import wordnet\n",
    "from langdetect import detect\n",
    "import csv\n",
    "import requests\n",
    "import urllib2\n",
    "from lxml import html, etree\n",
    "import json\n",
    "\n",
    "import warnings; warnings.simplefilter('ignore')"
   ]
  },
  {
   "cell_type": "markdown",
   "metadata": {},
   "source": [
    "# Load Data"
   ]
  },
  {
   "cell_type": "code",
   "execution_count": 42,
   "metadata": {
    "collapsed": true
   },
   "outputs": [],
   "source": [
    "# Channel stats\n",
    "dfChannel = pd.read_csv('../data/channelStats.csv')\n",
    "\n",
    "# All Channels\n",
    "df = pd.read_csv('../data/videoStats_known_channels.csv', encoding = 'latin-1')"
   ]
  },
  {
   "cell_type": "code",
   "execution_count": 3,
   "metadata": {},
   "outputs": [
    {
     "data": {
      "text/html": [
       "<div>\n",
       "<style>\n",
       "    .dataframe thead tr:only-child th {\n",
       "        text-align: right;\n",
       "    }\n",
       "\n",
       "    .dataframe thead th {\n",
       "        text-align: left;\n",
       "    }\n",
       "\n",
       "    .dataframe tbody tr th {\n",
       "        vertical-align: top;\n",
       "    }\n",
       "</style>\n",
       "<table border=\"1\" class=\"dataframe\">\n",
       "  <thead>\n",
       "    <tr style=\"text-align: right;\">\n",
       "      <th></th>\n",
       "      <th>Id</th>\n",
       "      <th>Title</th>\n",
       "      <th>Description</th>\n",
       "      <th>LikeCount</th>\n",
       "      <th>DislikeCount</th>\n",
       "      <th>ViewCount</th>\n",
       "      <th>FavoriteCount</th>\n",
       "      <th>CommentCount</th>\n",
       "      <th>PublishedAt</th>\n",
       "      <th>Channel Id</th>\n",
       "      <th>Channel Title</th>\n",
       "    </tr>\n",
       "  </thead>\n",
       "  <tbody>\n",
       "    <tr>\n",
       "      <th>0</th>\n",
       "      <td>9rHI5zRctn0</td>\n",
       "      <td>Cachorro mais forte do mundo</td>\n",
       "      <td>NaN</td>\n",
       "      <td>0</td>\n",
       "      <td>0</td>\n",
       "      <td>36</td>\n",
       "      <td>0</td>\n",
       "      <td>0</td>\n",
       "      <td>2017-11-10T14:55:18.000Z</td>\n",
       "      <td>UCa0o4WDOq1kJAyMETrPnpQg</td>\n",
       "      <td>narakyyagamy</td>\n",
       "    </tr>\n",
       "    <tr>\n",
       "      <th>1</th>\n",
       "      <td>LUNnmpxR0AI</td>\n",
       "      <td>Baleia Encalhada na praia</td>\n",
       "      <td>NaN</td>\n",
       "      <td>0</td>\n",
       "      <td>0</td>\n",
       "      <td>42</td>\n",
       "      <td>0</td>\n",
       "      <td>0</td>\n",
       "      <td>2017-11-10T03:34:55.000Z</td>\n",
       "      <td>UCa0o4WDOq1kJAyMETrPnpQg</td>\n",
       "      <td>narakyyagamy</td>\n",
       "    </tr>\n",
       "    <tr>\n",
       "      <th>2</th>\n",
       "      <td>8NRkk_ncXxQ</td>\n",
       "      <td>Arrancando o Maior dente do mundo</td>\n",
       "      <td>Super dente arrancado.</td>\n",
       "      <td>0</td>\n",
       "      <td>1</td>\n",
       "      <td>158</td>\n",
       "      <td>0</td>\n",
       "      <td>0</td>\n",
       "      <td>2017-10-13T22:24:18.000Z</td>\n",
       "      <td>UCa0o4WDOq1kJAyMETrPnpQg</td>\n",
       "      <td>narakyyagamy</td>\n",
       "    </tr>\n",
       "    <tr>\n",
       "      <th>3</th>\n",
       "      <td>2PlglUM_97U</td>\n",
       "      <td>Manobra Jetski</td>\n",
       "      <td>RÃ© engatada e acelerando forte</td>\n",
       "      <td>0</td>\n",
       "      <td>1</td>\n",
       "      <td>31</td>\n",
       "      <td>0</td>\n",
       "      <td>0</td>\n",
       "      <td>2017-10-13T22:16:33.000Z</td>\n",
       "      <td>UCa0o4WDOq1kJAyMETrPnpQg</td>\n",
       "      <td>narakyyagamy</td>\n",
       "    </tr>\n",
       "    <tr>\n",
       "      <th>4</th>\n",
       "      <td>0Lqfk3AcGNo</td>\n",
       "      <td>Caribe de SÃ£o Paulo</td>\n",
       "      <td>Mar Azul em  litoral sul  Sp. Coisa linda</td>\n",
       "      <td>0</td>\n",
       "      <td>0</td>\n",
       "      <td>36</td>\n",
       "      <td>0</td>\n",
       "      <td>0</td>\n",
       "      <td>2017-10-13T22:12:22.000Z</td>\n",
       "      <td>UCa0o4WDOq1kJAyMETrPnpQg</td>\n",
       "      <td>narakyyagamy</td>\n",
       "    </tr>\n",
       "  </tbody>\n",
       "</table>\n",
       "</div>"
      ],
      "text/plain": [
       "            Id                              Title  \\\n",
       "0  9rHI5zRctn0       Cachorro mais forte do mundo   \n",
       "1  LUNnmpxR0AI          Baleia Encalhada na praia   \n",
       "2  8NRkk_ncXxQ  Arrancando o Maior dente do mundo   \n",
       "3  2PlglUM_97U                     Manobra Jetski   \n",
       "4  0Lqfk3AcGNo               Caribe de SÃ£o Paulo   \n",
       "\n",
       "                                 Description  LikeCount  DislikeCount  \\\n",
       "0                                        NaN          0             0   \n",
       "1                                        NaN          0             0   \n",
       "2                     Super dente arrancado.          0             1   \n",
       "3            RÃ© engatada e acelerando forte          0             1   \n",
       "4  Mar Azul em  litoral sul  Sp. Coisa linda          0             0   \n",
       "\n",
       "   ViewCount  FavoriteCount  CommentCount               PublishedAt  \\\n",
       "0         36              0             0  2017-11-10T14:55:18.000Z   \n",
       "1         42              0             0  2017-11-10T03:34:55.000Z   \n",
       "2        158              0             0  2017-10-13T22:24:18.000Z   \n",
       "3         31              0             0  2017-10-13T22:16:33.000Z   \n",
       "4         36              0             0  2017-10-13T22:12:22.000Z   \n",
       "\n",
       "                 Channel Id Channel Title  \n",
       "0  UCa0o4WDOq1kJAyMETrPnpQg  narakyyagamy  \n",
       "1  UCa0o4WDOq1kJAyMETrPnpQg  narakyyagamy  \n",
       "2  UCa0o4WDOq1kJAyMETrPnpQg  narakyyagamy  \n",
       "3  UCa0o4WDOq1kJAyMETrPnpQg  narakyyagamy  \n",
       "4  UCa0o4WDOq1kJAyMETrPnpQg  narakyyagamy  "
      ]
     },
     "execution_count": 3,
     "metadata": {},
     "output_type": "execute_result"
    }
   ],
   "source": [
    "df.head()"
   ]
  },
  {
   "cell_type": "code",
   "execution_count": 4,
   "metadata": {
    "collapsed": true
   },
   "outputs": [],
   "source": [
    "titleList = df['Title'].tolist()"
   ]
  },
  {
   "cell_type": "markdown",
   "metadata": {},
   "source": [
    "# Get Language"
   ]
  },
  {
   "cell_type": "code",
   "execution_count": 7,
   "metadata": {},
   "outputs": [
    {
     "name": "stderr",
     "output_type": "stream",
     "text": [
      "  0% |                                                                        |\r"
     ]
    },
    {
     "name": "stdout",
     "output_type": "stream",
     "text": [
      "4\n"
     ]
    },
    {
     "name": "stderr",
     "output_type": "stream",
     "text": [
      "  5% |###                                                                     |\r"
     ]
    },
    {
     "name": "stdout",
     "output_type": "stream",
     "text": [
      "ÐÐ°Ñ ÐÑÐ½ - Ð§Ð¸Ð¾-Ð§Ð¸Ð¾-Ð¡Ð°Ð½ 28.08.2016\n",
      "ÐÐ°ÑÐ¼ÐµÐ½ Ð§Ð°Ð¾, Ð±Ð°Ð¼Ð±Ð¸Ð½Ð¾\n",
      "53\n",
      "52\n",
      "50\n",
      "51\n"
     ]
    },
    {
     "name": "stderr",
     "output_type": "stream",
     "text": [
      "  6% |####                                                                    |\r"
     ]
    },
    {
     "name": "stdout",
     "output_type": "stream",
     "text": [
      "205\n"
     ]
    },
    {
     "name": "stderr",
     "output_type": "stream",
     "text": [
      "  7% |#####                                                                   |\r"
     ]
    },
    {
     "name": "stdout",
     "output_type": "stream",
     "text": [
      "...\n",
      "...\n",
      "9302006\n",
      "23\n",
      "22\n",
      "21\n"
     ]
    },
    {
     "name": "stderr",
     "output_type": "stream",
     "text": [
      "  9% |######                                                                  |\r"
     ]
    },
    {
     "name": "stdout",
     "output_type": "stream",
     "text": [
      "20130722 060817\n",
      "20130715 063008\n"
     ]
    },
    {
     "name": "stderr",
     "output_type": "stream",
     "text": [
      " 10% |#######                                                                 |\r"
     ]
    },
    {
     "name": "stdout",
     "output_type": "stream",
     "text": [
      "20140307 122514\n",
      "20140307 121716\n",
      "20140306 125238\n",
      "ÐÑÐ¾Ñ",
      "Ð¾Ð´ÐºÐ° 11.06.13 Ð¢ÑÐ¶ÐµÐ»Ð°Ñ Ð°ÑÐ»ÐµÑÐ¸ÐºÐ°\n",
      "75\n",
      "74\n",
      "73\n"
     ]
    },
    {
     "name": "stderr",
     "output_type": "stream",
     "text": [
      " 12% |########                                                                |\r"
     ]
    },
    {
     "name": "stdout",
     "output_type": "stream",
     "text": [
      "...\n"
     ]
    },
    {
     "name": "stderr",
     "output_type": "stream",
     "text": [
      " 14% |##########                                                              |\r"
     ]
    },
    {
     "name": "stdout",
     "output_type": "stream",
     "text": [
      "100 0839\n"
     ]
    },
    {
     "name": "stderr",
     "output_type": "stream",
     "text": [
      " 15% |##########                                                              |\r"
     ]
    },
    {
     "name": "stdout",
     "output_type": "stream",
     "text": [
      "2016 02 21 10 43 29\n",
      "2016 02 13 11 16 54\n"
     ]
    },
    {
     "name": "stderr",
     "output_type": "stream",
     "text": [
      " 16% |###########                                                             |\r"
     ]
    },
    {
     "name": "stdout",
     "output_type": "stream",
     "text": [
      "495 , 500\n",
      "435, 405\n",
      "315\n",
      "440\n",
      "425\n",
      "460\n",
      "435\n",
      "425\n",
      "20150314 174944 5740\n",
      "385 405 425\n",
      "345,365,370,360\n",
      "335\n",
      "180\n",
      "2013 02 23 09 45 52 137\n"
     ]
    },
    {
     "name": "stderr",
     "output_type": "stream",
     "text": [
      " 18% |############                                                            |\r"
     ]
    },
    {
     "name": "stdout",
     "output_type": "stream",
     "text": [
      "190...\n",
      "6/12/2014\n",
      "31012009056\n"
     ]
    },
    {
     "name": "stderr",
     "output_type": "stream",
     "text": [
      " 21% |###############                                                         |\r"
     ]
    },
    {
     "name": "stdout",
     "output_type": "stream",
     "text": [
      "234\n",
      "281\n",
      "280\n",
      "250\n",
      "249\n",
      "248\n",
      "238\n"
     ]
    },
    {
     "name": "stderr",
     "output_type": "stream",
     "text": [
      " 22% |###############                                                         |\r"
     ]
    },
    {
     "name": "stdout",
     "output_type": "stream",
     "text": [
      "11/1/2011 17:21\n"
     ]
    },
    {
     "name": "stderr",
     "output_type": "stream",
     "text": [
      " 26% |##################                                                      |\r"
     ]
    },
    {
     "name": "stdout",
     "output_type": "stream",
     "text": [
      "Ð¨ÐºÐ¾Ð´Ð° Ð¡ÑÐ¿ÐµÑ Ð\n"
     ]
    },
    {
     "name": "stderr",
     "output_type": "stream",
     "text": [
      " 27% |###################                                                     |\r"
     ]
    },
    {
     "name": "stdout",
     "output_type": "stream",
     "text": [
      "97\n",
      "1812\n"
     ]
    },
    {
     "name": "stderr",
     "output_type": "stream",
     "text": [
      " 28% |####################                                                    |\r"
     ]
    },
    {
     "name": "stdout",
     "output_type": "stream",
     "text": [
      "20130330_143011\n",
      "21\n",
      "20\n",
      "16\n",
      "2013-09-23_16-42-09_836\n"
     ]
    },
    {
     "name": "stderr",
     "output_type": "stream",
     "text": [
      " 29% |####################                                                    |\r"
     ]
    },
    {
     "name": "stdout",
     "output_type": "stream",
     "text": [
      "2014 09 06 11 46 35\n",
      "2014 09 06 13 44 44\n",
      "9\n"
     ]
    },
    {
     "name": "stderr",
     "output_type": "stream",
     "text": [
      " 30% |#####################                                                   |\r"
     ]
    },
    {
     "name": "stdout",
     "output_type": "stream",
     "text": [
      "20160806 124110 1\n"
     ]
    },
    {
     "name": "stderr",
     "output_type": "stream",
     "text": [
      " 35% |#########################                                               |\r"
     ]
    },
    {
     "name": "stdout",
     "output_type": "stream",
     "text": [
      "11/11/2017\n"
     ]
    },
    {
     "name": "stderr",
     "output_type": "stream",
     "text": [
      " 36% |#########################                                               |\r"
     ]
    },
    {
     "name": "stdout",
     "output_type": "stream",
     "text": [
      "3/16/2010 19:31\n",
      "3/16/2010 19:25\n"
     ]
    },
    {
     "name": "stderr",
     "output_type": "stream",
     "text": [
      " 39% |############################                                            |\r"
     ]
    },
    {
     "name": "stdout",
     "output_type": "stream",
     "text": [
      "100 7625\n",
      "1027121824\n"
     ]
    },
    {
     "name": "stderr",
     "output_type": "stream",
     "text": [
      " 40% |############################                                            |\r"
     ]
    },
    {
     "name": "stdout",
     "output_type": "stream",
     "text": [
      "84\n"
     ]
    },
    {
     "name": "stderr",
     "output_type": "stream",
     "text": [
      " 41% |#############################                                           |\r"
     ]
    },
    {
     "name": "stdout",
     "output_type": "stream",
     "text": [
      "1/31/2014\n",
      "12/23/2012\n",
      "3\n",
      "ÑÑÑÐ±Ð¾Ð»ÑÐ½ÑÐµ Ð´ÑÐ°ÐºÐ¸\n"
     ]
    },
    {
     "name": "stderr",
     "output_type": "stream",
     "text": [
      " 44% |###############################                                         |\r"
     ]
    },
    {
     "name": "stdout",
     "output_type": "stream",
     "text": [
      "20140724 195005\n",
      "20140724 200143\n",
      "20140724 185601\n",
      "20140724 185354\n"
     ]
    },
    {
     "name": "stderr",
     "output_type": "stream",
     "text": [
      " 45% |################################                                        |\r"
     ]
    },
    {
     "name": "stdout",
     "output_type": "stream",
     "text": [
      "6/16/2011 21:00\n",
      "6/16/2011 21:12\n",
      "6/15/2011 21:17\n",
      "6/15/2011 21:21\n",
      "20160107 170927\n"
     ]
    },
    {
     "name": "stderr",
     "output_type": "stream",
     "text": [
      " 47% |#################################                                       |\r"
     ]
    },
    {
     "name": "stdout",
     "output_type": "stream",
     "text": [
      "12/25/2012\n"
     ]
    },
    {
     "name": "stderr",
     "output_type": "stream",
     "text": [
      " 49% |###################################                                     |\r"
     ]
    },
    {
     "name": "stdout",
     "output_type": "stream",
     "text": [
      "200\n",
      "20131013 152729\n",
      "20131013 171503\n",
      "20131013 163503\n",
      "20131013 153834\n",
      "20131012 211146\n",
      "20131012 192751\n",
      "20131012 204901\n",
      "20131012 210105\n",
      "20131012 195148\n",
      "20131012 150703\n",
      "20131012 151731\n",
      "20131012 134505\n",
      "20131012 144444\n"
     ]
    },
    {
     "name": "stderr",
     "output_type": "stream",
     "text": [
      " 50% |####################################                                    |\r"
     ]
    },
    {
     "name": "stdout",
     "output_type": "stream",
     "text": [
      "93\n"
     ]
    },
    {
     "name": "stderr",
     "output_type": "stream",
     "text": [
      " 51% |####################################                                    |\r"
     ]
    },
    {
     "name": "stdout",
     "output_type": "stream",
     "text": [
      "10/3/2010 8:21\n"
     ]
    },
    {
     "name": "stderr",
     "output_type": "stream",
     "text": [
      " 53% |######################################                                  |\r"
     ]
    },
    {
     "name": "stdout",
     "output_type": "stream",
     "text": [
      "-\n",
      "429.7\n",
      "6/22/2012 15:01\n",
      "-3335413694\n"
     ]
    },
    {
     "name": "stderr",
     "output_type": "stream",
     "text": [
      " 54% |######################################                                  |\r"
     ]
    },
    {
     "name": "stdout",
     "output_type": "stream",
     "text": [
      "18.03.2013\n",
      "1/3/2017 18:31\n"
     ]
    },
    {
     "name": "stderr",
     "output_type": "stream",
     "text": [
      " 57% |#########################################                               |\r"
     ]
    },
    {
     "name": "stdout",
     "output_type": "stream",
     "text": [
      "20091026001\n",
      "20090813001\n",
      "20090807 001\n",
      "20090715\n",
      "20090618\n",
      "20090309001\n",
      "20080606\n",
      "20080526001\n",
      "20080507"
     ]
    },
    {
     "name": "stderr",
     "output_type": "stream",
     "text": [
      " 59% |##########################################                              |\r"
     ]
    },
    {
     "name": "stdout",
     "output_type": "stream",
     "text": [
      "\n",
      "7/5/2008\n",
      "00022_1\n"
     ]
    },
    {
     "name": "stderr",
     "output_type": "stream",
     "text": [
      " 60% |###########################################                             |\r"
     ]
    },
    {
     "name": "stdout",
     "output_type": "stream",
     "text": [
      "12/1/2012\n",
      "2011\n"
     ]
    },
    {
     "name": "stderr",
     "output_type": "stream",
     "text": [
      " 61% |###########################################                             |\r"
     ]
    },
    {
     "name": "stdout",
     "output_type": "stream",
     "text": [
      "ÐÑÐ¾ÑÑÐ¾ ÑÐ°Ð½Ñ 2 (12Ð°)\n"
     ]
    },
    {
     "name": "stderr",
     "output_type": "stream",
     "text": [
      " 63% |#############################################                           |\r"
     ]
    },
    {
     "name": "stdout",
     "output_type": "stream",
     "text": [
      "ÐÐµÐ¼Ð½Ð¾Ð³Ð¾ ÐºÐ¸ÑÐ°Ð¹ÑÐºÐ¾Ð³Ð¾ Ð¿Ð¸Ð»Ð¾Ð½Ð°\n",
      "ÐµÑÑ Ð½ÐµÐ¼Ð½Ð¾Ð³Ð¾ Ð°ÐºÑÑ))\n"
     ]
    },
    {
     "name": "stderr",
     "output_type": "stream",
     "text": [
      " 64% |##############################################                          |\r"
     ]
    },
    {
     "name": "stdout",
     "output_type": "stream",
     "text": [
      "Ð¤Ð¸ÑÐ½ÐµÑ Ð½ÑÑ ÐºÐ°ÑÐ¾Ðº\n",
      "ÐÐµÐ½ÑÐºÐ¸Ð¹ Ð¤Ð¸ÑÐ½ÐµÑ\n"
     ]
    },
    {
     "name": "stderr",
     "output_type": "stream",
     "text": [
      " 66% |###############################################                         |\r"
     ]
    },
    {
     "name": "stdout",
     "output_type": "stream",
     "text": [
      "2/1/2014\n"
     ]
    },
    {
     "name": "stderr",
     "output_type": "stream",
     "text": [
      " 69% |#################################################                       |\r"
     ]
    },
    {
     "name": "stdout",
     "output_type": "stream",
     "text": [
      "72\n",
      "71\n",
      "69\n",
      "70"
     ]
    },
    {
     "name": "stderr",
     "output_type": "stream",
     "text": [
      " 72% |###################################################                     |\r"
     ]
    },
    {
     "name": "stdout",
     "output_type": "stream",
     "text": [
      "\n",
      "1\n",
      "28\n"
     ]
    },
    {
     "name": "stderr",
     "output_type": "stream",
     "text": [
      " 73% |####################################################                    |\r"
     ]
    },
    {
     "name": "stdout",
     "output_type": "stream",
     "text": [
      "515!!\n",
      "100 1524\n"
     ]
    },
    {
     "name": "stderr",
     "output_type": "stream",
     "text": [
      " 75% |######################################################                  |\r"
     ]
    },
    {
     "name": "stdout",
     "output_type": "stream",
     "text": [
      "ÐÐ¾Ðµ ÑÐ»Ð°Ð¹Ð´-ÑÐ¾Ñ\n",
      "ÐÐ¾Ðµ ÑÐ»Ð°Ð¹Ð´-ÑÐ¾Ñ\n",
      "Ð¤Ð¸Ð½Ð¸Ñ\n",
      "ÐÐ¾Ð´Ð¸Ð±Ð¸Ð»Ð´Ð¸Ð½Ð³\n",
      "ÐÐ¾Ð´Ð¸Ð±Ð¸Ð»Ð´Ð¸Ð½Ð³ ÐÑÐ¸Ñ ÐÐ¾ÑÐ¼ÑÐµ\n",
      "ÐÐ¾Ð´Ð¸Ð±Ð¸Ð»Ð´Ð¸Ð½Ð³ ÐÑ",
      "Ð¸Ð¼ ÐÐ»ÑÐ±ÑÐµÑ",
      "Ñ\n",
      "ÐÐ¾Ð´Ð¸Ð±Ð¸Ð»Ð´Ð¸Ð½Ð³ ÐÐ½Ð´ÑÐµÐ°Ñ ÐÑÐ½ÑÐµÑ\n",
      "ÐÐ¾Ð´Ð¸Ð±Ð¸Ð»Ð´Ð¸Ð½Ð³ ÐÐ°Ð¹Ðº ÐÐ°ÑÐ°ÑÐ°ÑÑÐ¾\n",
      "ÐÐ¾Ð´Ð¸Ð±Ð¸Ð»Ð´Ð¸Ð½Ð³ ÐÐ¶ÐµÐ½Ð¸ÑÐµÑ ÐÐ±ÑÐ°Ð¼Ñ\n",
      "ÐÐ¾Ð´Ð¸Ð±Ð¸Ð»Ð´Ð¸Ð½Ð³ Ð¡Ð°Ð»Ð°Ñ",
      "Ð°Ð´Ð´Ð¸Ð½ ÐÐ±ÑÑÐ°Ð½Ð°Ñ\n",
      "ÐÐ¾Ð´Ð¸Ð±Ð¸Ð»Ð´Ð¸Ð½Ð³ Ð¡Ð¾Ð½Ð½Ð¸ Ð¨Ð¼Ð¸Ð´Ñ\n",
      "ÐÐ¾Ð´Ð¸Ð±Ð¸Ð»Ð´Ð¸Ð½Ð³ Ð¤ÑÐ°Ð´ ÐÐ±Ð¸Ð°Ð´\n",
      "ÐÐ¾Ð´Ð¸Ð±Ð¸Ð»Ð´Ð¸Ð½Ð³ ÐÐ³ÐµÐ»Ð»Ð¸ ÐÐ±Ð±Ð°Ñ\n",
      "ÐÐ¾Ð´Ð¸Ð±Ð¸Ð»Ð´Ð¸Ð½Ð³ ÐÑÐ¼Ð¾Ð½ ÐÐ´Ð¸Ð±Ð¸\n",
      "ÐÐ¾Ð´Ð¸Ð±Ð¸Ð»Ð´Ð¸Ð½Ð³ Ð¤ÐµÑÐ½Ð°Ð½Ð´Ð¾ ÐÐ±Ð°ÐºÐ¾\n",
      "ÐÐ¾Ð´Ð¸Ð±Ð¸Ð»Ð´Ð¸Ð½Ð³ ÐÐ¾Ð¹ÐµÑ ÐÐ¾\n",
      "ÐÐ¾Ð´Ð¸Ð±Ð¸Ð»Ð´Ð¸Ð½Ð³ Ð Ð¾Ð½Ð½Ð¸ Ð Ð¾ÐºÐµÐ»\n"
     ]
    },
    {
     "name": "stderr",
     "output_type": "stream",
     "text": [
      " 76% |######################################################                  |\r"
     ]
    },
    {
     "name": "stdout",
     "output_type": "stream",
     "text": [
      "2727\n"
     ]
    },
    {
     "name": "stderr",
     "output_type": "stream",
     "text": [
      " 77% |#######################################################                 |\r"
     ]
    },
    {
     "name": "stdout",
     "output_type": "stream",
     "text": [
      "463\n"
     ]
    },
    {
     "name": "stderr",
     "output_type": "stream",
     "text": [
      " 80% |#########################################################               |\r"
     ]
    },
    {
     "name": "stdout",
     "output_type": "stream",
     "text": [
      "102 2153\n"
     ]
    },
    {
     "name": "stderr",
     "output_type": "stream",
     "text": [
      " 83% |###########################################################             |\r"
     ]
    },
    {
     "name": "stdout",
     "output_type": "stream",
     "text": [
      "2007\n"
     ]
    },
    {
     "name": "stderr",
     "output_type": "stream",
     "text": [
      " 86% |#############################################################           |\r"
     ]
    },
    {
     "name": "stdout",
     "output_type": "stream",
     "text": [
      "8\n",
      "14\n",
      "7\n",
      "12\n",
      "11\n",
      "9\n",
      "5\n",
      "10\n",
      "13\n",
      "6\n",
      "2\n",
      "3\n",
      "4\n",
      "1\n"
     ]
    },
    {
     "name": "stderr",
     "output_type": "stream",
     "text": [
      " 87% |##############################################################          |\r"
     ]
    },
    {
     "name": "stdout",
     "output_type": "stream",
     "text": [
      "10/20/2012\n",
      "2011\n"
     ]
    },
    {
     "name": "stderr",
     "output_type": "stream",
     "text": [
      " 88% |###############################################################         |\r"
     ]
    },
    {
     "name": "stdout",
     "output_type": "stream",
     "text": [
      "3\n",
      "100 4811\n",
      "ÐÐ°ÑÐºÐ¾ Ð¸ Ð¡ÑÐµÑÐ°Ð½- ÐÐ°ÑÐ¸ Ðº** Ð´Ð° Ð¿ÑÑÐ¸\n"
     ]
    },
    {
     "name": "stderr",
     "output_type": "stream",
     "text": [
      " 89% |################################################################        |\r"
     ]
    },
    {
     "name": "stdout",
     "output_type": "stream",
     "text": [
      "4 ÑÑÐ°Ð¿ Ð§ÐµÐ¼Ð¿Ð¸Ð¾Ð½Ð°ÑÐ° Ð Ð¾ÑÑÐ¸Ð¸ 2008\n",
      "ÐÐ¾Ð¼Ð°Ð½Ð´Ð½ÑÐ¹ Ð§ÐµÐ¼Ð¿Ð¸Ð¾Ð½Ð°Ñ ÐÐ¸ÑÐ° - 2006 Ð³Ð¾Ð´Ð° (Ð¤Ð¸Ð½Ð°Ð»)\n",
      "ÐÐ¾Ð¼Ð°Ð½Ð´Ð½ÑÐ¹ Ð§ÐµÐ¼Ð¿Ð¸Ð¾Ð½Ð°Ñ ÐÐ¸ÑÐ° - 2006 Ð³Ð¾Ð´Ð°\n",
      "310\n",
      "235\n",
      "300"
     ]
    },
    {
     "name": "stderr",
     "output_type": "stream",
     "text": [
      " 90% |################################################################        |\r"
     ]
    },
    {
     "name": "stdout",
     "output_type": "stream",
     "text": [
      "\n",
      "0117 6636\n",
      "11\n"
     ]
    },
    {
     "name": "stderr",
     "output_type": "stream",
     "text": [
      " 94% |###################################################################     |\r"
     ]
    },
    {
     "name": "stdout",
     "output_type": "stream",
     "text": [
      "...\n",
      "0:52\n"
     ]
    },
    {
     "name": "stderr",
     "output_type": "stream",
     "text": [
      " 95% |####################################################################    |\r"
     ]
    },
    {
     "name": "stdout",
     "output_type": "stream",
     "text": [
      "ÐÐ°ÐºÑÐ¸Ð¼ ÐÑÑÐ¸Ð»ÐµÐ½ÐºÐ¾\n"
     ]
    },
    {
     "name": "stderr",
     "output_type": "stream",
     "text": [
      " 96% |#####################################################################   |\r"
     ]
    },
    {
     "name": "stdout",
     "output_type": "stream",
     "text": [
      "49\n"
     ]
    },
    {
     "name": "stderr",
     "output_type": "stream",
     "text": [
      " 98% |######################################################################  |\r"
     ]
    },
    {
     "name": "stdout",
     "output_type": "stream",
     "text": [
      "3/12/2011 8:55\n"
     ]
    },
    {
     "name": "stderr",
     "output_type": "stream",
     "text": [
      "100% |########################################################################|\n"
     ]
    }
   ],
   "source": [
    "import progressbar\n",
    "bar = progressbar.ProgressBar()\n",
    "\n",
    "df['Lang'] = False\n",
    "for idx in bar(titleList):\n",
    "    try: \n",
    "        if(detect(idx) != 'en'):\n",
    "            df['Lang'][idx] = False\n",
    "        else:\n",
    "            df['Lang'][idx] = True\n",
    "    except:\n",
    "        print idx\n",
    "        df['Lang'][idx] = False"
   ]
  },
  {
   "cell_type": "code",
   "execution_count": 195,
   "metadata": {},
   "outputs": [],
   "source": [
    "tempdf = df\n",
    "#tempdf.to_csv(\"channel_lang_part1_check.csv\")"
   ]
  },
  {
   "cell_type": "code",
   "execution_count": 196,
   "metadata": {},
   "outputs": [],
   "source": [
    "import datetime\n",
    "def is_ascii(s):\n",
    "    return all(ord(c) < 128 for c in s)\n",
    "\n",
    "def containsdate(s):\n",
    "    return ('2008' in s or \n",
    "            '2009' in s or \n",
    "            '2010' in s or \n",
    "            '2011' in s or \n",
    "            '2012' in s or \n",
    "            '2013' in s or \n",
    "            '2014' in s or \n",
    "            '2015' in s or \n",
    "            ' 2016' in s or \n",
    "            '2017' in s)\n",
    "\n",
    "def containsthreechar(s):\n",
    "    i =0\n",
    "    for char in s:\n",
    "        if char.isalpha():\n",
    "            i = i + 1\n",
    "    return i >= 3\n",
    "tempdf['Lang'] = tempdf['Title'].apply(lambda x: detect(x) if (is_ascii(x) and not x.isdigit() and len(x) > 3 and containsthreechar(x)) else None)\n"
   ]
  },
  {
   "cell_type": "code",
   "execution_count": 197,
   "metadata": {},
   "outputs": [],
   "source": [
    "tempdf.to_csv(\"channel_lang_final.csv\")"
   ]
  },
  {
   "cell_type": "code",
   "execution_count": 198,
   "metadata": {
    "collapsed": true
   },
   "outputs": [],
   "source": [
    "print \"DONE!\""
   ]
  },
  {
   "cell_type": "code",
   "execution_count": 199,
   "metadata": {
    "collapsed": true
   },
   "outputs": [],
   "source": [
    "print \"DONE\""
   ]
  },
  {
   "cell_type": "code",
   "execution_count": null,
   "metadata": {
    "collapsed": true
   },
   "outputs": [],
   "source": []
  }
 ],
 "metadata": {
  "kernelspec": {
   "display_name": "Python 2",
   "language": "python",
   "name": "python2"
  },
  "language_info": {
   "codemirror_mode": {
    "name": "ipython",
    "version": 2
   },
   "file_extension": ".py",
   "mimetype": "text/x-python",
   "name": "python",
   "nbconvert_exporter": "python",
   "pygments_lexer": "ipython2",
   "version": "2.7.13"
  }
 },
 "nbformat": 4,
 "nbformat_minor": 2
}
