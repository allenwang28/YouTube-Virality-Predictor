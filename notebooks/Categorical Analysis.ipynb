{
 "cells": [
  {
   "cell_type": "code",
   "execution_count": 1,
   "metadata": {
    "collapsed": true
   },
   "outputs": [],
   "source": [
    "%matplotlib inline\n",
    "import pandas as pd\n",
    "import numpy as np\n",
    "import matplotlib.pyplot as plt\n",
    "import seaborn as sns\n",
    "from scipy import stats\n",
    "from ast import literal_eval\n",
    "from sklearn.feature_extraction.text import TfidfVectorizer, CountVectorizer\n",
    "from sklearn.metrics.pairwise import linear_kernel, cosine_similarity\n",
    "from nltk.stem.snowball import SnowballStemmer\n",
    "from nltk.stem.wordnet import WordNetLemmatizer\n",
    "from nltk.corpus import wordnet\n",
    "from langdetect import detect\n",
    "\n",
    "import warnings; warnings.simplefilter('ignore')"
   ]
  },
  {
   "cell_type": "markdown",
   "metadata": {},
   "source": [
    "# Categorizing Videos By Text"
   ]
  },
  {
   "cell_type": "code",
   "execution_count": 2,
   "metadata": {
    "collapsed": true
   },
   "outputs": [],
   "source": [
    "# Video Related Features\n",
    "dfData = pd.read_csv('../data/cleaned_subset.csv')\n",
    "dfImText = pd.read_csv('../data/image_text.csv')\n",
    "dfNSFW = pd.read_csv('../data/virality_nsfw.csv')\n",
    "dfLang = pd.read_csv('../data/data_and_language.csv')\n",
    "dfClickBait = pd.read_csv('../data/clickbait.csv')\n",
    "# Channel stats\n",
    "dfChannel = pd.read_csv('../data/channelStats.csv')"
   ]
  },
  {
   "cell_type": "code",
   "execution_count": 3,
   "metadata": {
    "collapsed": true
   },
   "outputs": [],
   "source": [
    "dfNSFW.rename(columns={'video_id' : 'Id'}, inplace = True)"
   ]
  },
  {
   "cell_type": "code",
   "execution_count": 4,
   "metadata": {
    "collapsed": true
   },
   "outputs": [],
   "source": [
    "dfData = dfData.merge(dfLang,on='Id',how='left')\n",
    "dfData = dfData.merge(dfImText,on='Id',how='left')\n",
    "dfData = dfData.merge(dfNSFW,on='Id',how='left')\n",
    "dfData = dfData.merge(dfClickBait,on='Id',how = 'left')\n",
    "dfData = dfData.merge(dfChannel,on='Channel Id',how='left')\n"
   ]
  },
  {
   "cell_type": "code",
   "execution_count": 5,
   "metadata": {
    "collapsed": true
   },
   "outputs": [],
   "source": [
    "dfData = dfData[dfData['channelVideoCount']<2000]\n",
    "dfData = dfData[dfData['subscriberCount'] >0]\n",
    "dfData = dfData[dfData['Lang']=='en']"
   ]
  },
  {
   "cell_type": "code",
   "execution_count": 6,
   "metadata": {},
   "outputs": [
    {
     "data": {
      "text/html": [
       "<div>\n",
       "<style>\n",
       "    .dataframe thead tr:only-child th {\n",
       "        text-align: right;\n",
       "    }\n",
       "\n",
       "    .dataframe thead th {\n",
       "        text-align: left;\n",
       "    }\n",
       "\n",
       "    .dataframe tbody tr th {\n",
       "        vertical-align: top;\n",
       "    }\n",
       "</style>\n",
       "<table border=\"1\" class=\"dataframe\">\n",
       "  <thead>\n",
       "    <tr style=\"text-align: right;\">\n",
       "      <th></th>\n",
       "      <th>Id</th>\n",
       "      <th>Title</th>\n",
       "      <th>Description</th>\n",
       "      <th>LikeCount</th>\n",
       "      <th>DislikeCount</th>\n",
       "      <th>ViewCount</th>\n",
       "      <th>FavoriteCount</th>\n",
       "      <th>CommentCount</th>\n",
       "      <th>PublishedAt</th>\n",
       "      <th>Channel Id</th>\n",
       "      <th>...</th>\n",
       "      <th>Thumbnail Default</th>\n",
       "      <th>Lang</th>\n",
       "      <th>ImageText</th>\n",
       "      <th>ContainsText</th>\n",
       "      <th>nsfw_score</th>\n",
       "      <th>Title-Clickbait</th>\n",
       "      <th>publishedAt</th>\n",
       "      <th>subscriberCount</th>\n",
       "      <th>channelVideoCount</th>\n",
       "      <th>channelViewCount</th>\n",
       "    </tr>\n",
       "  </thead>\n",
       "  <tbody>\n",
       "    <tr>\n",
       "      <th>0</th>\n",
       "      <td>AUzyaHo0QQc</td>\n",
       "      <td>b'300 pushups a day for 20 days!! - Results!!'</td>\n",
       "      <td>b'**NEW** (2016) Abs Workout for 30 Days | htt...</td>\n",
       "      <td>40408</td>\n",
       "      <td>10312</td>\n",
       "      <td>13577683</td>\n",
       "      <td>0</td>\n",
       "      <td>8236</td>\n",
       "      <td>2010-07-22T10:28:30.000Z</td>\n",
       "      <td>UCPE_dNzOtjpP0vUA6papYaw</td>\n",
       "      <td>...</td>\n",
       "      <td>b'https://i.ytimg.com/vi/AUzyaHo0QQc/default.jpg'</td>\n",
       "      <td>en</td>\n",
       "      <td>{u'regions': [], u'orientation': u'NotDetected...</td>\n",
       "      <td>False</td>\n",
       "      <td>0.503699</td>\n",
       "      <td>0.923196</td>\n",
       "      <td>2009-12-22T03:47:24.000Z</td>\n",
       "      <td>47571</td>\n",
       "      <td>23</td>\n",
       "      <td>16245729</td>\n",
       "    </tr>\n",
       "    <tr>\n",
       "      <th>1</th>\n",
       "      <td>1Zgtdb7jp60</td>\n",
       "      <td>b'John Cena - gym'</td>\n",
       "      <td>b\"Follow John Cena on twitter: http://www.twit...</td>\n",
       "      <td>37867</td>\n",
       "      <td>1486</td>\n",
       "      <td>9986096</td>\n",
       "      <td>0</td>\n",
       "      <td>2563</td>\n",
       "      <td>2012-02-20T13:55:03.000Z</td>\n",
       "      <td>UCpAxDQTpPNgc6kFiBRNO_1A</td>\n",
       "      <td>...</td>\n",
       "      <td>b'https://i.ytimg.com/vi/1Zgtdb7jp60/default.jpg'</td>\n",
       "      <td>en</td>\n",
       "      <td>{u'regions': [], u'orientation': u'NotDetected...</td>\n",
       "      <td>False</td>\n",
       "      <td>0.911593</td>\n",
       "      <td>0.106193</td>\n",
       "      <td>2011-11-11T20:58:03.000Z</td>\n",
       "      <td>109298</td>\n",
       "      <td>6</td>\n",
       "      <td>47779958</td>\n",
       "    </tr>\n",
       "    <tr>\n",
       "      <th>2</th>\n",
       "      <td>1Sfii7rnkJQ</td>\n",
       "      <td>b'Bodybuilding Motivation - No Time To Waste'</td>\n",
       "      <td>b\"Follow me:\\nhttp://instagram.com/shaqx.bb\\nh...</td>\n",
       "      <td>17688</td>\n",
       "      <td>1291</td>\n",
       "      <td>8532402</td>\n",
       "      <td>0</td>\n",
       "      <td>1515</td>\n",
       "      <td>2012-01-18T15:06:01.000Z</td>\n",
       "      <td>UC3uDucFPe-E0I6CfxtHWZ6w</td>\n",
       "      <td>...</td>\n",
       "      <td>b'https://i.ytimg.com/vi/1Sfii7rnkJQ/default.jpg'</td>\n",
       "      <td>en</td>\n",
       "      <td>{u'regions': [], u'orientation': u'NotDetected...</td>\n",
       "      <td>False</td>\n",
       "      <td>0.263383</td>\n",
       "      <td>0.155738</td>\n",
       "      <td>2011-07-09T16:13:17.000Z</td>\n",
       "      <td>218558</td>\n",
       "      <td>19</td>\n",
       "      <td>75698414</td>\n",
       "    </tr>\n",
       "    <tr>\n",
       "      <th>3</th>\n",
       "      <td>UUwSKJjx9Go</td>\n",
       "      <td>b'Most Powerful Home Chest Workout Ever : Buil...</td>\n",
       "      <td>b'http://www.6weeksixpack.com This is one of t...</td>\n",
       "      <td>46293</td>\n",
       "      <td>2589</td>\n",
       "      <td>8301027</td>\n",
       "      <td>0</td>\n",
       "      <td>1490</td>\n",
       "      <td>2013-10-17T21:56:53.000Z</td>\n",
       "      <td>UCsiNPbLbwZk43FOCRrdKBlA</td>\n",
       "      <td>...</td>\n",
       "      <td>b'https://i.ytimg.com/vi/UUwSKJjx9Go/default.jpg'</td>\n",
       "      <td>en</td>\n",
       "      <td>{u'regions': [], u'orientation': u'NotDetected...</td>\n",
       "      <td>False</td>\n",
       "      <td>0.569090</td>\n",
       "      <td>0.075479</td>\n",
       "      <td>2006-08-07T08:12:53.000Z</td>\n",
       "      <td>1145468</td>\n",
       "      <td>585</td>\n",
       "      <td>186804665</td>\n",
       "    </tr>\n",
       "    <tr>\n",
       "      <th>4</th>\n",
       "      <td>Yl3NGvna2KA</td>\n",
       "      <td>b'Greg Plitt Best of The Best Workout Video Pr...</td>\n",
       "      <td>b'SIGN UP TODAY - http://bit.ly/jointheranks\\r...</td>\n",
       "      <td>24784</td>\n",
       "      <td>1134</td>\n",
       "      <td>7141821</td>\n",
       "      <td>0</td>\n",
       "      <td>575</td>\n",
       "      <td>2011-03-30T18:57:57.000Z</td>\n",
       "      <td>UCU6WaCIOCL_eToBcsBYFwAQ</td>\n",
       "      <td>...</td>\n",
       "      <td>b'https://i.ytimg.com/vi/Yl3NGvna2KA/default.jpg'</td>\n",
       "      <td>en</td>\n",
       "      <td>{u'regions': [], u'orientation': u'NotDetected...</td>\n",
       "      <td>False</td>\n",
       "      <td>0.287760</td>\n",
       "      <td>0.351647</td>\n",
       "      <td>2009-10-24T03:18:10.000Z</td>\n",
       "      <td>158091</td>\n",
       "      <td>22</td>\n",
       "      <td>9908854</td>\n",
       "    </tr>\n",
       "  </tbody>\n",
       "</table>\n",
       "<p>5 rows × 22 columns</p>\n",
       "</div>"
      ],
      "text/plain": [
       "            Id                                              Title  \\\n",
       "0  AUzyaHo0QQc     b'300 pushups a day for 20 days!! - Results!!'   \n",
       "1  1Zgtdb7jp60                                 b'John Cena - gym'   \n",
       "2  1Sfii7rnkJQ      b'Bodybuilding Motivation - No Time To Waste'   \n",
       "3  UUwSKJjx9Go  b'Most Powerful Home Chest Workout Ever : Buil...   \n",
       "4  Yl3NGvna2KA  b'Greg Plitt Best of The Best Workout Video Pr...   \n",
       "\n",
       "                                         Description  LikeCount  DislikeCount  \\\n",
       "0  b'**NEW** (2016) Abs Workout for 30 Days | htt...      40408         10312   \n",
       "1  b\"Follow John Cena on twitter: http://www.twit...      37867          1486   \n",
       "2  b\"Follow me:\\nhttp://instagram.com/shaqx.bb\\nh...      17688          1291   \n",
       "3  b'http://www.6weeksixpack.com This is one of t...      46293          2589   \n",
       "4  b'SIGN UP TODAY - http://bit.ly/jointheranks\\r...      24784          1134   \n",
       "\n",
       "   ViewCount  FavoriteCount  CommentCount               PublishedAt  \\\n",
       "0   13577683              0          8236  2010-07-22T10:28:30.000Z   \n",
       "1    9986096              0          2563  2012-02-20T13:55:03.000Z   \n",
       "2    8532402              0          1515  2012-01-18T15:06:01.000Z   \n",
       "3    8301027              0          1490  2013-10-17T21:56:53.000Z   \n",
       "4    7141821              0           575  2011-03-30T18:57:57.000Z   \n",
       "\n",
       "                 Channel Id        ...         \\\n",
       "0  UCPE_dNzOtjpP0vUA6papYaw        ...          \n",
       "1  UCpAxDQTpPNgc6kFiBRNO_1A        ...          \n",
       "2  UC3uDucFPe-E0I6CfxtHWZ6w        ...          \n",
       "3  UCsiNPbLbwZk43FOCRrdKBlA        ...          \n",
       "4  UCU6WaCIOCL_eToBcsBYFwAQ        ...          \n",
       "\n",
       "                                   Thumbnail Default Lang  \\\n",
       "0  b'https://i.ytimg.com/vi/AUzyaHo0QQc/default.jpg'   en   \n",
       "1  b'https://i.ytimg.com/vi/1Zgtdb7jp60/default.jpg'   en   \n",
       "2  b'https://i.ytimg.com/vi/1Sfii7rnkJQ/default.jpg'   en   \n",
       "3  b'https://i.ytimg.com/vi/UUwSKJjx9Go/default.jpg'   en   \n",
       "4  b'https://i.ytimg.com/vi/Yl3NGvna2KA/default.jpg'   en   \n",
       "\n",
       "                                           ImageText ContainsText nsfw_score  \\\n",
       "0  {u'regions': [], u'orientation': u'NotDetected...        False   0.503699   \n",
       "1  {u'regions': [], u'orientation': u'NotDetected...        False   0.911593   \n",
       "2  {u'regions': [], u'orientation': u'NotDetected...        False   0.263383   \n",
       "3  {u'regions': [], u'orientation': u'NotDetected...        False   0.569090   \n",
       "4  {u'regions': [], u'orientation': u'NotDetected...        False   0.287760   \n",
       "\n",
       "  Title-Clickbait               publishedAt  subscriberCount  \\\n",
       "0        0.923196  2009-12-22T03:47:24.000Z            47571   \n",
       "1        0.106193  2011-11-11T20:58:03.000Z           109298   \n",
       "2        0.155738  2011-07-09T16:13:17.000Z           218558   \n",
       "3        0.075479  2006-08-07T08:12:53.000Z          1145468   \n",
       "4        0.351647  2009-10-24T03:18:10.000Z           158091   \n",
       "\n",
       "  channelVideoCount  channelViewCount  \n",
       "0                23          16245729  \n",
       "1                 6          47779958  \n",
       "2                19          75698414  \n",
       "3               585         186804665  \n",
       "4                22           9908854  \n",
       "\n",
       "[5 rows x 22 columns]"
      ]
     },
     "execution_count": 6,
     "metadata": {},
     "output_type": "execute_result"
    }
   ],
   "source": [
    "dfData.head()"
   ]
  },
  {
   "cell_type": "markdown",
   "metadata": {},
   "source": [
    "# Feature Creation using Title and Description Text"
   ]
  },
  {
   "cell_type": "markdown",
   "metadata": {},
   "source": [
    "## Looking at Categorical Workouts"
   ]
  },
  {
   "cell_type": "code",
   "execution_count": 7,
   "metadata": {
    "collapsed": true
   },
   "outputs": [],
   "source": [
    "# Conver to lower case \n",
    "dfData['Title'] = dfData['Title'].str.lower()\n",
    "\n",
    "\n",
    "# How To\n",
    "dfData['HowTo'] = (dfData['Title'].str.contains('how')  | \n",
    "                       dfData['Tags'].str.contains('how'))\n",
    "\n",
    "# Motivational\n",
    "dfData['Motivation'] = (dfData['Title'].str.contains('motivation')  | \n",
    "                       dfData['Tags'].str.contains('motivation')  \n",
    "                      )\n",
    "\n",
    "\n",
    "# Transformation\n",
    "dfData['Transform'] = (dfData['Title'].str.contains('transform')  | \n",
    "                       dfData['Tags'].str.contains('transform')  \n",
    "                      )\n",
    "\n",
    "# Abs Workout\n",
    "dfData['Abs Video'] = (dfData['Title'].str.contains('abs')  | \n",
    "                       dfData['Title'].str.contains('six') | \n",
    "                       dfData['Title'].str.contains(' 6') | \n",
    "                       dfData['Title'].str.contains('abdomen') |\n",
    "                       dfData['Tags'].str.contains('abs')  | \n",
    "                       dfData['Tags'].str.contains('six') | \n",
    "                       dfData['Tags'].str.contains(' 6') | \n",
    "                       dfData['Tags'].str.contains('abdomen') \n",
    "                      )\n",
    "        \n",
    "# Chest Workout\n",
    "dfData['Chest Video'] = (dfData['Title'].str.contains('chest')  |\n",
    "                         dfData['Title'].str.contains('pushup') | \n",
    "                         dfData['Title'].str.contains('bench') | \n",
    "                         dfData['Title'].str.contains('bench') | \n",
    "                         dfData['Title'].str.contains('push up') |\n",
    "                         dfData['Title'].str.contains('dumbell press') |\n",
    "                         dfData['Tags'].str.contains('chest')  |\n",
    "                         dfData['Tags'].str.contains('pushup') | \n",
    "                         dfData['Tags'].str.contains('bench') | \n",
    "                         dfData['Tags'].str.contains('bench') | \n",
    "                         dfData['Tags'].str.contains('push up') |\n",
    "                         dfData['Tags'].str.contains('dumbell press'))\n",
    "\n",
    "# Back Workouts \n",
    "dfData['Back Video'] = (dfData['Title'].str.contains('back') | \n",
    "                        dfData['Title'].str.contains('pull up') | \n",
    "                        dfData['Title'].str.contains('chin up')  | \n",
    "                        dfData['Title'].str.contains('deadlift') | \n",
    "                        dfData['Tags'].str.contains('back') | \n",
    "                        dfData['Tags'].str.contains('pull up') | \n",
    "                        dfData['Tags'].str.contains('chin up')  | \n",
    "                        dfData['Tags'].str.contains('deadlift'))\n",
    "\n",
    "# Leg Workouts\n",
    "dfData['Legs Video'] = (dfData['Title'].str.contains('leg') | \n",
    "                        dfData['Title'].str.contains('squat') | \n",
    "                        dfData['Title'].str.contains('butt') | \n",
    "                        dfData['Title'].str.contains('quad') | \n",
    "                        dfData['Title'].str.contains('calve') |\n",
    "                       dfData['Tags'].str.contains('leg') | \n",
    "                        dfData['Tags'].str.contains('squat') | \n",
    "                        dfData['Tags'].str.contains('butt') | \n",
    "                        dfData['Tags'].str.contains('quad') | \n",
    "                        dfData['Tags'].str.contains('calve') )\n",
    "\n",
    "# Arm Workout\n",
    "dfData['Arm Video'] = (dfData['Title'].str.contains('shoulder') | \n",
    "                       dfData['Title'].str.contains('arm') | \n",
    "                       dfData['Title'].str.contains('bicep')  |\n",
    "                       dfData['Title'].str.contains('tricep') | \n",
    "                       dfData['Title'].str.contains('delt') |\n",
    "                       dfData['Tags'].str.contains('shoulder') | \n",
    "                       dfData['Tags'].str.contains('arm') | \n",
    "                       dfData['Tags'].str.contains('bicep')  |\n",
    "                       dfData['Tags'].str.contains('tricep') | \n",
    "                       dfData['Tags'].str.contains('delt'))\n",
    "\n"
   ]
  },
  {
   "cell_type": "code",
   "execution_count": 8,
   "metadata": {
    "collapsed": true
   },
   "outputs": [],
   "source": [
    "dfData.loc[dfData['Abs Video'] == True , 'Category'] = 'Abs'\n",
    "dfData.loc[dfData['Chest Video'] == True , 'Category'] = 'Chest'\n",
    "dfData.loc[dfData['Back Video'] == True, 'Category'] = 'Back'\n",
    "dfData.loc[dfData['Legs Video'] == True, 'Category'] = 'Legs'\n",
    "dfData.loc[dfData['Arm Video'] == True, 'Category'] = 'Arms'\n",
    "dfData.loc[dfData['Motivation'] == True, 'Category'] = 'Motivation'\n",
    "dfData.loc[dfData['HowTo'] == True, 'Category'] = 'HowTo'\n",
    "dfData.loc[dfData['Motivation'] == True, 'Category'] = 'Motivation'\n",
    "dfData.loc[dfData['Transform'] == True, 'Category'] = 'Transform'"
   ]
  },
  {
   "cell_type": "code",
   "execution_count": 9,
   "metadata": {},
   "outputs": [
    {
     "data": {
      "text/plain": [
       "2971"
      ]
     },
     "execution_count": 9,
     "metadata": {},
     "output_type": "execute_result"
    }
   ],
   "source": [
    "#dfData = dfData.drop(['Abs Video', 'Chest Video','Back Video','Legs Video', 'Arm Video'], axis =1 )\n",
    "dfData[dfData['Category'].isnull()].shape[0]"
   ]
  },
  {
   "cell_type": "code",
   "execution_count": 10,
   "metadata": {
    "collapsed": true
   },
   "outputs": [],
   "source": [
    "dfData = dfData[dfData['Category'].notnull()]"
   ]
  },
  {
   "cell_type": "code",
   "execution_count": 11,
   "metadata": {},
   "outputs": [
    {
     "name": "stdout",
     "output_type": "stream",
     "text": [
      "Number of Abs Related Videos: 244\n",
      "Number of Chest Related Videos: 234\n",
      "Number of Back Related Videos: 314\n",
      "Number of Leg Related Videos: 631\n",
      "Number of Arm Related Videos: 621\n"
     ]
    }
   ],
   "source": [
    "absVid = dfData[dfData['Category'] == 'Abs']\n",
    "chestVid = dfData[dfData['Category'] == 'Chest']\n",
    "backVid = dfData[dfData['Category'] == 'Back']\n",
    "legsVid = dfData[dfData['Category'] == 'Legs']\n",
    "armsVid = dfData[dfData['Category'] == 'Arms']\n",
    "\n",
    "print \"Number of Abs Related Videos: \" + str(absVid.shape[0])\n",
    "print \"Number of Chest Related Videos: \" + str(chestVid.shape[0])\n",
    "print \"Number of Back Related Videos: \" + str(backVid.shape[0])\n",
    "print \"Number of Leg Related Videos: \" + str(legsVid.shape[0])\n",
    "print \"Number of Arm Related Videos: \" + str(armsVid.shape[0])"
   ]
  },
  {
   "cell_type": "markdown",
   "metadata": {},
   "source": [
    "## Maybe just Body Part Videos"
   ]
  },
  {
   "cell_type": "code",
   "execution_count": 12,
   "metadata": {
    "collapsed": true
   },
   "outputs": [],
   "source": [
    "#dfData = dfData[dfData['Category'].notnull()]\n",
    "#dfData.shape[0]"
   ]
  },
  {
   "cell_type": "code",
   "execution_count": 13,
   "metadata": {},
   "outputs": [
    {
     "data": {
      "text/plain": [
       "<matplotlib.text.Text at 0xdb15e10>"
      ]
     },
     "execution_count": 13,
     "metadata": {},
     "output_type": "execute_result"
    },
    {
     "data": {
      "image/png": "[encoded data removed]",
      "text/plain": [
       "<matplotlib.figure.Figure at 0x118a4198>"
      ]
     },
     "metadata": {},
     "output_type": "display_data"
    }
   ],
   "source": [
    "yCols = ['Abs', 'Chest', 'Back', 'Legs', 'Arms']\n",
    "xCols = [absVid.shape[0], chestVid.shape[0], backVid.shape[0], legsVid.shape[0], armsVid.shape[0]]\n",
    "y = np.arange(len(yCols))\n",
    "plt.bar(y, xCols,align = 'center')\n",
    "plt.xticks(y,yCols)\n",
    "plt.ylabel(\"Number of Videos\")\n",
    "plt.title(\"Number of Videos for each Muscle Group\")"
   ]
  },
  {
   "cell_type": "markdown",
   "metadata": {},
   "source": [
    "## Observation\n",
    "Legs/Abs/Arms being the most since they target both a guy/girl audience"
   ]
  },
  {
   "cell_type": "markdown",
   "metadata": {},
   "source": [
    "## Understanding View Distribution"
   ]
  },
  {
   "cell_type": "code",
   "execution_count": 14,
   "metadata": {},
   "outputs": [
    {
     "name": "stdout",
     "output_type": "stream",
     "text": [
      "Category\n",
      "Motivation    160787.713904\n",
      "Chest         144898.914530\n",
      "Transform     118548.230303\n",
      "HowTo          86320.269476\n",
      "Abs            83654.860656\n",
      "Arms           57989.167472\n",
      "Back           52984.429936\n",
      "Legs           36815.242472\n",
      "Name: ViewCount, dtype: float64\n"
     ]
    },
    {
     "data": {
      "image/png": "[encoded data removed]",
      "text/plain": [
       "<matplotlib.figure.Figure at 0xdccdcc0>"
      ]
     },
     "metadata": {},
     "output_type": "display_data"
    }
   ],
   "source": [
    "dfData.groupby('Category').ViewCount.mean().plot(kind=\"bar\")\n",
    "print(dfData.groupby('Category').ViewCount.mean().sort_values(ascending = False))\n",
    "plt.title(\"Average Views per Category\")\n",
    "plt.show()"
   ]
  },
  {
   "cell_type": "code",
   "execution_count": 15,
   "metadata": {},
   "outputs": [
    {
     "name": "stdout",
     "output_type": "stream",
     "text": [
      "Category\n",
      "Transform     869.060606\n",
      "Motivation    719.604278\n",
      "HowTo         698.176245\n",
      "Chest         592.914530\n",
      "Abs           577.483607\n",
      "Arms          449.909823\n",
      "Legs          365.470681\n",
      "Back          308.082803\n",
      "Name: LikeCount, dtype: float64\n"
     ]
    },
    {
     "data": {
      "image/png": "[encoded data removed]",
      "text/plain": [
       "<matplotlib.figure.Figure at 0xe4ba3c8>"
      ]
     },
     "metadata": {},
     "output_type": "display_data"
    }
   ],
   "source": [
    "dfData.groupby('Category').LikeCount.mean().plot(kind=\"bar\")\n",
    "print(dfData.groupby('Category').LikeCount.mean().sort_values(ascending = False))\n",
    "plt.title(\"Average Likes per Category\")\n",
    "plt.show()"
   ]
  },
  {
   "cell_type": "code",
   "execution_count": 16,
   "metadata": {},
   "outputs": [
    {
     "name": "stdout",
     "output_type": "stream",
     "text": [
      "Category\n",
      "Transform     173.654545\n",
      "Chest          94.098291\n",
      "HowTo          92.650064\n",
      "Abs            83.401639\n",
      "Motivation     77.767380\n",
      "Back           71.636943\n",
      "Arms           58.492754\n",
      "Legs           53.797147\n",
      "Name: CommentCount, dtype: float64\n"
     ]
    },
    {
     "data": {
      "image/png": "[encoded data removed]",
      "text/plain": [
       "<matplotlib.figure.Figure at 0xe60e6d8>"
      ]
     },
     "metadata": {},
     "output_type": "display_data"
    }
   ],
   "source": [
    "dfData.groupby('Category').ViewCount.mean().plot(kind=\"bar\")\n",
    "print(dfData.groupby('Category').CommentCount.mean().sort_values(ascending = False))\n",
    "plt.title(\"Average Comments per Category\")\n",
    "plt.show()"
   ]
  },
  {
   "cell_type": "markdown",
   "metadata": {},
   "source": [
    "## Observation"
   ]
  },
  {
   "cell_type": "markdown",
   "metadata": {},
   "source": [
    "Despite Legs having more videos than chest/abs, it has the least amount of views and likes.\n",
    "The most liked videos are chest and abs"
   ]
  },
  {
   "cell_type": "markdown",
   "metadata": {
    "collapsed": true
   },
   "source": [
    "### Categorizing by \"Sponsored\" and \"Description Box\" "
   ]
  },
  {
   "cell_type": "code",
   "execution_count": 17,
   "metadata": {
    "collapsed": true
   },
   "outputs": [],
   "source": [
    "# Abs Workout\n",
    "dfData['isSponsored'] = (dfData['Description'].str.contains('sponsored')  | \n",
    "                       dfData['Description'].str.contains('provided by'))\n",
    "\n",
    "dfData['hasDiscount'] = (dfData['Description'].str.contains(\"discount\") |\n",
    "                        dfData['Description'].str.contains(\"code\"))"
   ]
  },
  {
   "cell_type": "code",
   "execution_count": 18,
   "metadata": {
    "scrolled": false
   },
   "outputs": [
    {
     "data": {
      "text/plain": [
       "<matplotlib.axes._subplots.AxesSubplot at 0xea29e48>"
      ]
     },
     "execution_count": 18,
     "metadata": {},
     "output_type": "execute_result"
    },
    {
     "data": {
      "image/png": "[encoded data removed]",
      "text/plain": [
       "<matplotlib.figure.Figure at 0xea29e10>"
      ]
     },
     "metadata": {},
     "output_type": "display_data"
    }
   ],
   "source": [
    "dfData.groupby('isSponsored').ViewCount.mean().plot(kind=\"bar\")"
   ]
  },
  {
   "cell_type": "code",
   "execution_count": 19,
   "metadata": {},
   "outputs": [
    {
     "data": {
      "text/plain": [
       "<matplotlib.axes._subplots.AxesSubplot at 0xea16208>"
      ]
     },
     "execution_count": 19,
     "metadata": {},
     "output_type": "execute_result"
    },
    {
     "data": {
      "image/png": "[encoded data removed]",
      "text/plain": [
       "<matplotlib.figure.Figure at 0xe85fbe0>"
      ]
     },
     "metadata": {},
     "output_type": "display_data"
    }
   ],
   "source": [
    "dfData.groupby('hasDiscount').ViewCount.mean().plot(kind=\"bar\")"
   ]
  },
  {
   "cell_type": "code",
   "execution_count": 20,
   "metadata": {
    "collapsed": true
   },
   "outputs": [],
   "source": [
    "dfData['LikeDislikeRatio'] = dfData['LikeCount']/(dfData['LikeCount'] + dfData['DislikeCount'])"
   ]
  },
  {
   "cell_type": "code",
   "execution_count": 21,
   "metadata": {
    "collapsed": true
   },
   "outputs": [],
   "source": [
    "# Motivation\n",
    "# Transformation\n",
    "# Keywords: Ripped/Extreme/sexy/fat/intense\n",
    "# BodyBuilding\n",
    "# Tutorial/How To"
   ]
  },
  {
   "cell_type": "code",
   "execution_count": 22,
   "metadata": {},
   "outputs": [
    {
     "data": {
      "text/plain": [
       "Index([u'Id', u'Title', u'Description', u'LikeCount', u'DislikeCount',\n",
       "       u'ViewCount', u'FavoriteCount', u'CommentCount', u'PublishedAt',\n",
       "       u'Channel Id', u'Channel Title', u'Tags', u'Thumbnail Default', u'Lang',\n",
       "       u'ImageText', u'ContainsText', u'nsfw_score', u'Title-Clickbait',\n",
       "       u'publishedAt', u'subscriberCount', u'channelVideoCount',\n",
       "       u'channelViewCount', u'HowTo', u'Motivation', u'Transform',\n",
       "       u'Abs Video', u'Chest Video', u'Back Video', u'Legs Video',\n",
       "       u'Arm Video', u'Category', u'isSponsored', u'hasDiscount',\n",
       "       u'LikeDislikeRatio'],\n",
       "      dtype='object')"
      ]
     },
     "execution_count": 22,
     "metadata": {},
     "output_type": "execute_result"
    }
   ],
   "source": [
    "dfData.columns"
   ]
  },
  {
   "cell_type": "code",
   "execution_count": 23,
   "metadata": {},
   "outputs": [
    {
     "data": {
      "text/plain": [
       "(3366, 34)"
      ]
     },
     "execution_count": 23,
     "metadata": {},
     "output_type": "execute_result"
    }
   ],
   "source": [
    "dfData.shape"
   ]
  },
  {
   "cell_type": "code",
   "execution_count": 38,
   "metadata": {
    "collapsed": true
   },
   "outputs": [],
   "source": [
    "def feature_engineer(dfData):\n",
    "    dfData =dfData.drop(['Category','FavoriteCount','ImageText'],axis =1)\n",
    "    dfData['is_english'] = dfData['Lang'].apply(lambda x: 1 if x=='en' else 0)\n",
    "    dfData = dfData.drop('Lang', axis=1)\n",
    "    \n",
    "    dfData['is_Abs'] = dfData['Abs Video'].apply(lambda x: 1 if x==True else 0)\n",
    "    dfData['is_Chest'] = dfData['Chest Video'].apply(lambda x: 1 if x==True else 0)\n",
    "    dfData['is_Back'] = dfData['Back Video'].apply(lambda x: 1 if x==True else 0)\n",
    "    dfData['is_Legs'] = dfData['Legs Video'].apply(lambda x: 1 if x==True else 0)\n",
    "    dfData['is_Arms'] = dfData['Arm Video'].apply(lambda x: 1 if x==True else 0)\n",
    "    dfData['ContainsText'] = dfData['ContainsText'].apply(lambda x: 1 if x==True else 0)\n",
    "    dfData['isSponsored'] = dfData['isSponsored'].apply(lambda x: 1 if x==True else 0)\n",
    "    dfData['hasDiscount'] = dfData['hasDiscount'].apply(lambda x: 1 if x==True else 0)\n",
    "    dfData['PublishedYear'] = dfData['PublishedAt'].apply(lambda x: x[:4])\n",
    "    dfData['ChannelAge'] =  dfData['publishedAt'].apply(lambda x: x[:4])\n",
    "    dfData['channelViewCount'] = np.log(dfData['channelViewCount'])\n",
    "    dfData['ContainsText'] = dfData['ContainsText'].fillna(0)\n",
    "    dfData['nsfw_score'] = dfData['nsfw_score'].fillna(dfData['nsfw_score'].mean())\n",
    "    dfData['Title-Clickbait'] = dfData['Title-Clickbait'].fillna(dfData['nsfw_score'].mean())\n",
    "    dfData['LikeDislikeRatio'] = dfData['LikeCount']/(dfData['DislikeCount'] + dfData['LikeCount'])\n",
    "    \n",
    "    dfData['LikeDislikeRatio'] = dfData['LikeDislikeRatio'].replace(np.inf, np.nan)\n",
    "    dfData['LikeDislikeRatio'] = dfData['LikeDislikeRatio'].fillna(0)\n",
    "    dfData = dfData.drop(['Title','Description','PublishedAt','publishedAt','Channel Id','Channel Title','Tags','Thumbnail Default','Abs Video','Chest Video','Back Video','Legs Video','Arm Video'],axis = 1)\n",
    "    \n",
    "    return dfData\n",
    "\n",
    "def drop_obvious_features(dfData):\n",
    "    dfData = dfData.drop(['LikeCount','DislikeCount','CommentCount'],axis = 1)\n",
    "    return dfData\n",
    "\n",
    "def drop_engineered_features(dfData):\n",
    "    dfData = dfData.drop(['nsfw_score','Title-Clickbait'],axis = 1)\n",
    "    return dfData"
   ]
  },
  {
   "cell_type": "code",
   "execution_count": 25,
   "metadata": {
    "collapsed": true
   },
   "outputs": [],
   "source": [
    "df = feature_engineer(dfData)"
   ]
  },
  {
   "cell_type": "code",
   "execution_count": 26,
   "metadata": {},
   "outputs": [
    {
     "data": {
      "text/plain": [
       "Index([u'Id', u'LikeCount', u'DislikeCount', u'ViewCount', u'CommentCount',\n",
       "       u'ContainsText', u'nsfw_score', u'Title-Clickbait', u'subscriberCount',\n",
       "       u'channelVideoCount', u'channelViewCount', u'HowTo', u'Motivation',\n",
       "       u'Transform', u'isSponsored', u'hasDiscount', u'LikeDislikeRatio',\n",
       "       u'is_english', u'is_Abs', u'is_Chest', u'is_Back', u'is_Legs',\n",
       "       u'is_Arms', u'PublishedYear', u'ChannelAge'],\n",
       "      dtype='object')"
      ]
     },
     "execution_count": 26,
     "metadata": {},
     "output_type": "execute_result"
    }
   ],
   "source": [
    "df.columns"
   ]
  },
  {
   "cell_type": "code",
   "execution_count": 27,
   "metadata": {
    "collapsed": true
   },
   "outputs": [],
   "source": [
    "X, y = df.drop('ViewCount',axis = 1) , np.log(df['ViewCount'])"
   ]
  },
  {
   "cell_type": "code",
   "execution_count": 28,
   "metadata": {
    "collapsed": true
   },
   "outputs": [],
   "source": [
    "def checkForNull(X,y):\n",
    "    X = X.as_matrix().astype(float)\n",
    "    print \"Check For Null Values\"\n",
    "    for i in range(0,len(df.columns)-1):\n",
    "        print np.any(np.isnan(X[:,i]))\n",
    "    print \"Check for Pred:\"\n",
    "    y = y.as_matrix().astype(float)\n",
    "    print np.any(np.isnan(y))"
   ]
  },
  {
   "cell_type": "code",
   "execution_count": 29,
   "metadata": {
    "collapsed": true
   },
   "outputs": [],
   "source": [
    "from sklearn.ensemble import GradientBoostingClassifier, GradientBoostingRegressor\n",
    "from sklearn.dummy import DummyClassifier, DummyRegressor\n",
    "from sklearn.model_selection import train_test_split\n",
    "from xgboost import XGBClassifier, XGBRegressor\n"
   ]
  },
  {
   "cell_type": "code",
   "execution_count": 30,
   "metadata": {
    "collapsed": true
   },
   "outputs": [],
   "source": [
    "train_X, test_X, train_y, test_y = train_test_split(X, y, train_size=0.75, test_size=0.25)\n",
    "\n",
    "train_X_id,train_X = train_X.Id, train_X.drop('Id',axis = 1)\n",
    "test_X_id,test_X = test_X.Id, test_X.drop('Id',axis = 1)"
   ]
  },
  {
   "cell_type": "code",
   "execution_count": 31,
   "metadata": {},
   "outputs": [
    {
     "data": {
      "text/plain": [
       "0.85616123335209249"
      ]
     },
     "execution_count": 31,
     "metadata": {},
     "output_type": "execute_result"
    }
   ],
   "source": [
    "reg = GradientBoostingRegressor()\n",
    "reg.fit(train_X, train_y)\n",
    "reg.score(test_X, test_y)"
   ]
  },
  {
   "cell_type": "code",
   "execution_count": 32,
   "metadata": {},
   "outputs": [
    {
     "data": {
      "text/plain": [
       "<matplotlib.axes._subplots.AxesSubplot at 0xe91a470>"
      ]
     },
     "execution_count": 32,
     "metadata": {},
     "output_type": "execute_result"
    },
    {
     "data": {
      "image/png": "[encoded data removed]",
      "text/plain": [
       "<matplotlib.figure.Figure at 0xe4858d0>"
      ]
     },
     "metadata": {},
     "output_type": "display_data"
    }
   ],
   "source": [
    "X = X.drop('Id', axis = 1)\n",
    "sns.set_style('whitegrid')\n",
    "plt.figure(figsize=(10,12))\n",
    "sns.barplot(x=reg.feature_importances_, y=X.columns)"
   ]
  },
  {
   "cell_type": "code",
   "execution_count": 39,
   "metadata": {},
   "outputs": [
    {
     "data": {
      "text/plain": [
       "0.46862774367814758"
      ]
     },
     "execution_count": 39,
     "metadata": {},
     "output_type": "execute_result"
    }
   ],
   "source": [
    "df = drop_engineered_features(drop_obvious_features(feature_engineer(dfData)))\n",
    "X, y = df.drop(['ViewCount','LikeDislikeRatio'],axis=1), np.log(df['ViewCount'])\n",
    "\n",
    "train_X, test_X, train_y, test_y = train_test_split(X, y, train_size=0.75, test_size=0.25)\n",
    "\n",
    "train_X_id,train_X = train_X.Id, train_X.drop('Id',axis = 1)\n",
    "test_X_id,test_X = test_X.Id, test_X.drop('Id',axis = 1)\n",
    "\n",
    "reg = GradientBoostingRegressor()\n",
    "reg.fit(train_X, train_y)\n",
    "reg.score(test_X, test_y)\n",
    "\n"
   ]
  },
  {
   "cell_type": "code",
   "execution_count": 40,
   "metadata": {},
   "outputs": [
    {
     "data": {
      "text/plain": [
       "<matplotlib.axes._subplots.AxesSubplot at 0xef9bd30>"
      ]
     },
     "execution_count": 40,
     "metadata": {},
     "output_type": "execute_result"
    },
    {
     "data": {
      "image/png": "[encoded data removed]",
      "text/plain": [
       "<matplotlib.figure.Figure at 0xef9b048>"
      ]
     },
     "metadata": {},
     "output_type": "display_data"
    }
   ],
   "source": [
    "X = X.drop('Id',axis = 1)\n",
    "sns.set_style('whitegrid')\n",
    "plt.figure(figsize=(10,12))\n",
    "sns.barplot(x=reg.feature_importances_, y=X.columns)"
   ]
  },
  {
   "cell_type": "code",
   "execution_count": 41,
   "metadata": {},
   "outputs": [
    {
     "data": {
      "text/plain": [
       "0.47136331283325456"
      ]
     },
     "execution_count": 41,
     "metadata": {},
     "output_type": "execute_result"
    }
   ],
   "source": [
    "reg = XGBRegressor()\n",
    "train_X['ChannelAge'] = train_X['ChannelAge'].astype(int)\n",
    "test_X['ChannelAge'] = test_X['ChannelAge'].astype(int)\n",
    "train_X['PublishedYear'] = train_X['PublishedYear'].astype(int)\n",
    "test_X['PublishedYear'] = test_X['PublishedYear'].astype(int)\n",
    "reg.fit(train_X, train_y)\n",
    "reg.score(test_X, test_y)"
   ]
  },
  {
   "cell_type": "code",
   "execution_count": 42,
   "metadata": {},
   "outputs": [
    {
     "data": {
      "text/plain": [
       "0.37626184691514208"
      ]
     },
     "execution_count": 42,
     "metadata": {},
     "output_type": "execute_result"
    }
   ],
   "source": [
    "from sklearn.metrics import mean_squared_error, r2_score\n",
    "from sklearn import datasets, linear_model\n",
    "reg = linear_model.LinearRegression()\n",
    "train_X['ChannelAge'] = train_X['ChannelAge'].astype(int)\n",
    "test_X['ChannelAge'] = test_X['ChannelAge'].astype(int)\n",
    "train_X['PublishedYear'] = train_X['PublishedYear'].astype(int)\n",
    "test_X['PublishedYear'] = test_X['PublishedYear'].astype(int)\n",
    "reg.fit(train_X, train_y)\n",
    "reg.score(test_X, test_y)"
   ]
  },
  {
   "cell_type": "code",
   "execution_count": 43,
   "metadata": {},
   "outputs": [
    {
     "data": {
      "text/plain": [
       "0.42786519636415976"
      ]
     },
     "execution_count": 43,
     "metadata": {},
     "output_type": "execute_result"
    }
   ],
   "source": [
    "from sklearn.ensemble import RandomForestRegressor\n",
    "\n",
    "reg = RandomForestRegressor()\n",
    "train_X['ChannelAge'] = train_X['ChannelAge'].astype(int)\n",
    "test_X['ChannelAge'] = test_X['ChannelAge'].astype(int)\n",
    "train_X['PublishedYear'] = train_X['PublishedYear'].astype(int)\n",
    "test_X['PublishedYear'] = test_X['PublishedYear'].astype(int)\n",
    "reg.fit(train_X, train_y)\n",
    "reg.score(test_X, test_y)"
   ]
  },
  {
   "cell_type": "code",
   "execution_count": null,
   "metadata": {
    "collapsed": true
   },
   "outputs": [],
   "source": []
  }
 ],
 "metadata": {
  "kernelspec": {
   "display_name": "Python 2",
   "language": "python",
   "name": "python2"
  },
  "language_info": {
   "codemirror_mode": {
    "name": "ipython",
    "version": 2
   },
   "file_extension": ".py",
   "mimetype": "text/x-python",
   "name": "python",
   "nbconvert_exporter": "python",
   "pygments_lexer": "ipython2",
   "version": "2.7.13"
  }
 },
 "nbformat": 4,
 "nbformat_minor": 1
}
