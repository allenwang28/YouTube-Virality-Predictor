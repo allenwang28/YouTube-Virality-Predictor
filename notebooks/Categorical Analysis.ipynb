{
 "cells": [
  {
   "cell_type": "code",
   "execution_count": 25,
   "metadata": {},
   "outputs": [],
   "source": [
    "%matplotlib inline\n",
    "import pandas as pd\n",
    "import numpy as np\n",
    "import matplotlib.pyplot as plt\n",
    "import seaborn as sns\n",
    "from scipy import stats\n",
    "from ast import literal_eval\n",
    "from sklearn.feature_extraction.text import TfidfVectorizer, CountVectorizer\n",
    "from sklearn.metrics.pairwise import linear_kernel, cosine_similarity\n",
    "from nltk.stem.snowball import SnowballStemmer\n",
    "from nltk.stem.wordnet import WordNetLemmatizer\n",
    "from nltk.corpus import wordnet\n",
    "from langdetect import detect\n",
    "\n",
    "import warnings; warnings.simplefilter('ignore')"
   ]
  },
  {
   "cell_type": "markdown",
   "metadata": {},
   "source": [
    "# Categorizing Videos By Text"
   ]
  },
  {
   "cell_type": "code",
   "execution_count": 2,
   "metadata": {
    "collapsed": true
   },
   "outputs": [],
   "source": [
    "dfData = pd.read_csv('../data/cleaned_subset.csv')\n",
    "dfText = pd.read_csv('../data/image_text.csv')"
   ]
  },
  {
   "cell_type": "code",
   "execution_count": 3,
   "metadata": {},
   "outputs": [
    {
     "data": {
      "text/html": [
       "<div>\n",
       "<style>\n",
       "    .dataframe thead tr:only-child th {\n",
       "        text-align: right;\n",
       "    }\n",
       "\n",
       "    .dataframe thead th {\n",
       "        text-align: left;\n",
       "    }\n",
       "\n",
       "    .dataframe tbody tr th {\n",
       "        vertical-align: top;\n",
       "    }\n",
       "</style>\n",
       "<table border=\"1\" class=\"dataframe\">\n",
       "  <thead>\n",
       "    <tr style=\"text-align: right;\">\n",
       "      <th></th>\n",
       "      <th>Id</th>\n",
       "      <th>Title</th>\n",
       "      <th>Description</th>\n",
       "      <th>LikeCount</th>\n",
       "      <th>DislikeCount</th>\n",
       "      <th>ViewCount</th>\n",
       "      <th>FavoriteCount</th>\n",
       "      <th>CommentCount</th>\n",
       "      <th>PublishedAt</th>\n",
       "      <th>Channel Id</th>\n",
       "      <th>Channel Title</th>\n",
       "      <th>Tags</th>\n",
       "      <th>Thumbnail Default</th>\n",
       "    </tr>\n",
       "  </thead>\n",
       "  <tbody>\n",
       "    <tr>\n",
       "      <th>0</th>\n",
       "      <td>AUzyaHo0QQc</td>\n",
       "      <td>b'300 pushups a day for 20 days!! - Results!!'</td>\n",
       "      <td>b'**NEW** (2016) Abs Workout for 30 Days | htt...</td>\n",
       "      <td>40408</td>\n",
       "      <td>10312</td>\n",
       "      <td>13577683</td>\n",
       "      <td>0</td>\n",
       "      <td>8236</td>\n",
       "      <td>2010-07-22T10:28:30.000Z</td>\n",
       "      <td>UCPE_dNzOtjpP0vUA6papYaw</td>\n",
       "      <td>TheUncutAngel</td>\n",
       "      <td>['theuncutangel', 'the', 'uncut', 'angel', 'sc...</td>\n",
       "      <td>b'https://i.ytimg.com/vi/AUzyaHo0QQc/default.jpg'</td>\n",
       "    </tr>\n",
       "    <tr>\n",
       "      <th>1</th>\n",
       "      <td>1Zgtdb7jp60</td>\n",
       "      <td>b'John Cena - gym'</td>\n",
       "      <td>b\"Follow John Cena on twitter: http://www.twit...</td>\n",
       "      <td>37867</td>\n",
       "      <td>1486</td>\n",
       "      <td>9986096</td>\n",
       "      <td>0</td>\n",
       "      <td>2563</td>\n",
       "      <td>2012-02-20T13:55:03.000Z</td>\n",
       "      <td>UCpAxDQTpPNgc6kFiBRNO_1A</td>\n",
       "      <td>JohnCenafan0423</td>\n",
       "      <td>['John Cena', 'john', 'cena', 'catch', 'raw', ...</td>\n",
       "      <td>b'https://i.ytimg.com/vi/1Zgtdb7jp60/default.jpg'</td>\n",
       "    </tr>\n",
       "    <tr>\n",
       "      <th>2</th>\n",
       "      <td>1Sfii7rnkJQ</td>\n",
       "      <td>b'Bodybuilding Motivation - No Time To Waste'</td>\n",
       "      <td>b\"Follow me:\\nhttp://instagram.com/shaqx.bb\\nh...</td>\n",
       "      <td>17688</td>\n",
       "      <td>1291</td>\n",
       "      <td>8532402</td>\n",
       "      <td>0</td>\n",
       "      <td>1515</td>\n",
       "      <td>2012-01-18T15:06:01.000Z</td>\n",
       "      <td>UC3uDucFPe-E0I6CfxtHWZ6w</td>\n",
       "      <td>ShaQxTV</td>\n",
       "      <td>['ShaQx', 'Bodybuilding', 'Motivation', 'Chall...</td>\n",
       "      <td>b'https://i.ytimg.com/vi/1Sfii7rnkJQ/default.jpg'</td>\n",
       "    </tr>\n",
       "    <tr>\n",
       "      <th>3</th>\n",
       "      <td>UUwSKJjx9Go</td>\n",
       "      <td>b'Most Powerful Home Chest Workout Ever : Buil...</td>\n",
       "      <td>b'http://www.6weeksixpack.com This is one of t...</td>\n",
       "      <td>46293</td>\n",
       "      <td>2589</td>\n",
       "      <td>8301027</td>\n",
       "      <td>0</td>\n",
       "      <td>1490</td>\n",
       "      <td>2013-10-17T21:56:53.000Z</td>\n",
       "      <td>UCsiNPbLbwZk43FOCRrdKBlA</td>\n",
       "      <td>Sixpackfactory.com</td>\n",
       "      <td>['chest workout', 'best chest workout', 'home ...</td>\n",
       "      <td>b'https://i.ytimg.com/vi/UUwSKJjx9Go/default.jpg'</td>\n",
       "    </tr>\n",
       "    <tr>\n",
       "      <th>4</th>\n",
       "      <td>Yl3NGvna2KA</td>\n",
       "      <td>b'Greg Plitt Best of The Best Workout Video Pr...</td>\n",
       "      <td>b'SIGN UP TODAY - http://bit.ly/jointheranks\\r...</td>\n",
       "      <td>24784</td>\n",
       "      <td>1134</td>\n",
       "      <td>7141821</td>\n",
       "      <td>0</td>\n",
       "      <td>575</td>\n",
       "      <td>2011-03-30T18:57:57.000Z</td>\n",
       "      <td>UCU6WaCIOCL_eToBcsBYFwAQ</td>\n",
       "      <td>Greg Plitt</td>\n",
       "      <td>['greg plitt', 'workout', 'get huge', 'muscle'...</td>\n",
       "      <td>b'https://i.ytimg.com/vi/Yl3NGvna2KA/default.jpg'</td>\n",
       "    </tr>\n",
       "  </tbody>\n",
       "</table>\n",
       "</div>"
      ],
      "text/plain": [
       "            Id                                              Title  \\\n",
       "0  AUzyaHo0QQc     b'300 pushups a day for 20 days!! - Results!!'   \n",
       "1  1Zgtdb7jp60                                 b'John Cena - gym'   \n",
       "2  1Sfii7rnkJQ      b'Bodybuilding Motivation - No Time To Waste'   \n",
       "3  UUwSKJjx9Go  b'Most Powerful Home Chest Workout Ever : Buil...   \n",
       "4  Yl3NGvna2KA  b'Greg Plitt Best of The Best Workout Video Pr...   \n",
       "\n",
       "                                         Description  LikeCount  DislikeCount  \\\n",
       "0  b'**NEW** (2016) Abs Workout for 30 Days | htt...      40408         10312   \n",
       "1  b\"Follow John Cena on twitter: http://www.twit...      37867          1486   \n",
       "2  b\"Follow me:\\nhttp://instagram.com/shaqx.bb\\nh...      17688          1291   \n",
       "3  b'http://www.6weeksixpack.com This is one of t...      46293          2589   \n",
       "4  b'SIGN UP TODAY - http://bit.ly/jointheranks\\r...      24784          1134   \n",
       "\n",
       "   ViewCount  FavoriteCount  CommentCount               PublishedAt  \\\n",
       "0   13577683              0          8236  2010-07-22T10:28:30.000Z   \n",
       "1    9986096              0          2563  2012-02-20T13:55:03.000Z   \n",
       "2    8532402              0          1515  2012-01-18T15:06:01.000Z   \n",
       "3    8301027              0          1490  2013-10-17T21:56:53.000Z   \n",
       "4    7141821              0           575  2011-03-30T18:57:57.000Z   \n",
       "\n",
       "                 Channel Id       Channel Title  \\\n",
       "0  UCPE_dNzOtjpP0vUA6papYaw       TheUncutAngel   \n",
       "1  UCpAxDQTpPNgc6kFiBRNO_1A     JohnCenafan0423   \n",
       "2  UC3uDucFPe-E0I6CfxtHWZ6w             ShaQxTV   \n",
       "3  UCsiNPbLbwZk43FOCRrdKBlA  Sixpackfactory.com   \n",
       "4  UCU6WaCIOCL_eToBcsBYFwAQ          Greg Plitt   \n",
       "\n",
       "                                                Tags  \\\n",
       "0  ['theuncutangel', 'the', 'uncut', 'angel', 'sc...   \n",
       "1  ['John Cena', 'john', 'cena', 'catch', 'raw', ...   \n",
       "2  ['ShaQx', 'Bodybuilding', 'Motivation', 'Chall...   \n",
       "3  ['chest workout', 'best chest workout', 'home ...   \n",
       "4  ['greg plitt', 'workout', 'get huge', 'muscle'...   \n",
       "\n",
       "                                   Thumbnail Default  \n",
       "0  b'https://i.ytimg.com/vi/AUzyaHo0QQc/default.jpg'  \n",
       "1  b'https://i.ytimg.com/vi/1Zgtdb7jp60/default.jpg'  \n",
       "2  b'https://i.ytimg.com/vi/1Sfii7rnkJQ/default.jpg'  \n",
       "3  b'https://i.ytimg.com/vi/UUwSKJjx9Go/default.jpg'  \n",
       "4  b'https://i.ytimg.com/vi/Yl3NGvna2KA/default.jpg'  "
      ]
     },
     "execution_count": 3,
     "metadata": {},
     "output_type": "execute_result"
    }
   ],
   "source": [
    "dfData.head()"
   ]
  },
  {
   "cell_type": "markdown",
   "metadata": {},
   "source": [
    "# Feature Creation using Title and Description Text"
   ]
  },
  {
   "cell_type": "markdown",
   "metadata": {},
   "source": [
    "## Looking at Categorical Workouts"
   ]
  },
  {
   "cell_type": "code",
   "execution_count": 4,
   "metadata": {
    "collapsed": true
   },
   "outputs": [],
   "source": [
    "# Conver to lower case \n",
    "dfData['Title'] = dfData['Title'].str.lower()\n",
    "\n",
    "\n",
    "# Abs Workout\n",
    "dfData['Abs Video'] = (dfData['Title'].str.contains('abs')  | \n",
    "                       dfData['Title'].str.contains('six') | \n",
    "                       dfData['Title'].str.contains(' 6') | \n",
    "                       dfData['Title'].str.contains('abdomen') |\n",
    "                       dfData['Tags'].str.contains('abs')  | \n",
    "                       dfData['Tags'].str.contains('six') | \n",
    "                       dfData['Tags'].str.contains(' 6') | \n",
    "                       dfData['Tags'].str.contains('abdomen') \n",
    "                      )\n",
    "        \n",
    "# Chest Workout\n",
    "dfData['Chest Video'] = (dfData['Title'].str.contains('chest')  |\n",
    "                         dfData['Title'].str.contains('pushup') | \n",
    "                         dfData['Title'].str.contains('bench') | \n",
    "                         dfData['Title'].str.contains('bench') | \n",
    "                         dfData['Title'].str.contains('push up') |\n",
    "                         dfData['Title'].str.contains('dumbell press') |\n",
    "                         dfData['Tags'].str.contains('chest')  |\n",
    "                         dfData['Tags'].str.contains('pushup') | \n",
    "                         dfData['Tags'].str.contains('bench') | \n",
    "                         dfData['Tags'].str.contains('bench') | \n",
    "                         dfData['Tags'].str.contains('push up') |\n",
    "                         dfData['Tags'].str.contains('dumbell press'))\n",
    "\n",
    "# Back Workouts \n",
    "dfData['Back Video'] = (dfData['Title'].str.contains('back') | \n",
    "                        dfData['Title'].str.contains('pull up') | \n",
    "                        dfData['Title'].str.contains('chin up')  | \n",
    "                        dfData['Title'].str.contains('deadlift') | \n",
    "                        dfData['Tags'].str.contains('back') | \n",
    "                        dfData['Tags'].str.contains('pull up') | \n",
    "                        dfData['Tags'].str.contains('chin up')  | \n",
    "                        dfData['Tags'].str.contains('deadlift'))\n",
    "\n",
    "# Leg Workouts\n",
    "dfData['Legs Video'] = (dfData['Title'].str.contains('leg') | \n",
    "                        dfData['Title'].str.contains('squat') | \n",
    "                        dfData['Title'].str.contains('butt') | \n",
    "                        dfData['Title'].str.contains('quad') | \n",
    "                        dfData['Title'].str.contains('calve') |\n",
    "                       dfData['Tags'].str.contains('leg') | \n",
    "                        dfData['Tags'].str.contains('squat') | \n",
    "                        dfData['Tags'].str.contains('butt') | \n",
    "                        dfData['Tags'].str.contains('quad') | \n",
    "                        dfData['Tags'].str.contains('calve') )\n",
    "\n",
    "# Arm Workout\n",
    "dfData['Arm Video'] = (dfData['Title'].str.contains('shoulder') | \n",
    "                       dfData['Title'].str.contains('arm') | \n",
    "                       dfData['Title'].str.contains('bicep')  |\n",
    "                       dfData['Title'].str.contains('tricep') | \n",
    "                       dfData['Title'].str.contains('delt') |\n",
    "                       dfData['Tags'].str.contains('shoulder') | \n",
    "                       dfData['Tags'].str.contains('arm') | \n",
    "                       dfData['Tags'].str.contains('bicep')  |\n",
    "                       dfData['Tags'].str.contains('tricep') | \n",
    "                       dfData['Tags'].str.contains('delt'))\n",
    "\n"
   ]
  },
  {
   "cell_type": "code",
   "execution_count": 5,
   "metadata": {
    "collapsed": true
   },
   "outputs": [],
   "source": [
    "dfData.loc[dfData['Abs Video'] == True , 'Category'] = 'Abs'\n",
    "dfData.loc[dfData['Chest Video'] == True , 'Category'] = 'Chest'\n",
    "dfData.loc[dfData['Back Video'] == True, 'Category'] = 'Back'\n",
    "dfData.loc[dfData['Legs Video'] == True, 'Category'] = 'Legs'\n",
    "dfData.loc[dfData['Arm Video'] == True, 'Category'] = 'Arms'"
   ]
  },
  {
   "cell_type": "code",
   "execution_count": 6,
   "metadata": {},
   "outputs": [
    {
     "data": {
      "text/plain": [
       "6699"
      ]
     },
     "execution_count": 6,
     "metadata": {},
     "output_type": "execute_result"
    }
   ],
   "source": [
    "#dfData = dfData.drop(['Abs Video', 'Chest Video','Back Video','Legs Video', 'Arm Video'], axis =1 )\n",
    "dfData[dfData['Category'].isnull()].shape[0]"
   ]
  },
  {
   "cell_type": "code",
   "execution_count": 7,
   "metadata": {},
   "outputs": [
    {
     "name": "stdout",
     "output_type": "stream",
     "text": [
      "Number of Abs Related Videos: 577\n",
      "Number of Chest Related Videos: 421\n",
      "Number of Back Related Videos: 551\n",
      "Number of Leg Related Videos: 1137\n",
      "Number of Arm Related Videos: 1297\n"
     ]
    }
   ],
   "source": [
    "absVid = dfData[dfData['Category'] == 'Abs']\n",
    "chestVid = dfData[dfData['Category'] == 'Chest']\n",
    "backVid = dfData[dfData['Category'] == 'Back']\n",
    "legsVid = dfData[dfData['Category'] == 'Legs']\n",
    "armsVid = dfData[dfData['Category'] == 'Arms']\n",
    "motivationVid = dfData[dfData['Category'] == 'Motivation']\n",
    "\n",
    "print \"Number of Abs Related Videos: \" + str(absVid.shape[0])\n",
    "print \"Number of Chest Related Videos: \" + str(chestVid.shape[0])\n",
    "print \"Number of Back Related Videos: \" + str(backVid.shape[0])\n",
    "print \"Number of Leg Related Videos: \" + str(legsVid.shape[0])\n",
    "print \"Number of Arm Related Videos: \" + str(armsVid.shape[0])"
   ]
  },
  {
   "cell_type": "code",
   "execution_count": 8,
   "metadata": {},
   "outputs": [
    {
     "data": {
      "text/plain": [
       "<matplotlib.text.Text at 0xd92fe48>"
      ]
     },
     "execution_count": 8,
     "metadata": {},
     "output_type": "execute_result"
    },
    {
     "data": {
      "image/png": "[encoded data removed]",
      "text/plain": [
       "<matplotlib.figure.Figure at 0x126eb128>"
      ]
     },
     "metadata": {},
     "output_type": "display_data"
    }
   ],
   "source": [
    "yCols = ['Abs', 'Chest', 'Back', 'Legs', 'Arms']\n",
    "xCols = [absVid.shape[0], chestVid.shape[0], backVid.shape[0], legsVid.shape[0], armsVid.shape[0]]\n",
    "y = np.arange(len(yCols))\n",
    "plt.bar(y, xCols,align = 'center')\n",
    "plt.xticks(y,yCols)\n",
    "plt.ylabel(\"Number of Videos\")\n",
    "plt.title(\"Number of Videos for each Muscle Group\")"
   ]
  },
  {
   "cell_type": "markdown",
   "metadata": {},
   "source": [
    "## Observation\n",
    "Legs/Abs/Arms being the most since they target both a guy/girl audience"
   ]
  },
  {
   "cell_type": "markdown",
   "metadata": {},
   "source": [
    "## Understanding View Distribution"
   ]
  },
  {
   "cell_type": "code",
   "execution_count": 101,
   "metadata": {},
   "outputs": [
    {
     "name": "stdout",
     "output_type": "stream",
     "text": [
      "Category\n",
      "Chest    97198.078385\n",
      "Abs      94679.384749\n",
      "Back     79985.274047\n",
      "Arms     70945.808019\n",
      "Legs     51488.799472\n",
      "Name: ViewCount, dtype: float64\n"
     ]
    },
    {
     "data": {
      "image/png": "[encoded data removed]",
      "text/plain": [
       "<matplotlib.figure.Figure at 0x1cb47dd8>"
      ]
     },
     "metadata": {},
     "output_type": "display_data"
    }
   ],
   "source": [
    "dfData.groupby('Category').ViewCount.mean().plot(kind=\"bar\")\n",
    "print(dfData.groupby('Category').ViewCount.mean().sort_values(ascending = False))\n",
    "plt.title(\"Average Views per Category\")\n",
    "plt.show()"
   ]
  },
  {
   "cell_type": "code",
   "execution_count": 102,
   "metadata": {},
   "outputs": [
    {
     "name": "stdout",
     "output_type": "stream",
     "text": [
      "Category\n",
      "Abs      717.126516\n",
      "Arms     576.335389\n",
      "Chest    535.152019\n",
      "Back     530.119782\n",
      "Legs     454.141601\n",
      "Name: LikeCount, dtype: float64\n"
     ]
    },
    {
     "data": {
      "image/png": "[encoded data removed]",
      "text/plain": [
       "<matplotlib.figure.Figure at 0x1f64f128>"
      ]
     },
     "metadata": {},
     "output_type": "display_data"
    }
   ],
   "source": [
    "dfData.groupby('Category').LikeCount.mean().plot(kind=\"bar\")\n",
    "print(dfData.groupby('Category').LikeCount.mean().sort_values(ascending = False))\n",
    "plt.title(\"Average Likes per Category\")\n",
    "plt.show()"
   ]
  },
  {
   "cell_type": "code",
   "execution_count": 103,
   "metadata": {},
   "outputs": [
    {
     "name": "stdout",
     "output_type": "stream",
     "text": [
      "Category\n",
      "Abs      88.393414\n",
      "Chest    86.565321\n",
      "Back     79.931034\n",
      "Arms     64.855821\n",
      "Legs     61.796834\n",
      "Name: CommentCount, dtype: float64\n"
     ]
    },
    {
     "data": {
      "image/png": "[encoded data removed]",
      "text/plain": [
       "<matplotlib.figure.Figure at 0x1f252b70>"
      ]
     },
     "metadata": {},
     "output_type": "display_data"
    }
   ],
   "source": [
    "dfData.groupby('Category').ViewCount.mean().plot(kind=\"bar\")\n",
    "print(dfData.groupby('Category').CommentCount.mean().sort_values(ascending = False))\n",
    "plt.title(\"Average Comments per Category\")\n",
    "plt.show()"
   ]
  },
  {
   "cell_type": "markdown",
   "metadata": {},
   "source": [
    "## Observation"
   ]
  },
  {
   "cell_type": "markdown",
   "metadata": {},
   "source": [
    "Despite Legs having more videos than chest/abs, it has the least amount of views and likes.\n",
    "The most liked videos are chest and abs"
   ]
  },
  {
   "cell_type": "markdown",
   "metadata": {
    "collapsed": true
   },
   "source": [
    "### Categorizing by \"Sponsored\" and \"Description Box\" "
   ]
  },
  {
   "cell_type": "code",
   "execution_count": 20,
   "metadata": {},
   "outputs": [],
   "source": [
    "# Abs Workout\n",
    "dfData['isSponsored'] = (dfData['Description'].str.contains('sponsored')  | \n",
    "                       dfData['Description'].str.contains('provided by'))\n",
    "\n",
    "dfData['hasDiscount'] = (dfData['Description'].str.contains(\"discount\") |\n",
    "                        dfData['Description'].str.contains(\"code\"))"
   ]
  },
  {
   "cell_type": "code",
   "execution_count": 23,
   "metadata": {
    "scrolled": false
   },
   "outputs": [
    {
     "data": {
      "text/plain": [
       "<matplotlib.axes._subplots.AxesSubplot at 0x12efa240>"
      ]
     },
     "execution_count": 23,
     "metadata": {},
     "output_type": "execute_result"
    },
    {
     "data": {
      "image/png": "[encoded data removed]",
      "text/plain": [
       "<matplotlib.figure.Figure at 0x12edf9e8>"
      ]
     },
     "metadata": {},
     "output_type": "display_data"
    }
   ],
   "source": [
    "dfData.groupby('isSponsored').ViewCount.mean().plot(kind=\"bar\")"
   ]
  },
  {
   "cell_type": "code",
   "execution_count": 24,
   "metadata": {},
   "outputs": [
    {
     "data": {
      "text/plain": [
       "<matplotlib.axes._subplots.AxesSubplot at 0x1339af98>"
      ]
     },
     "execution_count": 24,
     "metadata": {},
     "output_type": "execute_result"
    },
    {
     "data": {
      "image/png": "[encoded data removed]",
      "text/plain": [
       "<matplotlib.figure.Figure at 0x10479d68>"
      ]
     },
     "metadata": {},
     "output_type": "display_data"
    }
   ],
   "source": [
    "dfData.groupby('hasDiscount').ViewCount.mean().plot(kind=\"bar\")"
   ]
  },
  {
   "cell_type": "code",
   "execution_count": null,
   "metadata": {
    "collapsed": true
   },
   "outputs": [],
   "source": [
    "# Motivation\n",
    "# Transformation\n",
    "# Keywords: Ripped/Extreme/sexy/fat/intense\n",
    "# BodyBuilding\n",
    "# Tutorial/How To"
   ]
  },
  {
   "cell_type": "code",
   "execution_count": 27,
   "metadata": {},
   "outputs": [],
   "source": [
    "def getLanguage(s):\n",
    "    return detect(s);\n",
    "dfData['Lang'] = dfData['Description'].apply(getLanguage)"
   ]
  },
  {
   "cell_type": "code",
   "execution_count": 30,
   "metadata": {},
   "outputs": [
    {
     "data": {
      "text/html": [
       "<div>\n",
       "<style>\n",
       "    .dataframe thead tr:only-child th {\n",
       "        text-align: right;\n",
       "    }\n",
       "\n",
       "    .dataframe thead th {\n",
       "        text-align: left;\n",
       "    }\n",
       "\n",
       "    .dataframe tbody tr th {\n",
       "        vertical-align: top;\n",
       "    }\n",
       "</style>\n",
       "<table border=\"1\" class=\"dataframe\">\n",
       "  <thead>\n",
       "    <tr style=\"text-align: right;\">\n",
       "      <th></th>\n",
       "      <th>Id</th>\n",
       "      <th>Title</th>\n",
       "      <th>Description</th>\n",
       "      <th>LikeCount</th>\n",
       "      <th>DislikeCount</th>\n",
       "      <th>ViewCount</th>\n",
       "      <th>FavoriteCount</th>\n",
       "      <th>CommentCount</th>\n",
       "      <th>PublishedAt</th>\n",
       "      <th>Channel Id</th>\n",
       "      <th>...</th>\n",
       "      <th>Thumbnail Default</th>\n",
       "      <th>Abs Video</th>\n",
       "      <th>Chest Video</th>\n",
       "      <th>Back Video</th>\n",
       "      <th>Legs Video</th>\n",
       "      <th>Arm Video</th>\n",
       "      <th>Category</th>\n",
       "      <th>isSponsored</th>\n",
       "      <th>hasDiscount</th>\n",
       "      <th>Lang</th>\n",
       "    </tr>\n",
       "  </thead>\n",
       "  <tbody>\n",
       "    <tr>\n",
       "      <th>0</th>\n",
       "      <td>AUzyaHo0QQc</td>\n",
       "      <td>b'300 pushups a day for 20 days!! - results!!'</td>\n",
       "      <td>b'**NEW** (2016) Abs Workout for 30 Days | htt...</td>\n",
       "      <td>40408</td>\n",
       "      <td>10312</td>\n",
       "      <td>13577683</td>\n",
       "      <td>0</td>\n",
       "      <td>8236</td>\n",
       "      <td>2010-07-22T10:28:30.000Z</td>\n",
       "      <td>UCPE_dNzOtjpP0vUA6papYaw</td>\n",
       "      <td>...</td>\n",
       "      <td>b'https://i.ytimg.com/vi/AUzyaHo0QQc/default.jpg'</td>\n",
       "      <td>True</td>\n",
       "      <td>True</td>\n",
       "      <td>False</td>\n",
       "      <td>False</td>\n",
       "      <td>False</td>\n",
       "      <td>Chest</td>\n",
       "      <td>False</td>\n",
       "      <td>False</td>\n",
       "      <td>en</td>\n",
       "    </tr>\n",
       "    <tr>\n",
       "      <th>1</th>\n",
       "      <td>1Zgtdb7jp60</td>\n",
       "      <td>b'john cena - gym'</td>\n",
       "      <td>b\"Follow John Cena on twitter: http://www.twit...</td>\n",
       "      <td>37867</td>\n",
       "      <td>1486</td>\n",
       "      <td>9986096</td>\n",
       "      <td>0</td>\n",
       "      <td>2563</td>\n",
       "      <td>2012-02-20T13:55:03.000Z</td>\n",
       "      <td>UCpAxDQTpPNgc6kFiBRNO_1A</td>\n",
       "      <td>...</td>\n",
       "      <td>b'https://i.ytimg.com/vi/1Zgtdb7jp60/default.jpg'</td>\n",
       "      <td>False</td>\n",
       "      <td>True</td>\n",
       "      <td>True</td>\n",
       "      <td>True</td>\n",
       "      <td>True</td>\n",
       "      <td>Arms</td>\n",
       "      <td>False</td>\n",
       "      <td>False</td>\n",
       "      <td>en</td>\n",
       "    </tr>\n",
       "    <tr>\n",
       "      <th>2</th>\n",
       "      <td>1Sfii7rnkJQ</td>\n",
       "      <td>b'bodybuilding motivation - no time to waste'</td>\n",
       "      <td>b\"Follow me:\\nhttp://instagram.com/shaqx.bb\\nh...</td>\n",
       "      <td>17688</td>\n",
       "      <td>1291</td>\n",
       "      <td>8532402</td>\n",
       "      <td>0</td>\n",
       "      <td>1515</td>\n",
       "      <td>2012-01-18T15:06:01.000Z</td>\n",
       "      <td>UC3uDucFPe-E0I6CfxtHWZ6w</td>\n",
       "      <td>...</td>\n",
       "      <td>b'https://i.ytimg.com/vi/1Sfii7rnkJQ/default.jpg'</td>\n",
       "      <td>False</td>\n",
       "      <td>False</td>\n",
       "      <td>False</td>\n",
       "      <td>False</td>\n",
       "      <td>False</td>\n",
       "      <td>NaN</td>\n",
       "      <td>False</td>\n",
       "      <td>False</td>\n",
       "      <td>en</td>\n",
       "    </tr>\n",
       "    <tr>\n",
       "      <th>3</th>\n",
       "      <td>UUwSKJjx9Go</td>\n",
       "      <td>b'most powerful home chest workout ever : buil...</td>\n",
       "      <td>b'http://www.6weeksixpack.com This is one of t...</td>\n",
       "      <td>46293</td>\n",
       "      <td>2589</td>\n",
       "      <td>8301027</td>\n",
       "      <td>0</td>\n",
       "      <td>1490</td>\n",
       "      <td>2013-10-17T21:56:53.000Z</td>\n",
       "      <td>UCsiNPbLbwZk43FOCRrdKBlA</td>\n",
       "      <td>...</td>\n",
       "      <td>b'https://i.ytimg.com/vi/UUwSKJjx9Go/default.jpg'</td>\n",
       "      <td>True</td>\n",
       "      <td>True</td>\n",
       "      <td>False</td>\n",
       "      <td>False</td>\n",
       "      <td>False</td>\n",
       "      <td>Chest</td>\n",
       "      <td>False</td>\n",
       "      <td>False</td>\n",
       "      <td>en</td>\n",
       "    </tr>\n",
       "    <tr>\n",
       "      <th>4</th>\n",
       "      <td>Yl3NGvna2KA</td>\n",
       "      <td>b'greg plitt best of the best workout video pr...</td>\n",
       "      <td>b'SIGN UP TODAY - http://bit.ly/jointheranks\\r...</td>\n",
       "      <td>24784</td>\n",
       "      <td>1134</td>\n",
       "      <td>7141821</td>\n",
       "      <td>0</td>\n",
       "      <td>575</td>\n",
       "      <td>2011-03-30T18:57:57.000Z</td>\n",
       "      <td>UCU6WaCIOCL_eToBcsBYFwAQ</td>\n",
       "      <td>...</td>\n",
       "      <td>b'https://i.ytimg.com/vi/Yl3NGvna2KA/default.jpg'</td>\n",
       "      <td>False</td>\n",
       "      <td>True</td>\n",
       "      <td>True</td>\n",
       "      <td>False</td>\n",
       "      <td>True</td>\n",
       "      <td>Arms</td>\n",
       "      <td>False</td>\n",
       "      <td>False</td>\n",
       "      <td>en</td>\n",
       "    </tr>\n",
       "  </tbody>\n",
       "</table>\n",
       "<p>5 rows × 22 columns</p>\n",
       "</div>"
      ],
      "text/plain": [
       "            Id                                              Title  \\\n",
       "0  AUzyaHo0QQc     b'300 pushups a day for 20 days!! - results!!'   \n",
       "1  1Zgtdb7jp60                                 b'john cena - gym'   \n",
       "2  1Sfii7rnkJQ      b'bodybuilding motivation - no time to waste'   \n",
       "3  UUwSKJjx9Go  b'most powerful home chest workout ever : buil...   \n",
       "4  Yl3NGvna2KA  b'greg plitt best of the best workout video pr...   \n",
       "\n",
       "                                         Description  LikeCount  DislikeCount  \\\n",
       "0  b'**NEW** (2016) Abs Workout for 30 Days | htt...      40408         10312   \n",
       "1  b\"Follow John Cena on twitter: http://www.twit...      37867          1486   \n",
       "2  b\"Follow me:\\nhttp://instagram.com/shaqx.bb\\nh...      17688          1291   \n",
       "3  b'http://www.6weeksixpack.com This is one of t...      46293          2589   \n",
       "4  b'SIGN UP TODAY - http://bit.ly/jointheranks\\r...      24784          1134   \n",
       "\n",
       "   ViewCount  FavoriteCount  CommentCount               PublishedAt  \\\n",
       "0   13577683              0          8236  2010-07-22T10:28:30.000Z   \n",
       "1    9986096              0          2563  2012-02-20T13:55:03.000Z   \n",
       "2    8532402              0          1515  2012-01-18T15:06:01.000Z   \n",
       "3    8301027              0          1490  2013-10-17T21:56:53.000Z   \n",
       "4    7141821              0           575  2011-03-30T18:57:57.000Z   \n",
       "\n",
       "                 Channel Id  ...   \\\n",
       "0  UCPE_dNzOtjpP0vUA6papYaw  ...    \n",
       "1  UCpAxDQTpPNgc6kFiBRNO_1A  ...    \n",
       "2  UC3uDucFPe-E0I6CfxtHWZ6w  ...    \n",
       "3  UCsiNPbLbwZk43FOCRrdKBlA  ...    \n",
       "4  UCU6WaCIOCL_eToBcsBYFwAQ  ...    \n",
       "\n",
       "                                   Thumbnail Default Abs Video Chest Video  \\\n",
       "0  b'https://i.ytimg.com/vi/AUzyaHo0QQc/default.jpg'      True        True   \n",
       "1  b'https://i.ytimg.com/vi/1Zgtdb7jp60/default.jpg'     False        True   \n",
       "2  b'https://i.ytimg.com/vi/1Sfii7rnkJQ/default.jpg'     False       False   \n",
       "3  b'https://i.ytimg.com/vi/UUwSKJjx9Go/default.jpg'      True        True   \n",
       "4  b'https://i.ytimg.com/vi/Yl3NGvna2KA/default.jpg'     False        True   \n",
       "\n",
       "   Back Video  Legs Video  Arm Video  Category  isSponsored hasDiscount  Lang  \n",
       "0       False       False      False     Chest        False       False    en  \n",
       "1        True        True       True      Arms        False       False    en  \n",
       "2       False       False      False       NaN        False       False    en  \n",
       "3       False       False      False     Chest        False       False    en  \n",
       "4        True       False       True      Arms        False       False    en  \n",
       "\n",
       "[5 rows x 22 columns]"
      ]
     },
     "execution_count": 30,
     "metadata": {},
     "output_type": "execute_result"
    }
   ],
   "source": [
    "dfData.head()"
   ]
  },
  {
   "cell_type": "code",
   "execution_count": 34,
   "metadata": {
    "collapsed": true
   },
   "outputs": [],
   "source": [
    "dfData = dfData.drop(['Thumbnail Default','Abs Video','Chest Video','Back Video','Legs Video','Arm Video','Category','isSponsored','hasDiscount'],axis = 1)"
   ]
  },
  {
   "cell_type": "code",
   "execution_count": null,
   "metadata": {
    "collapsed": true
   },
   "outputs": [],
   "source": []
  },
  {
   "cell_type": "code",
   "execution_count": 37,
   "metadata": {
    "collapsed": true
   },
   "outputs": [],
   "source": [
    "dfData.to_csv(\"../data/data_and_language.csv\")"
   ]
  },
  {
   "cell_type": "code",
   "execution_count": null,
   "metadata": {
    "collapsed": true
   },
   "outputs": [],
   "source": []
  }
 ],
 "metadata": {
  "kernelspec": {
   "display_name": "Python 2",
   "language": "python",
   "name": "python2"
  },
  "language_info": {
   "codemirror_mode": {
    "name": "ipython",
    "version": 2
   },
   "file_extension": ".py",
   "mimetype": "text/x-python",
   "name": "python",
   "nbconvert_exporter": "python",
   "pygments_lexer": "ipython2",
   "version": "2.7.13"
  }
 },
 "nbformat": 4,
 "nbformat_minor": 1
}
