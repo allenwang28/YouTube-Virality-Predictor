{
 "cells": [
  {
   "cell_type": "code",
   "execution_count": 471,
   "metadata": {
    "collapsed": true
   },
   "outputs": [],
   "source": [
    "%matplotlib inline\n",
    "import pandas as pd\n",
    "import numpy as np\n",
    "import matplotlib.pyplot as plt\n",
    "import seaborn as sns\n",
    "from scipy import stats\n",
    "from ast import literal_eval\n",
    "from sklearn.feature_extraction.text import TfidfVectorizer, CountVectorizer\n",
    "from sklearn.metrics.pairwise import linear_kernel, cosine_similarity\n",
    "from nltk.stem.snowball import SnowballStemmer\n",
    "from nltk.stem.wordnet import WordNetLemmatizer\n",
    "from nltk.corpus import wordnet\n",
    "from langdetect import detect\n",
    "\n",
    "import warnings; warnings.simplefilter('ignore')"
   ]
  },
  {
   "cell_type": "markdown",
   "metadata": {},
   "source": [
    "# Categorizing Videos By Text"
   ]
  },
  {
   "cell_type": "code",
   "execution_count": 472,
   "metadata": {
    "collapsed": true
   },
   "outputs": [],
   "source": [
    "# Video Related Features\n",
    "dfData = pd.read_csv('../data/cleaned_subset.csv')\n",
    "dfImText = pd.read_csv('../data/image_text.csv')\n",
    "dfNSFW = pd.read_csv('../data/virality_nsfw.csv')\n",
    "dfLang = pd.read_csv('../data/data_and_language.csv')\n",
    "dfClickBait = pd.read_csv('../data/clickbait.csv')\n",
    "# Channel stats\n",
    "dfChannel = pd.read_csv('../data/channelStats.csv')"
   ]
  },
  {
   "cell_type": "code",
   "execution_count": 473,
   "metadata": {
    "collapsed": true
   },
   "outputs": [],
   "source": [
    "dfNSFW.rename(columns={'video_id' : 'Id'}, inplace = True)"
   ]
  },
  {
   "cell_type": "code",
   "execution_count": 474,
   "metadata": {
    "collapsed": true
   },
   "outputs": [],
   "source": [
    "dfData = dfData.merge(dfLang,on='Id',how='left')\n",
    "dfData = dfData.merge(dfImText,on='Id',how='left')\n",
    "dfData = dfData.merge(dfNSFW,on='Id',how='left')\n",
    "dfData = dfData.merge(dfClickBait,on='Id',how = 'left')\n",
    "dfData = dfData.merge(dfChannel,on='Channel Id',how='left')\n"
   ]
  },
  {
   "cell_type": "code",
   "execution_count": 475,
   "metadata": {},
   "outputs": [
    {
     "data": {
      "text/html": [
       "<div>\n",
       "<style>\n",
       "    .dataframe thead tr:only-child th {\n",
       "        text-align: right;\n",
       "    }\n",
       "\n",
       "    .dataframe thead th {\n",
       "        text-align: left;\n",
       "    }\n",
       "\n",
       "    .dataframe tbody tr th {\n",
       "        vertical-align: top;\n",
       "    }\n",
       "</style>\n",
       "<table border=\"1\" class=\"dataframe\">\n",
       "  <thead>\n",
       "    <tr style=\"text-align: right;\">\n",
       "      <th></th>\n",
       "      <th>Id</th>\n",
       "      <th>Title</th>\n",
       "      <th>Description</th>\n",
       "      <th>LikeCount</th>\n",
       "      <th>DislikeCount</th>\n",
       "      <th>ViewCount</th>\n",
       "      <th>FavoriteCount</th>\n",
       "      <th>CommentCount</th>\n",
       "      <th>PublishedAt</th>\n",
       "      <th>Channel Id</th>\n",
       "      <th>...</th>\n",
       "      <th>Thumbnail Default</th>\n",
       "      <th>Lang</th>\n",
       "      <th>ImageText</th>\n",
       "      <th>ContainsText</th>\n",
       "      <th>nsfw_score</th>\n",
       "      <th>Title-Clickbait</th>\n",
       "      <th>publishedAt</th>\n",
       "      <th>subscriberCount</th>\n",
       "      <th>channelVideoCount</th>\n",
       "      <th>channelViewCount</th>\n",
       "    </tr>\n",
       "  </thead>\n",
       "  <tbody>\n",
       "    <tr>\n",
       "      <th>0</th>\n",
       "      <td>AUzyaHo0QQc</td>\n",
       "      <td>b'300 pushups a day for 20 days!! - Results!!'</td>\n",
       "      <td>b'**NEW** (2016) Abs Workout for 30 Days | htt...</td>\n",
       "      <td>40408</td>\n",
       "      <td>10312</td>\n",
       "      <td>13577683</td>\n",
       "      <td>0</td>\n",
       "      <td>8236</td>\n",
       "      <td>2010-07-22T10:28:30.000Z</td>\n",
       "      <td>UCPE_dNzOtjpP0vUA6papYaw</td>\n",
       "      <td>...</td>\n",
       "      <td>b'https://i.ytimg.com/vi/AUzyaHo0QQc/default.jpg'</td>\n",
       "      <td>en</td>\n",
       "      <td>{u'regions': [], u'orientation': u'NotDetected...</td>\n",
       "      <td>False</td>\n",
       "      <td>0.503699</td>\n",
       "      <td>0.923196</td>\n",
       "      <td>2009-12-22T03:47:24.000Z</td>\n",
       "      <td>47571</td>\n",
       "      <td>23</td>\n",
       "      <td>16245729</td>\n",
       "    </tr>\n",
       "    <tr>\n",
       "      <th>1</th>\n",
       "      <td>1Zgtdb7jp60</td>\n",
       "      <td>b'John Cena - gym'</td>\n",
       "      <td>b\"Follow John Cena on twitter: http://www.twit...</td>\n",
       "      <td>37867</td>\n",
       "      <td>1486</td>\n",
       "      <td>9986096</td>\n",
       "      <td>0</td>\n",
       "      <td>2563</td>\n",
       "      <td>2012-02-20T13:55:03.000Z</td>\n",
       "      <td>UCpAxDQTpPNgc6kFiBRNO_1A</td>\n",
       "      <td>...</td>\n",
       "      <td>b'https://i.ytimg.com/vi/1Zgtdb7jp60/default.jpg'</td>\n",
       "      <td>en</td>\n",
       "      <td>{u'regions': [], u'orientation': u'NotDetected...</td>\n",
       "      <td>False</td>\n",
       "      <td>0.911593</td>\n",
       "      <td>0.106193</td>\n",
       "      <td>2011-11-11T20:58:03.000Z</td>\n",
       "      <td>109298</td>\n",
       "      <td>6</td>\n",
       "      <td>47779958</td>\n",
       "    </tr>\n",
       "    <tr>\n",
       "      <th>2</th>\n",
       "      <td>1Sfii7rnkJQ</td>\n",
       "      <td>b'Bodybuilding Motivation - No Time To Waste'</td>\n",
       "      <td>b\"Follow me:\\nhttp://instagram.com/shaqx.bb\\nh...</td>\n",
       "      <td>17688</td>\n",
       "      <td>1291</td>\n",
       "      <td>8532402</td>\n",
       "      <td>0</td>\n",
       "      <td>1515</td>\n",
       "      <td>2012-01-18T15:06:01.000Z</td>\n",
       "      <td>UC3uDucFPe-E0I6CfxtHWZ6w</td>\n",
       "      <td>...</td>\n",
       "      <td>b'https://i.ytimg.com/vi/1Sfii7rnkJQ/default.jpg'</td>\n",
       "      <td>en</td>\n",
       "      <td>{u'regions': [], u'orientation': u'NotDetected...</td>\n",
       "      <td>False</td>\n",
       "      <td>0.263383</td>\n",
       "      <td>0.155738</td>\n",
       "      <td>2011-07-09T16:13:17.000Z</td>\n",
       "      <td>218558</td>\n",
       "      <td>19</td>\n",
       "      <td>75698414</td>\n",
       "    </tr>\n",
       "    <tr>\n",
       "      <th>3</th>\n",
       "      <td>UUwSKJjx9Go</td>\n",
       "      <td>b'Most Powerful Home Chest Workout Ever : Buil...</td>\n",
       "      <td>b'http://www.6weeksixpack.com This is one of t...</td>\n",
       "      <td>46293</td>\n",
       "      <td>2589</td>\n",
       "      <td>8301027</td>\n",
       "      <td>0</td>\n",
       "      <td>1490</td>\n",
       "      <td>2013-10-17T21:56:53.000Z</td>\n",
       "      <td>UCsiNPbLbwZk43FOCRrdKBlA</td>\n",
       "      <td>...</td>\n",
       "      <td>b'https://i.ytimg.com/vi/UUwSKJjx9Go/default.jpg'</td>\n",
       "      <td>en</td>\n",
       "      <td>{u'regions': [], u'orientation': u'NotDetected...</td>\n",
       "      <td>False</td>\n",
       "      <td>0.569090</td>\n",
       "      <td>0.075479</td>\n",
       "      <td>2006-08-07T08:12:53.000Z</td>\n",
       "      <td>1145468</td>\n",
       "      <td>585</td>\n",
       "      <td>186804665</td>\n",
       "    </tr>\n",
       "    <tr>\n",
       "      <th>4</th>\n",
       "      <td>Yl3NGvna2KA</td>\n",
       "      <td>b'Greg Plitt Best of The Best Workout Video Pr...</td>\n",
       "      <td>b'SIGN UP TODAY - http://bit.ly/jointheranks\\r...</td>\n",
       "      <td>24784</td>\n",
       "      <td>1134</td>\n",
       "      <td>7141821</td>\n",
       "      <td>0</td>\n",
       "      <td>575</td>\n",
       "      <td>2011-03-30T18:57:57.000Z</td>\n",
       "      <td>UCU6WaCIOCL_eToBcsBYFwAQ</td>\n",
       "      <td>...</td>\n",
       "      <td>b'https://i.ytimg.com/vi/Yl3NGvna2KA/default.jpg'</td>\n",
       "      <td>en</td>\n",
       "      <td>{u'regions': [], u'orientation': u'NotDetected...</td>\n",
       "      <td>False</td>\n",
       "      <td>0.287760</td>\n",
       "      <td>0.351647</td>\n",
       "      <td>2009-10-24T03:18:10.000Z</td>\n",
       "      <td>158091</td>\n",
       "      <td>22</td>\n",
       "      <td>9908854</td>\n",
       "    </tr>\n",
       "  </tbody>\n",
       "</table>\n",
       "<p>5 rows × 22 columns</p>\n",
       "</div>"
      ],
      "text/plain": [
       "            Id                                              Title  \\\n",
       "0  AUzyaHo0QQc     b'300 pushups a day for 20 days!! - Results!!'   \n",
       "1  1Zgtdb7jp60                                 b'John Cena - gym'   \n",
       "2  1Sfii7rnkJQ      b'Bodybuilding Motivation - No Time To Waste'   \n",
       "3  UUwSKJjx9Go  b'Most Powerful Home Chest Workout Ever : Buil...   \n",
       "4  Yl3NGvna2KA  b'Greg Plitt Best of The Best Workout Video Pr...   \n",
       "\n",
       "                                         Description  LikeCount  DislikeCount  \\\n",
       "0  b'**NEW** (2016) Abs Workout for 30 Days | htt...      40408         10312   \n",
       "1  b\"Follow John Cena on twitter: http://www.twit...      37867          1486   \n",
       "2  b\"Follow me:\\nhttp://instagram.com/shaqx.bb\\nh...      17688          1291   \n",
       "3  b'http://www.6weeksixpack.com This is one of t...      46293          2589   \n",
       "4  b'SIGN UP TODAY - http://bit.ly/jointheranks\\r...      24784          1134   \n",
       "\n",
       "   ViewCount  FavoriteCount  CommentCount               PublishedAt  \\\n",
       "0   13577683              0          8236  2010-07-22T10:28:30.000Z   \n",
       "1    9986096              0          2563  2012-02-20T13:55:03.000Z   \n",
       "2    8532402              0          1515  2012-01-18T15:06:01.000Z   \n",
       "3    8301027              0          1490  2013-10-17T21:56:53.000Z   \n",
       "4    7141821              0           575  2011-03-30T18:57:57.000Z   \n",
       "\n",
       "                 Channel Id        ...         \\\n",
       "0  UCPE_dNzOtjpP0vUA6papYaw        ...          \n",
       "1  UCpAxDQTpPNgc6kFiBRNO_1A        ...          \n",
       "2  UC3uDucFPe-E0I6CfxtHWZ6w        ...          \n",
       "3  UCsiNPbLbwZk43FOCRrdKBlA        ...          \n",
       "4  UCU6WaCIOCL_eToBcsBYFwAQ        ...          \n",
       "\n",
       "                                   Thumbnail Default Lang  \\\n",
       "0  b'https://i.ytimg.com/vi/AUzyaHo0QQc/default.jpg'   en   \n",
       "1  b'https://i.ytimg.com/vi/1Zgtdb7jp60/default.jpg'   en   \n",
       "2  b'https://i.ytimg.com/vi/1Sfii7rnkJQ/default.jpg'   en   \n",
       "3  b'https://i.ytimg.com/vi/UUwSKJjx9Go/default.jpg'   en   \n",
       "4  b'https://i.ytimg.com/vi/Yl3NGvna2KA/default.jpg'   en   \n",
       "\n",
       "                                           ImageText ContainsText nsfw_score  \\\n",
       "0  {u'regions': [], u'orientation': u'NotDetected...        False   0.503699   \n",
       "1  {u'regions': [], u'orientation': u'NotDetected...        False   0.911593   \n",
       "2  {u'regions': [], u'orientation': u'NotDetected...        False   0.263383   \n",
       "3  {u'regions': [], u'orientation': u'NotDetected...        False   0.569090   \n",
       "4  {u'regions': [], u'orientation': u'NotDetected...        False   0.287760   \n",
       "\n",
       "  Title-Clickbait               publishedAt  subscriberCount  \\\n",
       "0        0.923196  2009-12-22T03:47:24.000Z            47571   \n",
       "1        0.106193  2011-11-11T20:58:03.000Z           109298   \n",
       "2        0.155738  2011-07-09T16:13:17.000Z           218558   \n",
       "3        0.075479  2006-08-07T08:12:53.000Z          1145468   \n",
       "4        0.351647  2009-10-24T03:18:10.000Z           158091   \n",
       "\n",
       "  channelVideoCount  channelViewCount  \n",
       "0                23          16245729  \n",
       "1                 6          47779958  \n",
       "2                19          75698414  \n",
       "3               585         186804665  \n",
       "4                22           9908854  \n",
       "\n",
       "[5 rows x 22 columns]"
      ]
     },
     "execution_count": 475,
     "metadata": {},
     "output_type": "execute_result"
    }
   ],
   "source": [
    "dfData.head()"
   ]
  },
  {
   "cell_type": "markdown",
   "metadata": {},
   "source": [
    "# Feature Creation using Title and Description Text"
   ]
  },
  {
   "cell_type": "markdown",
   "metadata": {},
   "source": [
    "## Looking at Categorical Workouts"
   ]
  },
  {
   "cell_type": "code",
   "execution_count": 476,
   "metadata": {
    "collapsed": true
   },
   "outputs": [],
   "source": [
    "# Conver to lower case \n",
    "dfData['Title'] = dfData['Title'].str.lower()\n",
    "\n",
    "\n",
    "# Abs Workout\n",
    "dfData['Abs Video'] = (dfData['Title'].str.contains('abs')  | \n",
    "                       dfData['Title'].str.contains('six') | \n",
    "                       dfData['Title'].str.contains(' 6') | \n",
    "                       dfData['Title'].str.contains('abdomen') |\n",
    "                       dfData['Tags'].str.contains('abs')  | \n",
    "                       dfData['Tags'].str.contains('six') | \n",
    "                       dfData['Tags'].str.contains(' 6') | \n",
    "                       dfData['Tags'].str.contains('abdomen') \n",
    "                      )\n",
    "        \n",
    "# Chest Workout\n",
    "dfData['Chest Video'] = (dfData['Title'].str.contains('chest')  |\n",
    "                         dfData['Title'].str.contains('pushup') | \n",
    "                         dfData['Title'].str.contains('bench') | \n",
    "                         dfData['Title'].str.contains('bench') | \n",
    "                         dfData['Title'].str.contains('push up') |\n",
    "                         dfData['Title'].str.contains('dumbell press') |\n",
    "                         dfData['Tags'].str.contains('chest')  |\n",
    "                         dfData['Tags'].str.contains('pushup') | \n",
    "                         dfData['Tags'].str.contains('bench') | \n",
    "                         dfData['Tags'].str.contains('bench') | \n",
    "                         dfData['Tags'].str.contains('push up') |\n",
    "                         dfData['Tags'].str.contains('dumbell press'))\n",
    "\n",
    "# Back Workouts \n",
    "dfData['Back Video'] = (dfData['Title'].str.contains('back') | \n",
    "                        dfData['Title'].str.contains('pull up') | \n",
    "                        dfData['Title'].str.contains('chin up')  | \n",
    "                        dfData['Title'].str.contains('deadlift') | \n",
    "                        dfData['Tags'].str.contains('back') | \n",
    "                        dfData['Tags'].str.contains('pull up') | \n",
    "                        dfData['Tags'].str.contains('chin up')  | \n",
    "                        dfData['Tags'].str.contains('deadlift'))\n",
    "\n",
    "# Leg Workouts\n",
    "dfData['Legs Video'] = (dfData['Title'].str.contains('leg') | \n",
    "                        dfData['Title'].str.contains('squat') | \n",
    "                        dfData['Title'].str.contains('butt') | \n",
    "                        dfData['Title'].str.contains('quad') | \n",
    "                        dfData['Title'].str.contains('calve') |\n",
    "                       dfData['Tags'].str.contains('leg') | \n",
    "                        dfData['Tags'].str.contains('squat') | \n",
    "                        dfData['Tags'].str.contains('butt') | \n",
    "                        dfData['Tags'].str.contains('quad') | \n",
    "                        dfData['Tags'].str.contains('calve') )\n",
    "\n",
    "# Arm Workout\n",
    "dfData['Arm Video'] = (dfData['Title'].str.contains('shoulder') | \n",
    "                       dfData['Title'].str.contains('arm') | \n",
    "                       dfData['Title'].str.contains('bicep')  |\n",
    "                       dfData['Title'].str.contains('tricep') | \n",
    "                       dfData['Title'].str.contains('delt') |\n",
    "                       dfData['Tags'].str.contains('shoulder') | \n",
    "                       dfData['Tags'].str.contains('arm') | \n",
    "                       dfData['Tags'].str.contains('bicep')  |\n",
    "                       dfData['Tags'].str.contains('tricep') | \n",
    "                       dfData['Tags'].str.contains('delt'))\n",
    "\n"
   ]
  },
  {
   "cell_type": "code",
   "execution_count": 477,
   "metadata": {
    "collapsed": true
   },
   "outputs": [],
   "source": [
    "dfData.loc[dfData['Abs Video'] == True , 'Category'] = 'Abs'\n",
    "dfData.loc[dfData['Chest Video'] == True , 'Category'] = 'Chest'\n",
    "dfData.loc[dfData['Back Video'] == True, 'Category'] = 'Back'\n",
    "dfData.loc[dfData['Legs Video'] == True, 'Category'] = 'Legs'\n",
    "dfData.loc[dfData['Arm Video'] == True, 'Category'] = 'Arms'"
   ]
  },
  {
   "cell_type": "code",
   "execution_count": 478,
   "metadata": {},
   "outputs": [
    {
     "data": {
      "text/plain": [
       "6699"
      ]
     },
     "execution_count": 478,
     "metadata": {},
     "output_type": "execute_result"
    }
   ],
   "source": [
    "#dfData = dfData.drop(['Abs Video', 'Chest Video','Back Video','Legs Video', 'Arm Video'], axis =1 )\n",
    "dfData[dfData['Category'].isnull()].shape[0]"
   ]
  },
  {
   "cell_type": "code",
   "execution_count": 479,
   "metadata": {},
   "outputs": [
    {
     "name": "stdout",
     "output_type": "stream",
     "text": [
      "Number of Abs Related Videos: 577\n",
      "Number of Chest Related Videos: 421\n",
      "Number of Back Related Videos: 551\n",
      "Number of Leg Related Videos: 1137\n",
      "Number of Arm Related Videos: 1297\n"
     ]
    }
   ],
   "source": [
    "absVid = dfData[dfData['Category'] == 'Abs']\n",
    "chestVid = dfData[dfData['Category'] == 'Chest']\n",
    "backVid = dfData[dfData['Category'] == 'Back']\n",
    "legsVid = dfData[dfData['Category'] == 'Legs']\n",
    "armsVid = dfData[dfData['Category'] == 'Arms']\n",
    "\n",
    "print \"Number of Abs Related Videos: \" + str(absVid.shape[0])\n",
    "print \"Number of Chest Related Videos: \" + str(chestVid.shape[0])\n",
    "print \"Number of Back Related Videos: \" + str(backVid.shape[0])\n",
    "print \"Number of Leg Related Videos: \" + str(legsVid.shape[0])\n",
    "print \"Number of Arm Related Videos: \" + str(armsVid.shape[0])"
   ]
  },
  {
   "cell_type": "markdown",
   "metadata": {},
   "source": [
    "## Maybe just Body Part Videos"
   ]
  },
  {
   "cell_type": "code",
   "execution_count": 480,
   "metadata": {},
   "outputs": [],
   "source": [
    "#dfData = dfData[dfData['Category'].notnull()]\n",
    "#dfData.shape[0]"
   ]
  },
  {
   "cell_type": "code",
   "execution_count": 481,
   "metadata": {},
   "outputs": [
    {
     "data": {
      "text/plain": [
       "<matplotlib.text.Text at 0x1ead8358>"
      ]
     },
     "execution_count": 481,
     "metadata": {},
     "output_type": "execute_result"
    },
    {
     "data": {
      "image/png": "[encoded data removed]",
      "text/plain": [
       "<matplotlib.figure.Figure at 0x227f9470>"
      ]
     },
     "metadata": {},
     "output_type": "display_data"
    }
   ],
   "source": [
    "yCols = ['Abs', 'Chest', 'Back', 'Legs', 'Arms']\n",
    "xCols = [absVid.shape[0], chestVid.shape[0], backVid.shape[0], legsVid.shape[0], armsVid.shape[0]]\n",
    "y = np.arange(len(yCols))\n",
    "plt.bar(y, xCols,align = 'center')\n",
    "plt.xticks(y,yCols)\n",
    "plt.ylabel(\"Number of Videos\")\n",
    "plt.title(\"Number of Videos for each Muscle Group\")"
   ]
  },
  {
   "cell_type": "markdown",
   "metadata": {},
   "source": [
    "## Observation\n",
    "Legs/Abs/Arms being the most since they target both a guy/girl audience"
   ]
  },
  {
   "cell_type": "markdown",
   "metadata": {},
   "source": [
    "## Understanding View Distribution"
   ]
  },
  {
   "cell_type": "code",
   "execution_count": 482,
   "metadata": {},
   "outputs": [
    {
     "name": "stdout",
     "output_type": "stream",
     "text": [
      "Category\n",
      "Chest    97198.078385\n",
      "Abs      94679.384749\n",
      "Back     79985.274047\n",
      "Arms     70945.808019\n",
      "Legs     51488.799472\n",
      "Name: ViewCount, dtype: float64\n"
     ]
    },
    {
     "data": {
      "image/png": "[encoded data removed]",
      "text/plain": [
       "<matplotlib.figure.Figure at 0x232e0a58>"
      ]
     },
     "metadata": {},
     "output_type": "display_data"
    }
   ],
   "source": [
    "dfData.groupby('Category').ViewCount.mean().plot(kind=\"bar\")\n",
    "print(dfData.groupby('Category').ViewCount.mean().sort_values(ascending = False))\n",
    "plt.title(\"Average Views per Category\")\n",
    "plt.show()"
   ]
  },
  {
   "cell_type": "code",
   "execution_count": 483,
   "metadata": {},
   "outputs": [
    {
     "name": "stdout",
     "output_type": "stream",
     "text": [
      "Category\n",
      "Abs      717.126516\n",
      "Arms     576.335389\n",
      "Chest    535.152019\n",
      "Back     530.119782\n",
      "Legs     454.141601\n",
      "Name: LikeCount, dtype: float64\n"
     ]
    },
    {
     "data": {
      "image/png": "[encoded data removed]",
      "text/plain": [
       "<matplotlib.figure.Figure at 0x1eaff828>"
      ]
     },
     "metadata": {},
     "output_type": "display_data"
    }
   ],
   "source": [
    "dfData.groupby('Category').LikeCount.mean().plot(kind=\"bar\")\n",
    "print(dfData.groupby('Category').LikeCount.mean().sort_values(ascending = False))\n",
    "plt.title(\"Average Likes per Category\")\n",
    "plt.show()"
   ]
  },
  {
   "cell_type": "code",
   "execution_count": 484,
   "metadata": {},
   "outputs": [
    {
     "name": "stdout",
     "output_type": "stream",
     "text": [
      "Category\n",
      "Abs      88.393414\n",
      "Chest    86.565321\n",
      "Back     79.931034\n",
      "Arms     64.855821\n",
      "Legs     61.796834\n",
      "Name: CommentCount, dtype: float64\n"
     ]
    },
    {
     "data": {
      "image/png": "[encoded data removed]",
      "text/plain": [
       "<matplotlib.figure.Figure at 0x233d4400>"
      ]
     },
     "metadata": {},
     "output_type": "display_data"
    }
   ],
   "source": [
    "dfData.groupby('Category').ViewCount.mean().plot(kind=\"bar\")\n",
    "print(dfData.groupby('Category').CommentCount.mean().sort_values(ascending = False))\n",
    "plt.title(\"Average Comments per Category\")\n",
    "plt.show()"
   ]
  },
  {
   "cell_type": "markdown",
   "metadata": {},
   "source": [
    "## Observation"
   ]
  },
  {
   "cell_type": "markdown",
   "metadata": {},
   "source": [
    "Despite Legs having more videos than chest/abs, it has the least amount of views and likes.\n",
    "The most liked videos are chest and abs"
   ]
  },
  {
   "cell_type": "markdown",
   "metadata": {
    "collapsed": true
   },
   "source": [
    "### Categorizing by \"Sponsored\" and \"Description Box\" "
   ]
  },
  {
   "cell_type": "code",
   "execution_count": 485,
   "metadata": {
    "collapsed": true
   },
   "outputs": [],
   "source": [
    "# Abs Workout\n",
    "dfData['isSponsored'] = (dfData['Description'].str.contains('sponsored')  | \n",
    "                       dfData['Description'].str.contains('provided by'))\n",
    "\n",
    "dfData['hasDiscount'] = (dfData['Description'].str.contains(\"discount\") |\n",
    "                        dfData['Description'].str.contains(\"code\"))"
   ]
  },
  {
   "cell_type": "code",
   "execution_count": 486,
   "metadata": {
    "scrolled": false
   },
   "outputs": [
    {
     "data": {
      "text/plain": [
       "<matplotlib.axes._subplots.AxesSubplot at 0x23160550>"
      ]
     },
     "execution_count": 486,
     "metadata": {},
     "output_type": "execute_result"
    },
    {
     "data": {
      "image/png": "[encoded data removed]",
      "text/plain": [
       "<matplotlib.figure.Figure at 0x23169b00>"
      ]
     },
     "metadata": {},
     "output_type": "display_data"
    }
   ],
   "source": [
    "dfData.groupby('isSponsored').ViewCount.mean().plot(kind=\"bar\")"
   ]
  },
  {
   "cell_type": "code",
   "execution_count": 487,
   "metadata": {},
   "outputs": [
    {
     "data": {
      "text/plain": [
       "<matplotlib.axes._subplots.AxesSubplot at 0x23b61eb8>"
      ]
     },
     "execution_count": 487,
     "metadata": {},
     "output_type": "execute_result"
    },
    {
     "data": {
      "image/png": "[encoded data removed]",
      "text/plain": [
       "<matplotlib.figure.Figure at 0x23bc3c18>"
      ]
     },
     "metadata": {},
     "output_type": "display_data"
    }
   ],
   "source": [
    "dfData.groupby('hasDiscount').ViewCount.mean().plot(kind=\"bar\")"
   ]
  },
  {
   "cell_type": "code",
   "execution_count": 488,
   "metadata": {
    "collapsed": true
   },
   "outputs": [],
   "source": [
    "dfData['LikeDislikeRatio'] = dfData['LikeCount']/(dfData['LikeCount'] + dfData['DislikeCount'])"
   ]
  },
  {
   "cell_type": "code",
   "execution_count": 489,
   "metadata": {
    "collapsed": true
   },
   "outputs": [],
   "source": [
    "# Motivation\n",
    "# Transformation\n",
    "# Keywords: Ripped/Extreme/sexy/fat/intense\n",
    "# BodyBuilding\n",
    "# Tutorial/How To"
   ]
  },
  {
   "cell_type": "code",
   "execution_count": 490,
   "metadata": {},
   "outputs": [
    {
     "data": {
      "text/plain": [
       "Index([u'Id', u'Title', u'Description', u'LikeCount', u'DislikeCount',\n",
       "       u'ViewCount', u'FavoriteCount', u'CommentCount', u'PublishedAt',\n",
       "       u'Channel Id', u'Channel Title', u'Tags', u'Thumbnail Default', u'Lang',\n",
       "       u'ImageText', u'ContainsText', u'nsfw_score', u'Title-Clickbait',\n",
       "       u'publishedAt', u'subscriberCount', u'channelVideoCount',\n",
       "       u'channelViewCount', u'Abs Video', u'Chest Video', u'Back Video',\n",
       "       u'Legs Video', u'Arm Video', u'Category', u'isSponsored',\n",
       "       u'hasDiscount', u'LikeDislikeRatio'],\n",
       "      dtype='object')"
      ]
     },
     "execution_count": 490,
     "metadata": {},
     "output_type": "execute_result"
    }
   ],
   "source": [
    "dfData.columns"
   ]
  },
  {
   "cell_type": "code",
   "execution_count": 491,
   "metadata": {},
   "outputs": [
    {
     "data": {
      "text/plain": [
       "(10682, 31)"
      ]
     },
     "execution_count": 491,
     "metadata": {},
     "output_type": "execute_result"
    }
   ],
   "source": [
    "dfData.shape"
   ]
  },
  {
   "cell_type": "code",
   "execution_count": 492,
   "metadata": {
    "collapsed": true
   },
   "outputs": [],
   "source": [
    "def feature_engineer(dfData):\n",
    "    dfData =dfData.drop(['Category','FavoriteCount','ImageText'],axis =1)\n",
    "    dfData['is_english'] = dfData['Lang'].apply(lambda x: 1 if x=='en' else 0)\n",
    "    dfData = dfData.drop('Lang', axis=1)\n",
    "    \n",
    "    dfData['is_Abs'] = dfData['Abs Video'].apply(lambda x: 1 if x==True else 0)\n",
    "    dfData['is_Chest'] = dfData['Chest Video'].apply(lambda x: 1 if x==True else 0)\n",
    "    dfData['is_Back'] = dfData['Back Video'].apply(lambda x: 1 if x==True else 0)\n",
    "    dfData['is_Legs'] = dfData['Legs Video'].apply(lambda x: 1 if x==True else 0)\n",
    "    dfData['is_Arms'] = dfData['Arm Video'].apply(lambda x: 1 if x==True else 0)\n",
    "    dfData['ContainsText'] = dfData['ContainsText'].apply(lambda x: 1 if x==True else 0)\n",
    "    dfData['isSponsored'] = dfData['isSponsored'].apply(lambda x: 1 if x==True else 0)\n",
    "    dfData['hasDiscount'] = dfData['hasDiscount'].apply(lambda x: 1 if x==True else 0)\n",
    "    dfData['PublishedYear'] = dfData['PublishedAt'].apply(lambda x: x[:4])\n",
    "    dfData['ChannelAge'] =  dfData['publishedAt'].apply(lambda x: x[:4])\n",
    "    #dfData['channelViewCount'] = log(dfData['channelViewCount'])\n",
    "    dfData['ContainsText'] = dfData['ContainsText'].fillna(0)\n",
    "    dfData['nsfw_score'] = dfData['nsfw_score'].fillna(dfData['nsfw_score'].mean())\n",
    "    dfData['Title-Clickbait'] = dfData['Title-Clickbait'].fillna(dfData['nsfw_score'].mean())\n",
    "    dfData['LikeDislikeRatio'] = dfData['LikeCount']/(dfData['DislikeCount'] + dfData['LikeCount'])\n",
    "    \n",
    "    dfData['LikeDislikeRatio'] = dfData['LikeDislikeRatio'].replace(np.inf, np.nan)\n",
    "    dfData['LikeDislikeRatio'] = dfData['LikeDislikeRatio'].fillna(0)\n",
    "    dfData = dfData.drop(['Title','Description','PublishedAt','publishedAt','Channel Id','Channel Title','Tags','Thumbnail Default','Abs Video','Chest Video','Back Video','Legs Video','Arm Video'],axis = 1)\n",
    "    \n",
    "    return dfData\n",
    "\n",
    "def drop_obvious_features(dfData):\n",
    "    dfData = dfData.drop(['LikeCount','DislikeCount','channelViewCount','CommentCount'],axis = 1)\n",
    "    return dfData"
   ]
  },
  {
   "cell_type": "code",
   "execution_count": 493,
   "metadata": {},
   "outputs": [],
   "source": [
    "df = feature_engineer(dfData)"
   ]
  },
  {
   "cell_type": "code",
   "execution_count": 494,
   "metadata": {},
   "outputs": [
    {
     "data": {
      "text/plain": [
       "Index([u'Id', u'LikeCount', u'DislikeCount', u'ViewCount', u'CommentCount',\n",
       "       u'ContainsText', u'nsfw_score', u'Title-Clickbait', u'subscriberCount',\n",
       "       u'channelVideoCount', u'channelViewCount', u'isSponsored',\n",
       "       u'hasDiscount', u'LikeDislikeRatio', u'is_english', u'is_Abs',\n",
       "       u'is_Chest', u'is_Back', u'is_Legs', u'is_Arms', u'PublishedYear',\n",
       "       u'ChannelAge'],\n",
       "      dtype='object')"
      ]
     },
     "execution_count": 494,
     "metadata": {},
     "output_type": "execute_result"
    }
   ],
   "source": [
    "df.columns"
   ]
  },
  {
   "cell_type": "code",
   "execution_count": 517,
   "metadata": {},
   "outputs": [],
   "source": [
    "X, y = df.drop('ViewCount',axis = 1) , np.log(df['ViewCount'])"
   ]
  },
  {
   "cell_type": "code",
   "execution_count": 518,
   "metadata": {},
   "outputs": [],
   "source": [
    "def checkForNull(X,y):\n",
    "    X = X.as_matrix().astype(float)\n",
    "    print \"Check For Null Values\"\n",
    "    for i in range(0,len(df.columns)-1):\n",
    "        print np.any(np.isnan(X[:,i]))\n",
    "    print \"Check for Pred:\"\n",
    "    y = y.as_matrix().astype(float)\n",
    "    print np.any(np.isnan(y))"
   ]
  },
  {
   "cell_type": "code",
   "execution_count": 519,
   "metadata": {
    "collapsed": true
   },
   "outputs": [],
   "source": [
    "from sklearn.ensemble import GradientBoostingClassifier, GradientBoostingRegressor\n",
    "from sklearn.dummy import DummyClassifier, DummyRegressor\n",
    "from sklearn.model_selection import train_test_split\n",
    "from xgboost import XGBClassifier, XGBRegressor\n"
   ]
  },
  {
   "cell_type": "code",
   "execution_count": 520,
   "metadata": {},
   "outputs": [],
   "source": [
    "train_X, test_X, train_y, test_y = train_test_split(X, y, train_size=0.75, test_size=0.25)\n",
    "\n",
    "train_X_id,train_X = train_X.Id, train_X.drop('Id',axis = 1)\n",
    "test_X_id,test_X = test_X.Id, test_X.drop('Id',axis = 1)"
   ]
  },
  {
   "cell_type": "code",
   "execution_count": 521,
   "metadata": {},
   "outputs": [
    {
     "data": {
      "text/plain": [
       "0.50154729377482421"
      ]
     },
     "execution_count": 521,
     "metadata": {},
     "output_type": "execute_result"
    }
   ],
   "source": [
    "reg = GradientBoostingRegressor()\n",
    "reg.fit(train_X, train_y)\n",
    "reg.score(test_X, test_y)"
   ]
  },
  {
   "cell_type": "code",
   "execution_count": 522,
   "metadata": {},
   "outputs": [
    {
     "data": {
      "text/plain": [
       "<matplotlib.axes._subplots.AxesSubplot at 0x25067b70>"
      ]
     },
     "execution_count": 522,
     "metadata": {},
     "output_type": "execute_result"
    },
    {
     "data": {
      "image/png": "[encoded data removed]",
      "text/plain": [
       "<matplotlib.figure.Figure at 0x250674a8>"
      ]
     },
     "metadata": {},
     "output_type": "display_data"
    }
   ],
   "source": [
    "X = X.drop('Id', axis = 1)\n",
    "sns.set_style('whitegrid')\n",
    "plt.figure(figsize=(10,12))\n",
    "sns.barplot(x=reg.feature_importances_, y=X.columns)"
   ]
  },
  {
   "cell_type": "code",
   "execution_count": 501,
   "metadata": {},
   "outputs": [
    {
     "data": {
      "text/plain": [
       "0.40382409592893098"
      ]
     },
     "execution_count": 501,
     "metadata": {},
     "output_type": "execute_result"
    }
   ],
   "source": [
    "df = drop_obvious_features(feature_engineer(dfData))\n",
    "X, y = df.drop(['ViewCount','LikeDislikeRatio'],axis=1), np.log(df['ViewCount'])\n",
    "\n",
    "train_X, test_X, train_y, test_y = train_test_split(X, y, train_size=0.75, test_size=0.25)\n",
    "\n",
    "train_X_id,train_X = train_X.Id, train_X.drop('Id',axis = 1)\n",
    "test_X_id,test_X = test_X.Id, test_X.drop('Id',axis = 1)\n",
    "\n",
    "reg = GradientBoostingRegressor()\n",
    "reg.fit(train_X, train_y)\n",
    "reg.score(test_X, test_y)\n",
    "\n"
   ]
  },
  {
   "cell_type": "code",
   "execution_count": 509,
   "metadata": {},
   "outputs": [
    {
     "name": "stdout",
     "output_type": "stream",
     "text": [
      "                Id             Y\n",
      "3074   4D-ZW_jLWcY  1.007131e+04\n",
      "5335   hMi61NbVeuc  1.263907e+04\n",
      "4750   D0fNd_hsTlg  9.910784e+03\n",
      "4966   fJh3RkiZthI  6.053937e+03\n",
      "2320   -5yLMqm5qk0  8.798319e+03\n",
      "9214   PHbWHjOvy60  8.427207e+03\n",
      "7917   7sTqjPwkPFs  6.409634e+03\n",
      "2863   PKBd4vcW3_E  8.162578e+03\n",
      "7824   vEfhEtq4AE4  9.940168e+03\n",
      "674    c_C8w0Z6DGw  7.691003e+03\n",
      "8205   k8vfou_Y9s4  5.589519e+03\n",
      "1418   MAH_d7hy3sg  9.660702e+03\n",
      "8090   G_lNqeQVH-E  6.516743e+03\n",
      "4783   pJBA2YV5OSw  1.370841e+04\n",
      "2177   hCypWkOCoTM  6.363729e+03\n",
      "2486   VOpoBLLTVVk  1.457710e+04\n",
      "8141   NtIOzqVrceo  7.597669e+03\n",
      "6723   gUzHtMW_y1A  8.392767e+03\n",
      "1331   A6ednX9HNDE  7.122588e+03\n",
      "9602   CVEXlvThF8A  9.233941e+03\n",
      "6338   Sev1x_TWkZc  6.570756e+03\n",
      "1586   4Ec0RmbA58A  6.689940e+03\n",
      "7155   mMUfGWUuC8c  8.451704e+03\n",
      "4708   86v3mO6HLJE  1.008459e+04\n",
      "8937   ryZx-y-HIGA  6.995008e+03\n",
      "5854   1brntGP9x5c  6.407566e+03\n",
      "3842   KJ7ooXNsQos  6.458559e+03\n",
      "9805   7sKcrLfg1Sg  6.115867e+03\n",
      "6546   NyyK_T_SaVI  1.089966e+04\n",
      "10315  mELqZl_ib7M  5.644491e+03\n",
      "...            ...           ...\n",
      "9856   G_Bsv5jL0b0  6.232210e+03\n",
      "340    6WJ0-6dRn_c  3.674558e+04\n",
      "1974   rdpFZtaIwKc  3.402054e+06\n",
      "9397   QwX1fhkCVKg  8.264716e+03\n",
      "1583   CvvrMekSANM  7.616920e+03\n",
      "7366   8NvIusYqx-U  5.591061e+03\n",
      "9825   NdAq9uY3ing  6.303275e+03\n",
      "3651   QNnfybxJv6Q  8.545909e+03\n",
      "1776   0KuQgdwHZ4g  1.006941e+04\n",
      "4281   UB72TGak7-Q  5.406092e+03\n",
      "1757   IK55esDSuJI  1.287453e+04\n",
      "6451   XcUm4zL21m8  7.728995e+03\n",
      "7497   IJvg9d0x_Mw  6.537390e+03\n",
      "3912   stuQR9GnZFo  9.543560e+03\n",
      "3218   V-wbfYYMwbE  6.358804e+03\n",
      "8499   7WLdXH3Mx-Q  7.980412e+03\n",
      "968    PYBHz-zz-CU  8.106804e+03\n",
      "4753   YAY2ZAuzvrE  5.866651e+03\n",
      "489    34XRmd3a8_0  7.005292e+03\n",
      "4848   KF2wj9F3bs8  6.503591e+03\n",
      "5508   0MybrPMC24Q  6.278533e+03\n",
      "7035   7idtJGDqqSE  7.904843e+03\n",
      "7877   QSdyXcbqIjg  7.971616e+03\n",
      "5808   b7NMxJiTRVg  7.105778e+03\n",
      "10332  nSE_WLmlrHM  9.944773e+03\n",
      "2777   s4A6yDBB7Gk  6.110586e+03\n",
      "4702   cRfNjonrfTI  7.770326e+03\n",
      "812    7LLvPeQUOLs  2.665591e+04\n",
      "2716   WZKNeUfYYK8  8.587320e+03\n",
      "6275   ZDgTVZeW36k  8.331819e+03\n",
      "\n",
      "[2671 rows x 2 columns]\n"
     ]
    }
   ],
   "source": [
    "preds = np.exp(reg.predict(test_X))\n",
    "preds1 = pd.DataFrame({\"Id\":test_X_id, \"Y\":preds})\n",
    "print preds1"
   ]
  },
  {
   "cell_type": "code",
   "execution_count": 510,
   "metadata": {},
   "outputs": [
    {
     "ename": "ValueError",
     "evalue": "labels ['Id'] not contained in axis",
     "output_type": "error",
     "traceback": [
      "\u001b[1;31m---------------------------------------------------------------------------\u001b[0m",
      "\u001b[1;31mValueError\u001b[0m                                Traceback (most recent call last)",
      "\u001b[1;32m<ipython-input-510-b43c231e5e39>\u001b[0m in \u001b[0;36m<module>\u001b[1;34m()\u001b[0m\n\u001b[1;32m----> 1\u001b[1;33m \u001b[0mX\u001b[0m \u001b[1;33m=\u001b[0m \u001b[0mX\u001b[0m\u001b[1;33m.\u001b[0m\u001b[0mdrop\u001b[0m\u001b[1;33m(\u001b[0m\u001b[1;34m'Id'\u001b[0m\u001b[1;33m,\u001b[0m\u001b[0maxis\u001b[0m \u001b[1;33m=\u001b[0m \u001b[1;36m1\u001b[0m\u001b[1;33m)\u001b[0m\u001b[1;33m\u001b[0m\u001b[0m\n\u001b[0m\u001b[0;32m      2\u001b[0m \u001b[0msns\u001b[0m\u001b[1;33m.\u001b[0m\u001b[0mset_style\u001b[0m\u001b[1;33m(\u001b[0m\u001b[1;34m'whitegrid'\u001b[0m\u001b[1;33m)\u001b[0m\u001b[1;33m\u001b[0m\u001b[0m\n\u001b[0;32m      3\u001b[0m \u001b[0mplt\u001b[0m\u001b[1;33m.\u001b[0m\u001b[0mfigure\u001b[0m\u001b[1;33m(\u001b[0m\u001b[0mfigsize\u001b[0m\u001b[1;33m=\u001b[0m\u001b[1;33m(\u001b[0m\u001b[1;36m10\u001b[0m\u001b[1;33m,\u001b[0m\u001b[1;36m12\u001b[0m\u001b[1;33m)\u001b[0m\u001b[1;33m)\u001b[0m\u001b[1;33m\u001b[0m\u001b[0m\n\u001b[0;32m      4\u001b[0m \u001b[0msns\u001b[0m\u001b[1;33m.\u001b[0m\u001b[0mbarplot\u001b[0m\u001b[1;33m(\u001b[0m\u001b[0mx\u001b[0m\u001b[1;33m=\u001b[0m\u001b[0mreg\u001b[0m\u001b[1;33m.\u001b[0m\u001b[0mfeature_importances_\u001b[0m\u001b[1;33m,\u001b[0m \u001b[0my\u001b[0m\u001b[1;33m=\u001b[0m\u001b[0mX\u001b[0m\u001b[1;33m.\u001b[0m\u001b[0mcolumns\u001b[0m\u001b[1;33m)\u001b[0m\u001b[1;33m\u001b[0m\u001b[0m\n",
      "\u001b[1;32mC:\\Users\\kevjy\\Anaconda\\lib\\site-packages\\pandas\\core\\generic.pyc\u001b[0m in \u001b[0;36mdrop\u001b[1;34m(self, labels, axis, level, inplace, errors)\u001b[0m\n\u001b[0;32m   2048\u001b[0m                 \u001b[0mnew_axis\u001b[0m \u001b[1;33m=\u001b[0m \u001b[0maxis\u001b[0m\u001b[1;33m.\u001b[0m\u001b[0mdrop\u001b[0m\u001b[1;33m(\u001b[0m\u001b[0mlabels\u001b[0m\u001b[1;33m,\u001b[0m \u001b[0mlevel\u001b[0m\u001b[1;33m=\u001b[0m\u001b[0mlevel\u001b[0m\u001b[1;33m,\u001b[0m \u001b[0merrors\u001b[0m\u001b[1;33m=\u001b[0m\u001b[0merrors\u001b[0m\u001b[1;33m)\u001b[0m\u001b[1;33m\u001b[0m\u001b[0m\n\u001b[0;32m   2049\u001b[0m             \u001b[1;32melse\u001b[0m\u001b[1;33m:\u001b[0m\u001b[1;33m\u001b[0m\u001b[0m\n\u001b[1;32m-> 2050\u001b[1;33m                 \u001b[0mnew_axis\u001b[0m \u001b[1;33m=\u001b[0m \u001b[0maxis\u001b[0m\u001b[1;33m.\u001b[0m\u001b[0mdrop\u001b[0m\u001b[1;33m(\u001b[0m\u001b[0mlabels\u001b[0m\u001b[1;33m,\u001b[0m \u001b[0merrors\u001b[0m\u001b[1;33m=\u001b[0m\u001b[0merrors\u001b[0m\u001b[1;33m)\u001b[0m\u001b[1;33m\u001b[0m\u001b[0m\n\u001b[0m\u001b[0;32m   2051\u001b[0m             \u001b[0mdropped\u001b[0m \u001b[1;33m=\u001b[0m \u001b[0mself\u001b[0m\u001b[1;33m.\u001b[0m\u001b[0mreindex\u001b[0m\u001b[1;33m(\u001b[0m\u001b[1;33m**\u001b[0m\u001b[1;33m{\u001b[0m\u001b[0maxis_name\u001b[0m\u001b[1;33m:\u001b[0m \u001b[0mnew_axis\u001b[0m\u001b[1;33m}\u001b[0m\u001b[1;33m)\u001b[0m\u001b[1;33m\u001b[0m\u001b[0m\n\u001b[0;32m   2052\u001b[0m             \u001b[1;32mtry\u001b[0m\u001b[1;33m:\u001b[0m\u001b[1;33m\u001b[0m\u001b[0m\n",
      "\u001b[1;32mC:\\Users\\kevjy\\Anaconda\\lib\\site-packages\\pandas\\core\\indexes\\base.pyc\u001b[0m in \u001b[0;36mdrop\u001b[1;34m(self, labels, errors)\u001b[0m\n\u001b[0;32m   3573\u001b[0m             \u001b[1;32mif\u001b[0m \u001b[0merrors\u001b[0m \u001b[1;33m!=\u001b[0m \u001b[1;34m'ignore'\u001b[0m\u001b[1;33m:\u001b[0m\u001b[1;33m\u001b[0m\u001b[0m\n\u001b[0;32m   3574\u001b[0m                 raise ValueError('labels %s not contained in axis' %\n\u001b[1;32m-> 3575\u001b[1;33m                                  labels[mask])\n\u001b[0m\u001b[0;32m   3576\u001b[0m             \u001b[0mindexer\u001b[0m \u001b[1;33m=\u001b[0m \u001b[0mindexer\u001b[0m\u001b[1;33m[\u001b[0m\u001b[1;33m~\u001b[0m\u001b[0mmask\u001b[0m\u001b[1;33m]\u001b[0m\u001b[1;33m\u001b[0m\u001b[0m\n\u001b[0;32m   3577\u001b[0m         \u001b[1;32mreturn\u001b[0m \u001b[0mself\u001b[0m\u001b[1;33m.\u001b[0m\u001b[0mdelete\u001b[0m\u001b[1;33m(\u001b[0m\u001b[0mindexer\u001b[0m\u001b[1;33m)\u001b[0m\u001b[1;33m\u001b[0m\u001b[0m\n",
      "\u001b[1;31mValueError\u001b[0m: labels ['Id'] not contained in axis"
     ]
    }
   ],
   "source": [
    "X = X.drop('Id',axis = 1)\n",
    "sns.set_style('whitegrid')\n",
    "plt.figure(figsize=(10,12))\n",
    "sns.barplot(x=reg.feature_importances_, y=X.columns)"
   ]
  },
  {
   "cell_type": "code",
   "execution_count": 504,
   "metadata": {},
   "outputs": [
    {
     "data": {
      "text/plain": [
       "0.40502351144748189"
      ]
     },
     "execution_count": 504,
     "metadata": {},
     "output_type": "execute_result"
    }
   ],
   "source": [
    "reg = XGBRegressor()\n",
    "train_X['ChannelAge'] = train_X['ChannelAge'].astype(int)\n",
    "test_X['ChannelAge'] = test_X['ChannelAge'].astype(int)\n",
    "train_X['PublishedYear'] = train_X['PublishedYear'].astype(int)\n",
    "test_X['PublishedYear'] = test_X['PublishedYear'].astype(int)\n",
    "reg.fit(train_X, train_y)\n",
    "reg.score(test_X, test_y)"
   ]
  },
  {
   "cell_type": "code",
   "execution_count": 505,
   "metadata": {},
   "outputs": [
    {
     "data": {
      "text/plain": [
       "1.4318730893687093"
      ]
     },
     "execution_count": 505,
     "metadata": {},
     "output_type": "execute_result"
    }
   ],
   "source": [
    "mean_squared_error(test_y,preds)"
   ]
  },
  {
   "cell_type": "code",
   "execution_count": 506,
   "metadata": {},
   "outputs": [
    {
     "data": {
      "text/plain": [
       "0.14517578880647697"
      ]
     },
     "execution_count": 506,
     "metadata": {},
     "output_type": "execute_result"
    }
   ],
   "source": [
    "from sklearn.metrics import mean_squared_error, r2_score\n",
    "from sklearn import datasets, linear_model\n",
    "reg = linear_model.LinearRegression()\n",
    "train_X['ChannelAge'] = train_X['ChannelAge'].astype(int)\n",
    "test_X['ChannelAge'] = test_X['ChannelAge'].astype(int)\n",
    "train_X['PublishedYear'] = train_X['PublishedYear'].astype(int)\n",
    "test_X['PublishedYear'] = test_X['PublishedYear'].astype(int)\n",
    "reg.fit(train_X, train_y)\n",
    "reg.score(test_X, test_y)"
   ]
  },
  {
   "cell_type": "code",
   "execution_count": null,
   "metadata": {
    "collapsed": true
   },
   "outputs": [],
   "source": []
  },
  {
   "cell_type": "code",
   "execution_count": null,
   "metadata": {
    "collapsed": true
   },
   "outputs": [],
   "source": []
  },
  {
   "cell_type": "code",
   "execution_count": null,
   "metadata": {
    "collapsed": true
   },
   "outputs": [],
   "source": []
  }
 ],
 "metadata": {
  "kernelspec": {
   "display_name": "Python 2",
   "language": "python",
   "name": "python2"
  },
  "language_info": {
   "codemirror_mode": {
    "name": "ipython",
    "version": 2
   },
   "file_extension": ".py",
   "mimetype": "text/x-python",
   "name": "python",
   "nbconvert_exporter": "python",
   "pygments_lexer": "ipython2",
   "version": "2.7.13"
  }
 },
 "nbformat": 4,
 "nbformat_minor": 1
}
