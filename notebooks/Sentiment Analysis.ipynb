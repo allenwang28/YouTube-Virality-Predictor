{
 "cells": [
  {
   "cell_type": "code",
   "execution_count": 2,
   "metadata": {},
   "outputs": [
    {
     "name": "stderr",
     "output_type": "stream",
     "text": [
      "Using Theano backend.\n",
      "WARNING (theano.configdefaults): g++ not available, if using conda: `conda install m2w64-toolchain`\n",
      "WARNING (theano.configdefaults): g++ not detected ! Theano will be unable to execute optimized C-implementations (for both CPU and GPU) and will default to Python implementations. Performance will be severely degraded. To remove this warning, set Theano flags cxx to an empty string.\n"
     ]
    }
   ],
   "source": [
    "%matplotlib inline\n",
    "import pandas as pd\n",
    "import numpy as np\n",
    "import matplotlib.pyplot as plt\n",
    "import seaborn as sns\n",
    "from scipy import stats\n",
    "from ast import literal_eval\n",
    "import warnings; warnings.simplefilter('ignore')\n",
    "from reactionrnn import reactionrnn #pip install reactionrnn"
   ]
  },
  {
   "cell_type": "code",
   "execution_count": 3,
   "metadata": {},
   "outputs": [
    {
     "data": {
      "text/html": [
       "<div>\n",
       "<style>\n",
       "    .dataframe thead tr:only-child th {\n",
       "        text-align: right;\n",
       "    }\n",
       "\n",
       "    .dataframe thead th {\n",
       "        text-align: left;\n",
       "    }\n",
       "\n",
       "    .dataframe tbody tr th {\n",
       "        vertical-align: top;\n",
       "    }\n",
       "</style>\n",
       "<table border=\"1\" class=\"dataframe\">\n",
       "  <thead>\n",
       "    <tr style=\"text-align: right;\">\n",
       "      <th></th>\n",
       "      <th>Id</th>\n",
       "      <th>Title</th>\n",
       "      <th>Description</th>\n",
       "      <th>ViewCount</th>\n",
       "      <th>LikeCount</th>\n",
       "      <th>DislikeCount</th>\n",
       "    </tr>\n",
       "  </thead>\n",
       "  <tbody>\n",
       "    <tr>\n",
       "      <th>0</th>\n",
       "      <td>AUzyaHo0QQc</td>\n",
       "      <td>b'300 pushups a day for 20 days!! - Results!!'</td>\n",
       "      <td>b'**NEW** (2016) Abs Workout for 30 Days | htt...</td>\n",
       "      <td>13577683</td>\n",
       "      <td>40408</td>\n",
       "      <td>10312</td>\n",
       "    </tr>\n",
       "    <tr>\n",
       "      <th>1</th>\n",
       "      <td>1Zgtdb7jp60</td>\n",
       "      <td>b'John Cena - gym'</td>\n",
       "      <td>b\"Follow John Cena on twitter: http://www.twit...</td>\n",
       "      <td>9986096</td>\n",
       "      <td>37867</td>\n",
       "      <td>1486</td>\n",
       "    </tr>\n",
       "    <tr>\n",
       "      <th>2</th>\n",
       "      <td>1Sfii7rnkJQ</td>\n",
       "      <td>b'Bodybuilding Motivation - No Time To Waste'</td>\n",
       "      <td>b\"Follow me:\\nhttp://instagram.com/shaqx.bb\\nh...</td>\n",
       "      <td>8532402</td>\n",
       "      <td>17688</td>\n",
       "      <td>1291</td>\n",
       "    </tr>\n",
       "    <tr>\n",
       "      <th>3</th>\n",
       "      <td>UUwSKJjx9Go</td>\n",
       "      <td>b'Most Powerful Home Chest Workout Ever : Buil...</td>\n",
       "      <td>b'http://www.6weeksixpack.com This is one of t...</td>\n",
       "      <td>8301027</td>\n",
       "      <td>46293</td>\n",
       "      <td>2589</td>\n",
       "    </tr>\n",
       "    <tr>\n",
       "      <th>4</th>\n",
       "      <td>Yl3NGvna2KA</td>\n",
       "      <td>b'Greg Plitt Best of The Best Workout Video Pr...</td>\n",
       "      <td>b'SIGN UP TODAY - http://bit.ly/jointheranks\\r...</td>\n",
       "      <td>7141821</td>\n",
       "      <td>24784</td>\n",
       "      <td>1134</td>\n",
       "    </tr>\n",
       "  </tbody>\n",
       "</table>\n",
       "</div>"
      ],
      "text/plain": [
       "            Id                                              Title  \\\n",
       "0  AUzyaHo0QQc     b'300 pushups a day for 20 days!! - Results!!'   \n",
       "1  1Zgtdb7jp60                                 b'John Cena - gym'   \n",
       "2  1Sfii7rnkJQ      b'Bodybuilding Motivation - No Time To Waste'   \n",
       "3  UUwSKJjx9Go  b'Most Powerful Home Chest Workout Ever : Buil...   \n",
       "4  Yl3NGvna2KA  b'Greg Plitt Best of The Best Workout Video Pr...   \n",
       "\n",
       "                                         Description  ViewCount  LikeCount  \\\n",
       "0  b'**NEW** (2016) Abs Workout for 30 Days | htt...   13577683      40408   \n",
       "1  b\"Follow John Cena on twitter: http://www.twit...    9986096      37867   \n",
       "2  b\"Follow me:\\nhttp://instagram.com/shaqx.bb\\nh...    8532402      17688   \n",
       "3  b'http://www.6weeksixpack.com This is one of t...    8301027      46293   \n",
       "4  b'SIGN UP TODAY - http://bit.ly/jointheranks\\r...    7141821      24784   \n",
       "\n",
       "   DislikeCount  \n",
       "0         10312  \n",
       "1          1486  \n",
       "2          1291  \n",
       "3          2589  \n",
       "4          1134  "
      ]
     },
     "execution_count": 3,
     "metadata": {},
     "output_type": "execute_result"
    }
   ],
   "source": [
    "data = pd.read_csv('../data/cleaned_subset.csv', encoding='latin1')\n",
    "data = data[['Id', 'Title', 'Description', 'ViewCount', 'LikeCount', 'DislikeCount']]\n",
    "data = data[data['Id'] != '#NAME?']\n",
    "data = data.drop_duplicates(subset='Id', keep='last')\n",
    "\n",
    "data.head()"
   ]
  },
  {
   "cell_type": "code",
   "execution_count": 3,
   "metadata": {
    "collapsed": true
   },
   "outputs": [],
   "source": [
    "def RemoveByteArrayResidue(s):\n",
    "    if len(s) > 3:\n",
    "        if s[0] == 'b':\n",
    "            if (s[1] == '\\'' or s[1] == '\\\"') and (s[-1] == '\\'' or s[-1] == '\\\"'):\n",
    "                return s[2:-1]\n",
    "    return s\n",
    "\n",
    "# Remove the b'' if it exists\n",
    "data['Title'] = data['Title'].apply(RemoveByteArrayResidue)\n",
    "data['Description'] = data['Description'].apply(RemoveByteArrayResidue)"
   ]
  },
  {
   "cell_type": "code",
   "execution_count": 15,
   "metadata": {},
   "outputs": [],
   "source": [
    "react = reactionrnn()\n",
    "\n",
    "def predictReactions(s):\n",
    "    return react.predict(s)\n",
    "    \n",
    "data['Reaction To Desc'] = data['Description'].apply(predictReactions)\n",
    "data['Reaction To Title'] = data['Title'].apply(predictReactions)"
   ]
  },
  {
   "cell_type": "code",
   "execution_count": 16,
   "metadata": {
    "collapsed": true
   },
   "outputs": [],
   "source": [
    "data.to_csv('../data/reaction_to_description_title.csv')"
   ]
  },
  {
   "cell_type": "code",
   "execution_count": 12,
   "metadata": {},
   "outputs": [
    {
     "data": {
      "text/plain": [
       "(array([ 439.,  824.,  840.,  772.,  773.,  707.,  693.,  573.,  559.,\n",
       "         538.,  498.,  447.,  430.,  375.,  308.,  261.,  266.,  217.,\n",
       "         202.,  185.,  152.,  128.,   90.,   83.,   62.,   65.,   51.,\n",
       "          38.,   19.,   20.,   21.,   14.,    7.,    9.,    6.,    1.,\n",
       "           3.,    3.,    2.,    1.]),\n",
       " array([  6.91869522,   7.15632629,   7.39395736,   7.63158844,\n",
       "          7.86921951,   8.10685058,   8.34448165,   8.58211273,\n",
       "          8.8197438 ,   9.05737487,   9.29500594,   9.53263702,\n",
       "          9.77026809,  10.00789916,  10.24553023,  10.48316131,\n",
       "         10.72079238,  10.95842345,  11.19605452,  11.4336856 ,\n",
       "         11.67131667,  11.90894774,  12.14657881,  12.38420989,\n",
       "         12.62184096,  12.85947203,  13.09710311,  13.33473418,\n",
       "         13.57236525,  13.80999632,  14.0476274 ,  14.28525847,\n",
       "         14.52288954,  14.76052061,  14.99815169,  15.23578276,\n",
       "         15.47341383,  15.7110449 ,  15.94867598,  16.18630705,  16.42393812]),\n",
       " <a list of 40 Patch objects>)"
      ]
     },
     "execution_count": 12,
     "metadata": {},
     "output_type": "execute_result"
    },
    {
     "data": {
      "image/png": "[encoded data removed]",
      "text/plain": [
       "<matplotlib.figure.Figure at 0x25a9870e978>"
      ]
     },
     "metadata": {},
     "output_type": "display_data"
    }
   ],
   "source": [
    "plt.hist(np.log1p(data.ViewCount), 40)"
   ]
  },
  {
   "cell_type": "code",
   "execution_count": null,
   "metadata": {},
   "outputs": [],
   "source": []
  }
 ],
 "metadata": {
  "kernelspec": {
   "display_name": "Python 3",
   "language": "python",
   "name": "python3"
  },
  "language_info": {
   "codemirror_mode": {
    "name": "ipython",
    "version": 3
   },
   "file_extension": ".py",
   "mimetype": "text/x-python",
   "name": "python",
   "nbconvert_exporter": "python",
   "pygments_lexer": "ipython3",
   "version": "3.6.1"
  }
 },
 "nbformat": 4,
 "nbformat_minor": 1
}
