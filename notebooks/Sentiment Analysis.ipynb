{
 "metadata": {
  "kernelspec": {
   "display_name": "Python 3",
   "language": "python",
   "name": "python3"
  },
  "language_info": {
   "codemirror_mode": {
    "name": "ipython",
    "version": 3
   },
   "file_extension": ".py",
   "mimetype": "text/x-python",
   "name": "python",
   "nbconvert_exporter": "python",
   "pygments_lexer": "ipython3",
   "version": "3.6.1"
  },
  "name": "",
  "signature": "sha256:b82ae6cd0a579366f955e8d6b3d1d815fe2a68f993aa5c30760b6812c5c47017"
 },
 "nbformat": 3,
 "nbformat_minor": 0,
 "worksheets": [
  {
   "cells": [
    {
     "cell_type": "code",
     "collapsed": false,
     "input": [
      "%matplotlib inline\n",
      "import pandas as pd\n",
      "import numpy as np\n",
      "import matplotlib.pyplot as plt\n",
      "import seaborn as sns\n",
      "from scipy import stats\n",
      "from ast import literal_eval\n",
      "import warnings; warnings.simplefilter('ignore')\n",
      "from reactionrnn import reactionrnn #pip install reactionrnn"
     ],
     "language": "python",
     "metadata": {},
     "outputs": [
      {
       "output_type": "stream",
       "stream": "stderr",
       "text": [
        "Using TensorFlow backend.\n"
       ]
      }
     ],
     "prompt_number": 1
    },
    {
     "cell_type": "code",
     "collapsed": false,
     "input": [
      "data = pd.read_csv('../data/cleaned_subset.csv', encoding='latin1')\n",
      "data = data[['Id', 'Title', 'Description', 'ViewCount', 'LikeCount', 'DislikeCount']]\n",
      "data = data[data['Id'] != '#NAME?']\n",
      "data = data.drop_duplicates(subset='Id', keep='last')\n",
      "\n",
      "data.head()"
     ],
     "language": "python",
     "metadata": {},
     "outputs": [
      {
       "html": [
        "<div style=\"max-width:1500px;overflow:auto;\">\n",
        "<style scoped>\n",
        "    .dataframe tbody tr th:only-of-type {\n",
        "        vertical-align: middle;\n",
        "    }\n",
        "\n",
        "    .dataframe tbody tr th {\n",
        "        vertical-align: top;\n",
        "    }\n",
        "\n",
        "    .dataframe thead th {\n",
        "        text-align: right;\n",
        "    }\n",
        "</style>\n",
        "<table border=\"1\" class=\"dataframe\">\n",
        "  <thead>\n",
        "    <tr style=\"text-align: right;\">\n",
        "      <th></th>\n",
        "      <th>Id</th>\n",
        "      <th>Title</th>\n",
        "      <th>Description</th>\n",
        "      <th>ViewCount</th>\n",
        "      <th>LikeCount</th>\n",
        "      <th>DislikeCount</th>\n",
        "    </tr>\n",
        "  </thead>\n",
        "  <tbody>\n",
        "    <tr>\n",
        "      <th>0</th>\n",
        "      <td>AUzyaHo0QQc</td>\n",
        "      <td>b'300 pushups a day for 20 days!! - Results!!'</td>\n",
        "      <td>b'**NEW** (2016) Abs Workout for 30 Days | htt...</td>\n",
        "      <td>13577683</td>\n",
        "      <td>40408</td>\n",
        "      <td>10312</td>\n",
        "    </tr>\n",
        "    <tr>\n",
        "      <th>1</th>\n",
        "      <td>1Zgtdb7jp60</td>\n",
        "      <td>b'John Cena - gym'</td>\n",
        "      <td>b\"Follow John Cena on twitter: http://www.twit...</td>\n",
        "      <td>9986096</td>\n",
        "      <td>37867</td>\n",
        "      <td>1486</td>\n",
        "    </tr>\n",
        "    <tr>\n",
        "      <th>2</th>\n",
        "      <td>1Sfii7rnkJQ</td>\n",
        "      <td>b'Bodybuilding Motivation - No Time To Waste'</td>\n",
        "      <td>b\"Follow me:\\nhttp://instagram.com/shaqx.bb\\nh...</td>\n",
        "      <td>8532402</td>\n",
        "      <td>17688</td>\n",
        "      <td>1291</td>\n",
        "    </tr>\n",
        "    <tr>\n",
        "      <th>3</th>\n",
        "      <td>UUwSKJjx9Go</td>\n",
        "      <td>b'Most Powerful Home Chest Workout Ever : Buil...</td>\n",
        "      <td>b'http://www.6weeksixpack.com This is one of t...</td>\n",
        "      <td>8301027</td>\n",
        "      <td>46293</td>\n",
        "      <td>2589</td>\n",
        "    </tr>\n",
        "    <tr>\n",
        "      <th>4</th>\n",
        "      <td>Yl3NGvna2KA</td>\n",
        "      <td>b'Greg Plitt Best of The Best Workout Video Pr...</td>\n",
        "      <td>b'SIGN UP TODAY - http://bit.ly/jointheranks\\r...</td>\n",
        "      <td>7141821</td>\n",
        "      <td>24784</td>\n",
        "      <td>1134</td>\n",
        "    </tr>\n",
        "  </tbody>\n",
        "</table>\n",
        "</div>"
       ],
       "metadata": {},
       "output_type": "pyout",
       "prompt_number": 2,
       "text": [
        "            Id                                              Title  \\\n",
        "0  AUzyaHo0QQc     b'300 pushups a day for 20 days!! - Results!!'   \n",
        "1  1Zgtdb7jp60                                 b'John Cena - gym'   \n",
        "2  1Sfii7rnkJQ      b'Bodybuilding Motivation - No Time To Waste'   \n",
        "3  UUwSKJjx9Go  b'Most Powerful Home Chest Workout Ever : Buil...   \n",
        "4  Yl3NGvna2KA  b'Greg Plitt Best of The Best Workout Video Pr...   \n",
        "\n",
        "                                         Description  ViewCount  LikeCount  \\\n",
        "0  b'**NEW** (2016) Abs Workout for 30 Days | htt...   13577683      40408   \n",
        "1  b\"Follow John Cena on twitter: http://www.twit...    9986096      37867   \n",
        "2  b\"Follow me:\\nhttp://instagram.com/shaqx.bb\\nh...    8532402      17688   \n",
        "3  b'http://www.6weeksixpack.com This is one of t...    8301027      46293   \n",
        "4  b'SIGN UP TODAY - http://bit.ly/jointheranks\\r...    7141821      24784   \n",
        "\n",
        "   DislikeCount  \n",
        "0         10312  \n",
        "1          1486  \n",
        "2          1291  \n",
        "3          2589  \n",
        "4          1134  "
       ]
      }
     ],
     "prompt_number": 2
    },
    {
     "cell_type": "code",
     "collapsed": true,
     "input": [
      "def RemoveByteArrayResidue(s):\n",
      "    if len(s) > 3:\n",
      "        if s[0] == 'b':\n",
      "            if (s[1] == '\\'' or s[1] == '\\\"') and (s[-1] == '\\'' or s[-1] == '\\\"'):\n",
      "                return s[2:-1]\n",
      "    return s\n",
      "\n",
      "# Remove the b'' if it exists\n",
      "data['Title'] = data['Title'].apply(RemoveByteArrayResidue)\n",
      "data['Description'] = data['Description'].apply(RemoveByteArrayResidue)"
     ],
     "language": "python",
     "metadata": {},
     "outputs": [],
     "prompt_number": 3
    },
    {
     "cell_type": "code",
     "collapsed": false,
     "input": [
      "react = reactionrnn()\n",
      "\n",
      "def predictReactions(s):\n",
      "    return react.predict(s)\n",
      "    \n",
      "data['Reaction To Desc'] = data['Description'].apply(predictReactions)\n"
     ],
     "language": "python",
     "metadata": {},
     "outputs": [],
     "prompt_number": 13
    },
    {
     "cell_type": "code",
     "collapsed": true,
     "input": [
      "data.to_csv('reaction_to_description.csv')"
     ],
     "language": "python",
     "metadata": {},
     "outputs": [],
     "prompt_number": 14
    },
    {
     "cell_type": "code",
     "collapsed": false,
     "input": [],
     "language": "python",
     "metadata": {},
     "outputs": []
    }
   ],
   "metadata": {}
  }
 ]
}