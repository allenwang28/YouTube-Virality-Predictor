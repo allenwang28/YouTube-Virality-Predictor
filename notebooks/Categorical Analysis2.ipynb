{
 "cells": [
  {
   "cell_type": "code",
   "execution_count": 1,
   "metadata": {
    "collapsed": true
   },
   "outputs": [],
   "source": [
    "%matplotlib inline\n",
    "import pandas as pd\n",
    "import numpy as np\n",
    "import matplotlib.pyplot as plt\n",
    "import seaborn as sns\n",
    "from scipy import stats\n",
    "from ast import literal_eval\n",
    "from sklearn.feature_extraction.text import TfidfVectorizer, CountVectorizer\n",
    "from sklearn.metrics.pairwise import linear_kernel, cosine_similarity\n",
    "from nltk.stem.snowball import SnowballStemmer\n",
    "from nltk.stem.wordnet import WordNetLemmatizer\n",
    "from nltk.corpus import wordnet\n",
    "from langdetect import detect\n",
    "\n",
    "import warnings; warnings.simplefilter('ignore')"
   ]
  },
  {
   "cell_type": "markdown",
   "metadata": {},
   "source": [
    "# Categorizing Videos By Text"
   ]
  },
  {
   "cell_type": "code",
   "execution_count": 2,
   "metadata": {
    "collapsed": true
   },
   "outputs": [],
   "source": [
    "# Video Related Features\n",
    "dfData = pd.read_csv('../data/All_data_cbs.csv')"
   ]
  },
  {
   "cell_type": "code",
   "execution_count": 3,
   "metadata": {
    "collapsed": true
   },
   "outputs": [],
   "source": [
    "dfData = dfData[dfData['channelVideoCount']<2000]\n",
    "dfData = dfData[dfData['subscriberCount'] >0]\n"
   ]
  },
  {
   "cell_type": "code",
   "execution_count": 4,
   "metadata": {},
   "outputs": [
    {
     "data": {
      "text/html": [
       "<div>\n",
       "<style>\n",
       "    .dataframe thead tr:only-child th {\n",
       "        text-align: right;\n",
       "    }\n",
       "\n",
       "    .dataframe thead th {\n",
       "        text-align: left;\n",
       "    }\n",
       "\n",
       "    .dataframe tbody tr th {\n",
       "        vertical-align: top;\n",
       "    }\n",
       "</style>\n",
       "<table border=\"1\" class=\"dataframe\">\n",
       "  <thead>\n",
       "    <tr style=\"text-align: right;\">\n",
       "      <th></th>\n",
       "      <th>Unnamed: 0</th>\n",
       "      <th>Unnamed: 0.1</th>\n",
       "      <th>rowHash</th>\n",
       "      <th>Id</th>\n",
       "      <th>Title</th>\n",
       "      <th>Description</th>\n",
       "      <th>LikeCount</th>\n",
       "      <th>DislikeCount</th>\n",
       "      <th>ViewCount</th>\n",
       "      <th>FavoriteCount</th>\n",
       "      <th>...</th>\n",
       "      <th>subscriberCount</th>\n",
       "      <th>channelVideoCount</th>\n",
       "      <th>channelViewCount</th>\n",
       "      <th>nextHash</th>\n",
       "      <th>PrevCommentCount</th>\n",
       "      <th>PrevDislikeCount</th>\n",
       "      <th>PrevLikeCount</th>\n",
       "      <th>PrevPublishedAt</th>\n",
       "      <th>PrevViewCount</th>\n",
       "      <th>Title-clickbait</th>\n",
       "    </tr>\n",
       "  </thead>\n",
       "  <tbody>\n",
       "    <tr>\n",
       "      <th>0</th>\n",
       "      <td>0</td>\n",
       "      <td>0</td>\n",
       "      <td>0</td>\n",
       "      <td>Scp3JH3eVLw</td>\n",
       "      <td>Depeche Mode   It's No Good</td>\n",
       "      <td>DANCA MUITO.</td>\n",
       "      <td>0</td>\n",
       "      <td>0</td>\n",
       "      <td>18</td>\n",
       "      <td>0</td>\n",
       "      <td>...</td>\n",
       "      <td>10296</td>\n",
       "      <td>37</td>\n",
       "      <td>8251061</td>\n",
       "      <td>1.0</td>\n",
       "      <td>0.0</td>\n",
       "      <td>2.0</td>\n",
       "      <td>14.0</td>\n",
       "      <td>2012-03-28T18:01:31.000Z</td>\n",
       "      <td>3911.0</td>\n",
       "      <td>0.660503</td>\n",
       "    </tr>\n",
       "    <tr>\n",
       "      <th>1</th>\n",
       "      <td>1</td>\n",
       "      <td>1</td>\n",
       "      <td>1</td>\n",
       "      <td>wLqmkz6u8G4</td>\n",
       "      <td>the best of Jay cutler Dorian Yates</td>\n",
       "      <td>Jay cutler e Dorian Yates</td>\n",
       "      <td>14</td>\n",
       "      <td>2</td>\n",
       "      <td>3911</td>\n",
       "      <td>0</td>\n",
       "      <td>...</td>\n",
       "      <td>10296</td>\n",
       "      <td>37</td>\n",
       "      <td>8251061</td>\n",
       "      <td>2.0</td>\n",
       "      <td>5.0</td>\n",
       "      <td>2.0</td>\n",
       "      <td>8.0</td>\n",
       "      <td>2010-08-23T16:12:50.000Z</td>\n",
       "      <td>3853.0</td>\n",
       "      <td>0.782542</td>\n",
       "    </tr>\n",
       "    <tr>\n",
       "      <th>2</th>\n",
       "      <td>2</td>\n",
       "      <td>2</td>\n",
       "      <td>2</td>\n",
       "      <td>nKMsh79uOcM</td>\n",
       "      <td>Iron Man Andy photos   NO PAIN NO GAIN</td>\n",
       "      <td>Iron Man Andy muscle NO PAIN NO GAIN</td>\n",
       "      <td>8</td>\n",
       "      <td>2</td>\n",
       "      <td>3853</td>\n",
       "      <td>0</td>\n",
       "      <td>...</td>\n",
       "      <td>10296</td>\n",
       "      <td>37</td>\n",
       "      <td>8251061</td>\n",
       "      <td>3.0</td>\n",
       "      <td>0.0</td>\n",
       "      <td>2.0</td>\n",
       "      <td>3.0</td>\n",
       "      <td>2010-05-17T10:15:48.000Z</td>\n",
       "      <td>1392.0</td>\n",
       "      <td>0.974470</td>\n",
       "    </tr>\n",
       "    <tr>\n",
       "      <th>3</th>\n",
       "      <td>3</td>\n",
       "      <td>3</td>\n",
       "      <td>4</td>\n",
       "      <td>E--7XtuuqAg</td>\n",
       "      <td>Mooring Anchor Carry 120kg at Papar Strongestm...</td>\n",
       "      <td>Only manage 11 meters</td>\n",
       "      <td>0</td>\n",
       "      <td>0</td>\n",
       "      <td>56</td>\n",
       "      <td>0</td>\n",
       "      <td>...</td>\n",
       "      <td>288</td>\n",
       "      <td>79</td>\n",
       "      <td>123988</td>\n",
       "      <td>5.0</td>\n",
       "      <td>0.0</td>\n",
       "      <td>0.0</td>\n",
       "      <td>0.0</td>\n",
       "      <td>2016-10-10T15:01:02.000Z</td>\n",
       "      <td>74.0</td>\n",
       "      <td>0.323020</td>\n",
       "    </tr>\n",
       "    <tr>\n",
       "      <th>4</th>\n",
       "      <td>4</td>\n",
       "      <td>4</td>\n",
       "      <td>5</td>\n",
       "      <td>fdsppIOelPw</td>\n",
       "      <td>Tire Flip 450kg at Papar Strongestman 2016</td>\n",
       "      <td>450kg x 5 flips</td>\n",
       "      <td>0</td>\n",
       "      <td>0</td>\n",
       "      <td>74</td>\n",
       "      <td>0</td>\n",
       "      <td>...</td>\n",
       "      <td>288</td>\n",
       "      <td>79</td>\n",
       "      <td>123988</td>\n",
       "      <td>6.0</td>\n",
       "      <td>0.0</td>\n",
       "      <td>0.0</td>\n",
       "      <td>0.0</td>\n",
       "      <td>2016-10-10T14:59:15.000Z</td>\n",
       "      <td>46.0</td>\n",
       "      <td>0.260023</td>\n",
       "    </tr>\n",
       "  </tbody>\n",
       "</table>\n",
       "<p>5 rows × 26 columns</p>\n",
       "</div>"
      ],
      "text/plain": [
       "   Unnamed: 0  Unnamed: 0.1  rowHash           Id  \\\n",
       "0           0             0        0  Scp3JH3eVLw   \n",
       "1           1             1        1  wLqmkz6u8G4   \n",
       "2           2             2        2  nKMsh79uOcM   \n",
       "3           3             3        4  E--7XtuuqAg   \n",
       "4           4             4        5  fdsppIOelPw   \n",
       "\n",
       "                                               Title  \\\n",
       "0                        Depeche Mode   It's No Good   \n",
       "1                the best of Jay cutler Dorian Yates   \n",
       "2             Iron Man Andy photos   NO PAIN NO GAIN   \n",
       "3  Mooring Anchor Carry 120kg at Papar Strongestm...   \n",
       "4         Tire Flip 450kg at Papar Strongestman 2016   \n",
       "\n",
       "                            Description  LikeCount  DislikeCount  ViewCount  \\\n",
       "0                          DANCA MUITO.          0             0         18   \n",
       "1             Jay cutler e Dorian Yates         14             2       3911   \n",
       "2  Iron Man Andy muscle NO PAIN NO GAIN          8             2       3853   \n",
       "3                 Only manage 11 meters          0             0         56   \n",
       "4                       450kg x 5 flips          0             0         74   \n",
       "\n",
       "   FavoriteCount       ...         subscriberCount channelVideoCount  \\\n",
       "0              0       ...                   10296                37   \n",
       "1              0       ...                   10296                37   \n",
       "2              0       ...                   10296                37   \n",
       "3              0       ...                     288                79   \n",
       "4              0       ...                     288                79   \n",
       "\n",
       "  channelViewCount nextHash PrevCommentCount PrevDislikeCount  PrevLikeCount  \\\n",
       "0          8251061      1.0              0.0              2.0           14.0   \n",
       "1          8251061      2.0              5.0              2.0            8.0   \n",
       "2          8251061      3.0              0.0              2.0            3.0   \n",
       "3           123988      5.0              0.0              0.0            0.0   \n",
       "4           123988      6.0              0.0              0.0            0.0   \n",
       "\n",
       "            PrevPublishedAt  PrevViewCount  Title-clickbait  \n",
       "0  2012-03-28T18:01:31.000Z         3911.0         0.660503  \n",
       "1  2010-08-23T16:12:50.000Z         3853.0         0.782542  \n",
       "2  2010-05-17T10:15:48.000Z         1392.0         0.974470  \n",
       "3  2016-10-10T15:01:02.000Z           74.0         0.323020  \n",
       "4  2016-10-10T14:59:15.000Z           46.0         0.260023  \n",
       "\n",
       "[5 rows x 26 columns]"
      ]
     },
     "execution_count": 4,
     "metadata": {},
     "output_type": "execute_result"
    }
   ],
   "source": [
    "dfData.head()"
   ]
  },
  {
   "cell_type": "markdown",
   "metadata": {},
   "source": [
    "# Feature Creation using Title and Description Text"
   ]
  },
  {
   "cell_type": "markdown",
   "metadata": {},
   "source": [
    "## Looking at Categorical Workouts"
   ]
  },
  {
   "cell_type": "code",
   "execution_count": 5,
   "metadata": {
    "collapsed": true
   },
   "outputs": [],
   "source": [
    "# Conver to lower case \n",
    "dfData['Title'] = dfData['Title'].str.lower()\n",
    "\n",
    "\n",
    "# How To\n",
    "dfData['HowTo'] = (dfData['Title'].str.contains('how'))\n",
    "\n",
    "# Motivational\n",
    "dfData['Motivation'] = (dfData['Title'].str.contains('motivation'))\n",
    "\n",
    "\n",
    "# Transformation\n",
    "dfData['Transform'] = (dfData['Title'].str.contains('transform'))\n",
    "\n",
    "# Abs Workout\n",
    "dfData['Abs Video'] = (dfData['Title'].str.contains('abs')  | \n",
    "                       dfData['Title'].str.contains('six') | \n",
    "                       dfData['Title'].str.contains(' 6') | \n",
    "                       dfData['Title'].str.contains('abdomen'))\n",
    "        \n",
    "# Chest Workout\n",
    "dfData['Chest Video'] = (dfData['Title'].str.contains('chest')  |\n",
    "                         dfData['Title'].str.contains('pushup') | \n",
    "                         dfData['Title'].str.contains('bench') | \n",
    "                         dfData['Title'].str.contains('bench') | \n",
    "                         dfData['Title'].str.contains('push up') |\n",
    "                         dfData['Title'].str.contains('dumbell press'))\n",
    "\n",
    "# Back Workouts \n",
    "dfData['Back Video'] = (dfData['Title'].str.contains('back') | \n",
    "                        dfData['Title'].str.contains('pull up') | \n",
    "                        dfData['Title'].str.contains('chin up')  | \n",
    "                        dfData['Title'].str.contains('deadlift'))\n",
    "\n",
    "# Leg Workouts\n",
    "dfData['Legs Video'] = (dfData['Title'].str.contains('leg') | \n",
    "                        dfData['Title'].str.contains('squat') | \n",
    "                        dfData['Title'].str.contains('butt') | \n",
    "                        dfData['Title'].str.contains('quad') | \n",
    "                        dfData['Title'].str.contains('calve') )\n",
    "\n",
    "# Arm Workout\n",
    "dfData['Arm Video'] = (dfData['Title'].str.contains('shoulder') | \n",
    "                       dfData['Title'].str.contains('arm') | \n",
    "                       dfData['Title'].str.contains('bicep')  |\n",
    "                       dfData['Title'].str.contains('tricep') | \n",
    "                       dfData['Title'].str.contains('delt'))\n",
    "\n"
   ]
  },
  {
   "cell_type": "code",
   "execution_count": 6,
   "metadata": {
    "collapsed": true
   },
   "outputs": [],
   "source": [
    "dfData.loc[dfData['Abs Video'] == True , 'Category'] = 'Abs'\n",
    "dfData.loc[dfData['Chest Video'] == True , 'Category'] = 'Chest'\n",
    "dfData.loc[dfData['Back Video'] == True, 'Category'] = 'Back'\n",
    "dfData.loc[dfData['Legs Video'] == True, 'Category'] = 'Legs'\n",
    "dfData.loc[dfData['Arm Video'] == True, 'Category'] = 'Arms'\n",
    "dfData.loc[dfData['Motivation'] == True, 'Category'] = 'Motivation'\n",
    "dfData.loc[dfData['HowTo'] == True, 'Category'] = 'HowTo'\n",
    "dfData.loc[dfData['Motivation'] == True, 'Category'] = 'Motivation'\n",
    "dfData.loc[dfData['Transform'] == True, 'Category'] = 'Transform'"
   ]
  },
  {
   "cell_type": "code",
   "execution_count": 7,
   "metadata": {},
   "outputs": [
    {
     "data": {
      "text/plain": [
       "67831"
      ]
     },
     "execution_count": 7,
     "metadata": {},
     "output_type": "execute_result"
    }
   ],
   "source": [
    "#dfData = dfData.drop(['Abs Video', 'Chest Video','Back Video','Legs Video', 'Arm Video'], axis =1 )\n",
    "dfData[dfData['Category'].isnull()].shape[0]"
   ]
  },
  {
   "cell_type": "code",
   "execution_count": 8,
   "metadata": {
    "collapsed": true
   },
   "outputs": [],
   "source": [
    "dfData = dfData[dfData['Category'].notnull()]"
   ]
  },
  {
   "cell_type": "code",
   "execution_count": 9,
   "metadata": {},
   "outputs": [
    {
     "name": "stdout",
     "output_type": "stream",
     "text": [
      "Number of Abs Related Videos: 1871\n",
      "Number of Chest Related Videos: 2675\n",
      "Number of Back Related Videos: 3284\n",
      "Number of Leg Related Videos: 4356\n",
      "Number of Arm Related Videos: 4496\n"
     ]
    }
   ],
   "source": [
    "absVid = dfData[dfData['Category'] == 'Abs']\n",
    "chestVid = dfData[dfData['Category'] == 'Chest']\n",
    "backVid = dfData[dfData['Category'] == 'Back']\n",
    "legsVid = dfData[dfData['Category'] == 'Legs']\n",
    "armsVid = dfData[dfData['Category'] == 'Arms']\n",
    "\n",
    "print \"Number of Abs Related Videos: \" + str(absVid.shape[0])\n",
    "print \"Number of Chest Related Videos: \" + str(chestVid.shape[0])\n",
    "print \"Number of Back Related Videos: \" + str(backVid.shape[0])\n",
    "print \"Number of Leg Related Videos: \" + str(legsVid.shape[0])\n",
    "print \"Number of Arm Related Videos: \" + str(armsVid.shape[0])"
   ]
  },
  {
   "cell_type": "markdown",
   "metadata": {},
   "source": [
    "## Maybe just Body Part Videos"
   ]
  },
  {
   "cell_type": "code",
   "execution_count": 10,
   "metadata": {
    "collapsed": true
   },
   "outputs": [],
   "source": [
    "#dfData = dfData[dfData['Category'].notnull()]\n",
    "#dfData.shape[0]"
   ]
  },
  {
   "cell_type": "code",
   "execution_count": 11,
   "metadata": {},
   "outputs": [
    {
     "data": {
      "text/plain": [
       "<matplotlib.text.Text at 0x161fc278>"
      ]
     },
     "execution_count": 11,
     "metadata": {},
     "output_type": "execute_result"
    },
    {
     "data": {
      "image/png": "[encoded data removed]",
      "text/plain": [
       "<matplotlib.figure.Figure at 0x17620320>"
      ]
     },
     "metadata": {},
     "output_type": "display_data"
    }
   ],
   "source": [
    "yCols = ['Abs', 'Chest', 'Back', 'Legs', 'Arms']\n",
    "xCols = [absVid.shape[0], chestVid.shape[0], backVid.shape[0], legsVid.shape[0], armsVid.shape[0]]\n",
    "y = np.arange(len(yCols))\n",
    "plt.bar(y, xCols,align = 'center')\n",
    "plt.xticks(y,yCols)\n",
    "plt.ylabel(\"Number of Videos\")\n",
    "plt.title(\"Number of Videos for each Muscle Group\")"
   ]
  },
  {
   "cell_type": "markdown",
   "metadata": {},
   "source": [
    "## Observation\n",
    "Legs/Abs/Arms being the most since they target both a guy/girl audience"
   ]
  },
  {
   "cell_type": "markdown",
   "metadata": {},
   "source": [
    "## Understanding View Distribution"
   ]
  },
  {
   "cell_type": "code",
   "execution_count": 12,
   "metadata": {},
   "outputs": [
    {
     "name": "stdout",
     "output_type": "stream",
     "text": [
      "Category\n",
      "Motivation    129344.721637\n",
      "Transform      40973.867890\n",
      "Chest          28579.705421\n",
      "HowTo          24131.251253\n",
      "Abs            20405.567076\n",
      "Arms           19198.255116\n",
      "Legs           16286.413453\n",
      "Back           16042.858100\n",
      "Name: ViewCount, dtype: float64\n"
     ]
    },
    {
     "data": {
      "image/png": "[encoded data removed]",
      "text/plain": [
       "<matplotlib.figure.Figure at 0x16f9d6d8>"
      ]
     },
     "metadata": {},
     "output_type": "display_data"
    }
   ],
   "source": [
    "dfData.groupby('Category').ViewCount.mean().plot(kind=\"bar\")\n",
    "print(dfData.groupby('Category').ViewCount.mean().sort_values(ascending = False))\n",
    "plt.title(\"Average Views per Category\")\n",
    "plt.show()"
   ]
  },
  {
   "cell_type": "code",
   "execution_count": 13,
   "metadata": {},
   "outputs": [
    {
     "name": "stdout",
     "output_type": "stream",
     "text": [
      "Category\n",
      "Motivation    707.408555\n",
      "Transform     396.515596\n",
      "HowTo         381.314844\n",
      "Abs           273.920898\n",
      "Chest         262.340935\n",
      "Back          237.606882\n",
      "Legs          213.938017\n",
      "Arms          188.471530\n",
      "Name: LikeCount, dtype: float64\n"
     ]
    },
    {
     "data": {
      "image/png": "[encoded data removed]",
      "text/plain": [
       "<matplotlib.figure.Figure at 0x15fda5f8>"
      ]
     },
     "metadata": {},
     "output_type": "display_data"
    }
   ],
   "source": [
    "dfData.groupby('Category').LikeCount.mean().plot(kind=\"bar\")\n",
    "print(dfData.groupby('Category').LikeCount.mean().sort_values(ascending = False))\n",
    "plt.title(\"Average Likes per Category\")\n",
    "plt.show()"
   ]
  },
  {
   "cell_type": "code",
   "execution_count": 14,
   "metadata": {},
   "outputs": [
    {
     "name": "stdout",
     "output_type": "stream",
     "text": [
      "Category\n",
      "HowTo         66.276482\n",
      "Transform     54.906422\n",
      "Motivation    51.208308\n",
      "Chest         36.995140\n",
      "Back          30.626979\n",
      "Legs          27.453168\n",
      "Abs           24.502405\n",
      "Arms          24.423932\n",
      "Name: CommentCount, dtype: float64\n"
     ]
    },
    {
     "data": {
      "image/png": "[encoded data removed]",
      "text/plain": [
       "<matplotlib.figure.Figure at 0x173f4b70>"
      ]
     },
     "metadata": {},
     "output_type": "display_data"
    }
   ],
   "source": [
    "dfData.groupby('Category').ViewCount.mean().plot(kind=\"bar\")\n",
    "print(dfData.groupby('Category').CommentCount.mean().sort_values(ascending = False))\n",
    "plt.title(\"Average Comments per Category\")\n",
    "plt.show()"
   ]
  },
  {
   "cell_type": "markdown",
   "metadata": {},
   "source": [
    "## Observation"
   ]
  },
  {
   "cell_type": "markdown",
   "metadata": {},
   "source": [
    "Despite Legs having more videos than chest/abs, it has the least amount of views and likes.\n",
    "The most liked videos are chest and abs"
   ]
  },
  {
   "cell_type": "markdown",
   "metadata": {
    "collapsed": true
   },
   "source": [
    "### Categorizing by \"Sponsored\" and \"Description Box\" "
   ]
  },
  {
   "cell_type": "code",
   "execution_count": 15,
   "metadata": {
    "collapsed": true
   },
   "outputs": [],
   "source": [
    "# Abs Workout\n",
    "dfData['isSponsored'] = (dfData['Description'].str.contains('sponsored')  | \n",
    "                       dfData['Description'].str.contains('provided by'))\n",
    "\n",
    "dfData['hasDiscount'] = (dfData['Description'].str.contains(\"discount\") |\n",
    "                        dfData['Description'].str.contains(\"code\"))"
   ]
  },
  {
   "cell_type": "code",
   "execution_count": 16,
   "metadata": {
    "scrolled": false
   },
   "outputs": [
    {
     "data": {
      "text/plain": [
       "<matplotlib.axes._subplots.AxesSubplot at 0x13f5b6a0>"
      ]
     },
     "execution_count": 16,
     "metadata": {},
     "output_type": "execute_result"
    },
    {
     "data": {
      "image/png": "[encoded data removed]",
      "text/plain": [
       "<matplotlib.figure.Figure at 0x13f5b8d0>"
      ]
     },
     "metadata": {},
     "output_type": "display_data"
    }
   ],
   "source": [
    "dfData.groupby('isSponsored').ViewCount.mean().plot(kind=\"bar\")"
   ]
  },
  {
   "cell_type": "code",
   "execution_count": 17,
   "metadata": {},
   "outputs": [
    {
     "data": {
      "text/plain": [
       "<matplotlib.axes._subplots.AxesSubplot at 0x13e9e6d8>"
      ]
     },
     "execution_count": 17,
     "metadata": {},
     "output_type": "execute_result"
    },
    {
     "data": {
      "image/png": "[encoded data removed]",
      "text/plain": [
       "<matplotlib.figure.Figure at 0x142cb1d0>"
      ]
     },
     "metadata": {},
     "output_type": "display_data"
    }
   ],
   "source": [
    "dfData.groupby('hasDiscount').ViewCount.mean().plot(kind=\"bar\")"
   ]
  },
  {
   "cell_type": "code",
   "execution_count": 18,
   "metadata": {
    "collapsed": true
   },
   "outputs": [],
   "source": [
    "dfData['LikeDislikeRatio'] = dfData['LikeCount']/(dfData['LikeCount'] + dfData['DislikeCount'])"
   ]
  },
  {
   "cell_type": "code",
   "execution_count": 19,
   "metadata": {
    "collapsed": true
   },
   "outputs": [],
   "source": [
    "# Motivation\n",
    "# Transformation\n",
    "# Keywords: Ripped/Extreme/sexy/fat/intense\n",
    "# BodyBuilding\n",
    "# Tutorial/How To"
   ]
  },
  {
   "cell_type": "code",
   "execution_count": 20,
   "metadata": {},
   "outputs": [
    {
     "data": {
      "text/plain": [
       "Index([u'Unnamed: 0', u'Unnamed: 0.1', u'rowHash', u'Id', u'Title',\n",
       "       u'Description', u'LikeCount', u'DislikeCount', u'ViewCount',\n",
       "       u'FavoriteCount', u'CommentCount', u'PublishedAt', u'Channel Id',\n",
       "       u'Channel Title', u'Lang', u'publishedAt', u'subscriberCount',\n",
       "       u'channelVideoCount', u'channelViewCount', u'nextHash',\n",
       "       u'PrevCommentCount', u'PrevDislikeCount', u'PrevLikeCount',\n",
       "       u'PrevPublishedAt', u'PrevViewCount', u'Title-clickbait', u'HowTo',\n",
       "       u'Motivation', u'Transform', u'Abs Video', u'Chest Video',\n",
       "       u'Back Video', u'Legs Video', u'Arm Video', u'Category', u'isSponsored',\n",
       "       u'hasDiscount', u'LikeDislikeRatio'],\n",
       "      dtype='object')"
      ]
     },
     "execution_count": 20,
     "metadata": {},
     "output_type": "execute_result"
    }
   ],
   "source": [
    "dfData.columns"
   ]
  },
  {
   "cell_type": "code",
   "execution_count": 21,
   "metadata": {},
   "outputs": [
    {
     "data": {
      "text/plain": [
       "(24627, 38)"
      ]
     },
     "execution_count": 21,
     "metadata": {},
     "output_type": "execute_result"
    }
   ],
   "source": [
    "dfData.shape"
   ]
  },
  {
   "cell_type": "code",
   "execution_count": 68,
   "metadata": {
    "collapsed": true
   },
   "outputs": [],
   "source": [
    "def feature_engineer(dfData):\n",
    "    dfData =dfData.drop(['Category'],axis =1)\n",
    "    dfData['is_english'] = dfData['Lang'].apply(lambda x: 1 if x=='en' else 0)\n",
    "    dfData = dfData.drop('Lang', axis=1)\n",
    "    \n",
    "    dfData['is_Abs'] = dfData['Abs Video'].apply(lambda x: 1 if x==True else 0)\n",
    "    dfData['is_Chest'] = dfData['Chest Video'].apply(lambda x: 1 if x==True else 0)\n",
    "    dfData['is_Back'] = dfData['Back Video'].apply(lambda x: 1 if x==True else 0)\n",
    "    dfData['is_Legs'] = dfData['Legs Video'].apply(lambda x: 1 if x==True else 0)\n",
    "    dfData['is_Arms'] = dfData['Arm Video'].apply(lambda x: 1 if x==True else 0)\n",
    "    dfData['isSponsored'] = dfData['isSponsored'].apply(lambda x: 1 if x==True else 0)\n",
    "    dfData['Motivation'] = dfData['Motivation'].apply(lambda x: 1 if x==True else 0)\n",
    "    dfData['HowTo'] = dfData['HowTo'].apply(lambda x: 1 if x==True else 0)\n",
    "    dfData['PublishedYear'] = dfData['PublishedAt'].apply(lambda x: x[:4])\n",
    "    dfData['ChannelAge'] =  dfData['publishedAt'].apply(lambda x: x[:4])\n",
    "    dfData['channelViewCount'] = np.log1p(dfData['channelViewCount'])\n",
    "\n",
    "    dfData = dfData.drop(['Title','Description','PublishedAt','publishedAt','Channel Id','Channel Title','Abs Video','Chest Video','Back Video',\n",
    "                          'Legs Video','Arm Video','PrevPublishedAt','Id','Unnamed: 0','rowHash','FavoriteCount','nextHash','hasDiscount','PublishedYear'],axis = 1)\n",
    "    \n",
    "    return dfData\n",
    "\n",
    "def drop_obvious_features(dfData):\n",
    "    dfData = dfData.drop(['LikeCount','DislikeCount','CommentCount'],axis = 1)\n",
    "    return dfData\n",
    "\n",
    "def drop_engineered_features(dfData):\n",
    "    dfData = dfData.drop(['nsfw_score','Title-Clickbait'],axis = 1)\n",
    "    return dfData\n"
   ]
  },
  {
   "cell_type": "code",
   "execution_count": 69,
   "metadata": {},
   "outputs": [],
   "source": [
    "df = feature_engineer(dfData).drop('LikeDislikeRatio',axis =1)"
   ]
  },
  {
   "cell_type": "code",
   "execution_count": 70,
   "metadata": {},
   "outputs": [
    {
     "data": {
      "text/plain": [
       "Index([u'Unnamed: 0.1', u'LikeCount', u'DislikeCount', u'ViewCount',\n",
       "       u'CommentCount', u'subscriberCount', u'channelVideoCount',\n",
       "       u'channelViewCount', u'PrevCommentCount', u'PrevDislikeCount',\n",
       "       u'PrevLikeCount', u'PrevViewCount', u'Title-clickbait', u'HowTo',\n",
       "       u'Motivation', u'Transform', u'isSponsored', u'is_english', u'is_Abs',\n",
       "       u'is_Chest', u'is_Back', u'is_Legs', u'is_Arms', u'ChannelAge'],\n",
       "      dtype='object')"
      ]
     },
     "execution_count": 70,
     "metadata": {},
     "output_type": "execute_result"
    }
   ],
   "source": [
    "df.columns"
   ]
  },
  {
   "cell_type": "code",
   "execution_count": 71,
   "metadata": {
    "collapsed": true
   },
   "outputs": [],
   "source": [
    "X, y = df.drop('ViewCount',axis = 1) , np.log1p(df['ViewCount'])"
   ]
  },
  {
   "cell_type": "code",
   "execution_count": 72,
   "metadata": {},
   "outputs": [
    {
     "name": "stdout",
     "output_type": "stream",
     "text": [
      "Check For Null Values\n",
      "False\n",
      "False\n",
      "False\n",
      "False\n",
      "False\n",
      "False\n",
      "False\n",
      "False\n",
      "False\n",
      "False\n",
      "False\n",
      "False\n",
      "False\n",
      "False\n",
      "False\n",
      "False\n",
      "False\n",
      "False\n",
      "False\n",
      "False\n",
      "False\n",
      "False\n",
      "False\n",
      "Check for Pred:\n",
      "False\n"
     ]
    }
   ],
   "source": [
    "def checkForNull(X,y):\n",
    "    X = X.as_matrix().astype(float)\n",
    "    print \"Check For Null Values\"\n",
    "    for i in range(0,len(df.columns)-1):\n",
    "        print np.any(np.isnan(X[:,i]))\n",
    "    print \"Check for Pred:\"\n",
    "    y = y.as_matrix().astype(float)\n",
    "    print np.any(np.isnan(y))\n",
    "checkForNull(X,y)"
   ]
  },
  {
   "cell_type": "code",
   "execution_count": 73,
   "metadata": {
    "collapsed": true
   },
   "outputs": [],
   "source": [
    "from sklearn.ensemble import GradientBoostingClassifier, GradientBoostingRegressor\n",
    "from sklearn.dummy import DummyClassifier, DummyRegressor\n",
    "from sklearn.model_selection import train_test_split\n",
    "from xgboost import XGBClassifier, XGBRegressor\n"
   ]
  },
  {
   "cell_type": "code",
   "execution_count": 74,
   "metadata": {
    "collapsed": true
   },
   "outputs": [],
   "source": [
    "train_X, test_X, train_y, test_y = train_test_split(X, y, train_size=0.75, test_size=0.25)\n",
    "\n"
   ]
  },
  {
   "cell_type": "code",
   "execution_count": 75,
   "metadata": {},
   "outputs": [
    {
     "data": {
      "text/plain": [
       "0.8864740031379702"
      ]
     },
     "execution_count": 75,
     "metadata": {},
     "output_type": "execute_result"
    }
   ],
   "source": [
    "reg = GradientBoostingRegressor()\n",
    "reg.fit(train_X, train_y)\n",
    "reg.score(test_X, test_y)"
   ]
  },
  {
   "cell_type": "code",
   "execution_count": 76,
   "metadata": {},
   "outputs": [
    {
     "data": {
      "text/plain": [
       "<matplotlib.axes._subplots.AxesSubplot at 0x1ec98a20>"
      ]
     },
     "execution_count": 76,
     "metadata": {},
     "output_type": "execute_result"
    },
    {
     "data": {
      "image/png": "[encoded data removed]",
      "text/plain": [
       "<matplotlib.figure.Figure at 0x191ee7f0>"
      ]
     },
     "metadata": {},
     "output_type": "display_data"
    }
   ],
   "source": [
    "sns.set_style('whitegrid')\n",
    "plt.figure(figsize=(10,12))\n",
    "sns.barplot(x=reg.feature_importances_, y=X.columns)"
   ]
  },
  {
   "cell_type": "code",
   "execution_count": 77,
   "metadata": {},
   "outputs": [
    {
     "name": "stdout",
     "output_type": "stream",
     "text": [
      "Index([u'Unnamed: 0.1', u'ViewCount', u'subscriberCount', u'channelVideoCount',\n",
      "       u'channelViewCount', u'PrevCommentCount', u'PrevDislikeCount',\n",
      "       u'PrevLikeCount', u'PrevViewCount', u'Title-clickbait', u'HowTo',\n",
      "       u'Motivation', u'Transform', u'isSponsored', u'is_english', u'is_Abs',\n",
      "       u'is_Chest', u'is_Back', u'is_Legs', u'is_Arms', u'ChannelAge'],\n",
      "      dtype='object')\n",
      "Check For Null Values\n",
      "False\n",
      "False\n",
      "False\n",
      "False\n",
      "False\n",
      "False\n",
      "False\n",
      "False\n",
      "False\n",
      "False\n",
      "False\n",
      "False\n",
      "False\n",
      "False\n",
      "False\n",
      "False\n",
      "False\n",
      "False\n",
      "False\n",
      "False\n",
      "Check for Pred:\n",
      "False\n"
     ]
    },
    {
     "data": {
      "text/plain": [
       "0.68888161223944722"
      ]
     },
     "execution_count": 77,
     "metadata": {},
     "output_type": "execute_result"
    }
   ],
   "source": [
    "df = drop_obvious_features(feature_engineer(dfData)).drop('LikeDislikeRatio',axis = 1)\n",
    "print df.columns\n",
    "X, y = df.drop(['ViewCount'],axis=1), np.log1p(df['ViewCount'])\n",
    "checkForNull(X,y)\n",
    "train_X, test_X, train_y, test_y = train_test_split(X, y, train_size=0.75, test_size=0.25)\n",
    "\n",
    "\n",
    "\n",
    "reg = GradientBoostingRegressor()\n",
    "reg.fit(train_X, train_y)\n",
    "reg.score(test_X, test_y)\n",
    "\n"
   ]
  },
  {
   "cell_type": "code",
   "execution_count": 78,
   "metadata": {},
   "outputs": [
    {
     "data": {
      "text/plain": [
       "<matplotlib.axes._subplots.AxesSubplot at 0x18e1f588>"
      ]
     },
     "execution_count": 78,
     "metadata": {},
     "output_type": "execute_result"
    },
    {
     "data": {
      "image/png": "[encoded data removed]",
      "text/plain": [
       "<matplotlib.figure.Figure at 0x18e2a208>"
      ]
     },
     "metadata": {},
     "output_type": "display_data"
    }
   ],
   "source": [
    "sns.set_style('whitegrid')\n",
    "plt.figure(figsize=(10,12))\n",
    "sns.barplot(x=reg.feature_importances_, y=X.columns)"
   ]
  },
  {
   "cell_type": "code",
   "execution_count": 79,
   "metadata": {},
   "outputs": [
    {
     "data": {
      "text/plain": [
       "0.69569355138516698"
      ]
     },
     "execution_count": 79,
     "metadata": {},
     "output_type": "execute_result"
    }
   ],
   "source": [
    "reg = XGBRegressor(n_estimators = 1000)\n",
    "train_X['ChannelAge'] = train_X['ChannelAge'].astype(int)\n",
    "test_X['ChannelAge'] = test_X['ChannelAge'].astype(int)\n",
    "\n",
    "reg.fit(train_X, train_y)\n",
    "reg.score(test_X, test_y)"
   ]
  },
  {
   "cell_type": "code",
   "execution_count": 80,
   "metadata": {},
   "outputs": [
    {
     "data": {
      "text/plain": [
       "0.41564354645297397"
      ]
     },
     "execution_count": 80,
     "metadata": {},
     "output_type": "execute_result"
    }
   ],
   "source": [
    "from sklearn.metrics import mean_squared_error, r2_score\n",
    "from sklearn import datasets, linear_model\n",
    "reg = linear_model.LinearRegression()\n",
    "train_X['ChannelAge'] = train_X['ChannelAge'].astype(int)\n",
    "test_X['ChannelAge'] = test_X['ChannelAge'].astype(int)\n",
    "reg.fit(train_X, train_y)\n",
    "reg.score(test_X, test_y)"
   ]
  },
  {
   "cell_type": "code",
   "execution_count": 81,
   "metadata": {},
   "outputs": [
    {
     "data": {
      "text/plain": [
       "0.65239706717377"
      ]
     },
     "execution_count": 81,
     "metadata": {},
     "output_type": "execute_result"
    }
   ],
   "source": [
    "from sklearn.ensemble import RandomForestRegressor\n",
    "\n",
    "reg = RandomForestRegressor()\n",
    "train_X['ChannelAge'] = train_X['ChannelAge'].astype(int)\n",
    "test_X['ChannelAge'] = test_X['ChannelAge'].astype(int)\n",
    "\n",
    "reg.fit(train_X, train_y)\n",
    "reg.score(test_X, test_y)"
   ]
  },
  {
   "cell_type": "code",
   "execution_count": null,
   "metadata": {
    "collapsed": true
   },
   "outputs": [],
   "source": []
  },
  {
   "cell_type": "code",
   "execution_count": null,
   "metadata": {
    "collapsed": true
   },
   "outputs": [],
   "source": []
  }
 ],
 "metadata": {
  "kernelspec": {
   "display_name": "Python 2",
   "language": "python",
   "name": "python2"
  },
  "language_info": {
   "codemirror_mode": {
    "name": "ipython",
    "version": 2
   },
   "file_extension": ".py",
   "mimetype": "text/x-python",
   "name": "python",
   "nbconvert_exporter": "python",
   "pygments_lexer": "ipython2",
   "version": "2.7.13"
  }
 },
 "nbformat": 4,
 "nbformat_minor": 1
}
