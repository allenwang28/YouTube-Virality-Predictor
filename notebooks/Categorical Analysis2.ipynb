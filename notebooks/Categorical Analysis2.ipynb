{
 "cells": [
  {
   "cell_type": "code",
   "execution_count": 3,
   "metadata": {
    "collapsed": true
   },
   "outputs": [],
   "source": [
    "%matplotlib inline\n",
    "import pandas as pd\n",
    "import numpy as np\n",
    "import matplotlib.pyplot as plt\n",
    "import seaborn as sns\n",
    "from scipy import stats\n",
    "from ast import literal_eval\n",
    "from sklearn.feature_extraction.text import TfidfVectorizer, CountVectorizer\n",
    "from sklearn.metrics.pairwise import linear_kernel, cosine_similarity\n",
    "from nltk.stem.snowball import SnowballStemmer\n",
    "from nltk.stem.wordnet import WordNetLemmatizer\n",
    "from nltk.corpus import wordnet\n",
    "from langdetect import detect\n",
    "\n",
    "import warnings; warnings.simplefilter('ignore')"
   ]
  },
  {
   "cell_type": "markdown",
   "metadata": {},
   "source": [
    "# Categorizing Videos By Text"
   ]
  },
  {
   "cell_type": "code",
   "execution_count": 41,
   "metadata": {},
   "outputs": [],
   "source": [
    "# Video Related Features\n",
    "dfData = pd.read_csv('../data/All_data_cbs.csv')\n",
    "\n",
    "#nsfw\n",
    "\n",
    "dfNSFW = pd.read_csv('../data/all_virality_nsfw.csv')"
   ]
  },
  {
   "cell_type": "code",
   "execution_count": 42,
   "metadata": {
    "collapsed": true
   },
   "outputs": [],
   "source": [
    "dfNSFW.rename(columns={'video_id' : 'Id'}, inplace = True)"
   ]
  },
  {
   "cell_type": "code",
   "execution_count": 43,
   "metadata": {
    "collapsed": true
   },
   "outputs": [],
   "source": [
    "dfData = dfData[dfData['channelVideoCount']<2000]\n",
    "dfData = dfData[dfData['subscriberCount'] >0]\n"
   ]
  },
  {
   "cell_type": "code",
   "execution_count": 44,
   "metadata": {
    "collapsed": true
   },
   "outputs": [],
   "source": [
    "dfData = dfData.merge(dfNSFW,on='Id',how='left')"
   ]
  },
  {
   "cell_type": "code",
   "execution_count": 74,
   "metadata": {},
   "outputs": [],
   "source": [
    "dfData['nsfw_score'] = dfData['nsfw_score'].fillna(0)\n"
   ]
  },
  {
   "cell_type": "code",
   "execution_count": 75,
   "metadata": {},
   "outputs": [
    {
     "data": {
      "text/html": [
       "<div>\n",
       "<style>\n",
       "    .dataframe thead tr:only-child th {\n",
       "        text-align: right;\n",
       "    }\n",
       "\n",
       "    .dataframe thead th {\n",
       "        text-align: left;\n",
       "    }\n",
       "\n",
       "    .dataframe tbody tr th {\n",
       "        vertical-align: top;\n",
       "    }\n",
       "</style>\n",
       "<table border=\"1\" class=\"dataframe\">\n",
       "  <thead>\n",
       "    <tr style=\"text-align: right;\">\n",
       "      <th></th>\n",
       "      <th>Unnamed: 0</th>\n",
       "      <th>Unnamed: 0.1</th>\n",
       "      <th>rowHash</th>\n",
       "      <th>Id</th>\n",
       "      <th>Title</th>\n",
       "      <th>Description</th>\n",
       "      <th>LikeCount</th>\n",
       "      <th>DislikeCount</th>\n",
       "      <th>ViewCount</th>\n",
       "      <th>FavoriteCount</th>\n",
       "      <th>...</th>\n",
       "      <th>Transform</th>\n",
       "      <th>Abs Video</th>\n",
       "      <th>Chest Video</th>\n",
       "      <th>Back Video</th>\n",
       "      <th>Legs Video</th>\n",
       "      <th>Arm Video</th>\n",
       "      <th>Category</th>\n",
       "      <th>isSponsored</th>\n",
       "      <th>hasDiscount</th>\n",
       "      <th>LikeDislikeRatio</th>\n",
       "    </tr>\n",
       "  </thead>\n",
       "  <tbody>\n",
       "    <tr>\n",
       "      <th>5</th>\n",
       "      <td>5</td>\n",
       "      <td>5</td>\n",
       "      <td>6</td>\n",
       "      <td>tJ3bb0V5y2Y</td>\n",
       "      <td>farmer walk 125kg each hand at papar strongest...</td>\n",
       "      <td>125kg x 2 for 40 meters</td>\n",
       "      <td>0</td>\n",
       "      <td>0</td>\n",
       "      <td>46</td>\n",
       "      <td>0</td>\n",
       "      <td>...</td>\n",
       "      <td>False</td>\n",
       "      <td>False</td>\n",
       "      <td>False</td>\n",
       "      <td>False</td>\n",
       "      <td>False</td>\n",
       "      <td>True</td>\n",
       "      <td>Arms</td>\n",
       "      <td>False</td>\n",
       "      <td>False</td>\n",
       "      <td>NaN</td>\n",
       "    </tr>\n",
       "    <tr>\n",
       "      <th>8</th>\n",
       "      <td>8</td>\n",
       "      <td>8</td>\n",
       "      <td>10</td>\n",
       "      <td>lT5lqT0zJgk</td>\n",
       "      <td>200kg bench press with support</td>\n",
       "      <td>Just wanna get the feel. My PR only 160 at the...</td>\n",
       "      <td>2</td>\n",
       "      <td>0</td>\n",
       "      <td>109</td>\n",
       "      <td>0</td>\n",
       "      <td>...</td>\n",
       "      <td>False</td>\n",
       "      <td>False</td>\n",
       "      <td>True</td>\n",
       "      <td>False</td>\n",
       "      <td>False</td>\n",
       "      <td>False</td>\n",
       "      <td>Chest</td>\n",
       "      <td>False</td>\n",
       "      <td>False</td>\n",
       "      <td>1.0</td>\n",
       "    </tr>\n",
       "    <tr>\n",
       "      <th>9</th>\n",
       "      <td>9</td>\n",
       "      <td>9</td>\n",
       "      <td>11</td>\n",
       "      <td>9qIULP6nY04</td>\n",
       "      <td>farmer walk 130kg arnold classic australia</td>\n",
       "      <td>Arnold Classic Australia Qualifier 2016, Victo...</td>\n",
       "      <td>0</td>\n",
       "      <td>0</td>\n",
       "      <td>164</td>\n",
       "      <td>0</td>\n",
       "      <td>...</td>\n",
       "      <td>False</td>\n",
       "      <td>False</td>\n",
       "      <td>False</td>\n",
       "      <td>False</td>\n",
       "      <td>False</td>\n",
       "      <td>True</td>\n",
       "      <td>Arms</td>\n",
       "      <td>False</td>\n",
       "      <td>False</td>\n",
       "      <td>NaN</td>\n",
       "    </tr>\n",
       "    <tr>\n",
       "      <th>11</th>\n",
       "      <td>11</td>\n",
       "      <td>11</td>\n",
       "      <td>15</td>\n",
       "      <td>iLKDs4ISafA</td>\n",
       "      <td>30 squats for ticket</td>\n",
       "      <td>30 Squat untuk dapatkan 1 tiket.</td>\n",
       "      <td>2</td>\n",
       "      <td>0</td>\n",
       "      <td>664</td>\n",
       "      <td>0</td>\n",
       "      <td>...</td>\n",
       "      <td>False</td>\n",
       "      <td>False</td>\n",
       "      <td>False</td>\n",
       "      <td>False</td>\n",
       "      <td>True</td>\n",
       "      <td>False</td>\n",
       "      <td>Legs</td>\n",
       "      <td>False</td>\n",
       "      <td>False</td>\n",
       "      <td>1.0</td>\n",
       "    </tr>\n",
       "    <tr>\n",
       "      <th>14</th>\n",
       "      <td>14</td>\n",
       "      <td>14</td>\n",
       "      <td>18</td>\n",
       "      <td>1Dkt8hfpAc0</td>\n",
       "      <td>roman gavryshchuk on ukranian television show</td>\n",
       "      <td>Roman Gavryshchuk on Ukranian Television Show</td>\n",
       "      <td>8</td>\n",
       "      <td>0</td>\n",
       "      <td>3925</td>\n",
       "      <td>0</td>\n",
       "      <td>...</td>\n",
       "      <td>False</td>\n",
       "      <td>False</td>\n",
       "      <td>False</td>\n",
       "      <td>False</td>\n",
       "      <td>False</td>\n",
       "      <td>False</td>\n",
       "      <td>HowTo</td>\n",
       "      <td>False</td>\n",
       "      <td>False</td>\n",
       "      <td>1.0</td>\n",
       "    </tr>\n",
       "  </tbody>\n",
       "</table>\n",
       "<p>5 rows × 39 columns</p>\n",
       "</div>"
      ],
      "text/plain": [
       "    Unnamed: 0  Unnamed: 0.1  rowHash           Id  \\\n",
       "5            5             5        6  tJ3bb0V5y2Y   \n",
       "8            8             8       10  lT5lqT0zJgk   \n",
       "9            9             9       11  9qIULP6nY04   \n",
       "11          11            11       15  iLKDs4ISafA   \n",
       "14          14            14       18  1Dkt8hfpAc0   \n",
       "\n",
       "                                                Title  \\\n",
       "5   farmer walk 125kg each hand at papar strongest...   \n",
       "8                      200kg bench press with support   \n",
       "9          farmer walk 130kg arnold classic australia   \n",
       "11                               30 squats for ticket   \n",
       "14      roman gavryshchuk on ukranian television show   \n",
       "\n",
       "                                          Description  LikeCount  \\\n",
       "5                             125kg x 2 for 40 meters          0   \n",
       "8   Just wanna get the feel. My PR only 160 at the...          2   \n",
       "9   Arnold Classic Australia Qualifier 2016, Victo...          0   \n",
       "11                   30 Squat untuk dapatkan 1 tiket.          2   \n",
       "14      Roman Gavryshchuk on Ukranian Television Show          8   \n",
       "\n",
       "    DislikeCount  ViewCount  FavoriteCount        ...         Transform  \\\n",
       "5              0         46              0        ...             False   \n",
       "8              0        109              0        ...             False   \n",
       "9              0        164              0        ...             False   \n",
       "11             0        664              0        ...             False   \n",
       "14             0       3925              0        ...             False   \n",
       "\n",
       "   Abs Video Chest Video Back Video Legs Video Arm Video  Category  \\\n",
       "5      False       False      False      False      True      Arms   \n",
       "8      False        True      False      False     False     Chest   \n",
       "9      False       False      False      False      True      Arms   \n",
       "11     False       False      False       True     False      Legs   \n",
       "14     False       False      False      False     False     HowTo   \n",
       "\n",
       "    isSponsored  hasDiscount  LikeDislikeRatio  \n",
       "5         False        False               NaN  \n",
       "8         False        False               1.0  \n",
       "9         False        False               NaN  \n",
       "11        False        False               1.0  \n",
       "14        False        False               1.0  \n",
       "\n",
       "[5 rows x 39 columns]"
      ]
     },
     "execution_count": 75,
     "metadata": {},
     "output_type": "execute_result"
    }
   ],
   "source": [
    "dfData.head()"
   ]
  },
  {
   "cell_type": "markdown",
   "metadata": {},
   "source": [
    "# Feature Creation using Title and Description Text"
   ]
  },
  {
   "cell_type": "markdown",
   "metadata": {},
   "source": [
    "## Looking at Categorical Workouts"
   ]
  },
  {
   "cell_type": "code",
   "execution_count": 76,
   "metadata": {
    "collapsed": true
   },
   "outputs": [],
   "source": [
    "# Conver to lower case \n",
    "dfData['Title'] = dfData['Title'].str.lower()\n",
    "\n",
    "\n",
    "# How To\n",
    "dfData['HowTo'] = (dfData['Title'].str.contains('how'))\n",
    "\n",
    "# Motivational\n",
    "dfData['Motivation'] = (dfData['Title'].str.contains('motivation'))\n",
    "\n",
    "\n",
    "# Transformation\n",
    "dfData['Transform'] = (dfData['Title'].str.contains('transform'))\n",
    "\n",
    "# Abs Workout\n",
    "dfData['Abs Video'] = (dfData['Title'].str.contains('abs')  | \n",
    "                       dfData['Title'].str.contains('six') | \n",
    "                       dfData['Title'].str.contains(' 6') | \n",
    "                       dfData['Title'].str.contains('abdomen'))\n",
    "        \n",
    "# Chest Workout\n",
    "dfData['Chest Video'] = (dfData['Title'].str.contains('chest')  |\n",
    "                         dfData['Title'].str.contains('pushup') | \n",
    "                         dfData['Title'].str.contains('bench') | \n",
    "                         dfData['Title'].str.contains('bench') | \n",
    "                         dfData['Title'].str.contains('push up') |\n",
    "                         dfData['Title'].str.contains('dumbell press'))\n",
    "\n",
    "# Back Workouts \n",
    "dfData['Back Video'] = (dfData['Title'].str.contains('back') | \n",
    "                        dfData['Title'].str.contains('pull up') | \n",
    "                        dfData['Title'].str.contains('chin up')  | \n",
    "                        dfData['Title'].str.contains('deadlift'))\n",
    "\n",
    "# Leg Workouts\n",
    "dfData['Legs Video'] = (dfData['Title'].str.contains('leg') | \n",
    "                        dfData['Title'].str.contains('squat') | \n",
    "                        dfData['Title'].str.contains('butt') | \n",
    "                        dfData['Title'].str.contains('quad') | \n",
    "                        dfData['Title'].str.contains('calve') )\n",
    "\n",
    "# Arm Workout\n",
    "dfData['Arm Video'] = (dfData['Title'].str.contains('shoulder') | \n",
    "                       dfData['Title'].str.contains('arm') | \n",
    "                       dfData['Title'].str.contains('bicep')  |\n",
    "                       dfData['Title'].str.contains('tricep') | \n",
    "                       dfData['Title'].str.contains('delt'))\n",
    "\n"
   ]
  },
  {
   "cell_type": "code",
   "execution_count": 77,
   "metadata": {
    "collapsed": true
   },
   "outputs": [],
   "source": [
    "dfData.loc[dfData['Abs Video'] == True , 'Category'] = 'Abs'\n",
    "dfData.loc[dfData['Chest Video'] == True , 'Category'] = 'Chest'\n",
    "dfData.loc[dfData['Back Video'] == True, 'Category'] = 'Back'\n",
    "dfData.loc[dfData['Legs Video'] == True, 'Category'] = 'Legs'\n",
    "dfData.loc[dfData['Arm Video'] == True, 'Category'] = 'Arms'\n",
    "dfData.loc[dfData['Motivation'] == True, 'Category'] = 'Motivation'\n",
    "dfData.loc[dfData['HowTo'] == True, 'Category'] = 'HowTo'\n",
    "dfData.loc[dfData['Motivation'] == True, 'Category'] = 'Motivation'\n",
    "dfData.loc[dfData['Transform'] == True, 'Category'] = 'Transform'"
   ]
  },
  {
   "cell_type": "code",
   "execution_count": 78,
   "metadata": {},
   "outputs": [
    {
     "data": {
      "text/plain": [
       "0"
      ]
     },
     "execution_count": 78,
     "metadata": {},
     "output_type": "execute_result"
    }
   ],
   "source": [
    "#dfData = dfData.drop(['Abs Video', 'Chest Video','Back Video','Legs Video', 'Arm Video'], axis =1 )\n",
    "dfData[dfData['Category'].isnull()].shape[0]"
   ]
  },
  {
   "cell_type": "code",
   "execution_count": 79,
   "metadata": {
    "collapsed": true
   },
   "outputs": [],
   "source": [
    "dfData = dfData[dfData['Category'].notnull()]"
   ]
  },
  {
   "cell_type": "code",
   "execution_count": 80,
   "metadata": {},
   "outputs": [
    {
     "name": "stdout",
     "output_type": "stream",
     "text": [
      "Number of Abs Related Videos: 1871\n",
      "Number of Chest Related Videos: 2675\n",
      "Number of Back Related Videos: 3284\n",
      "Number of Leg Related Videos: 4356\n",
      "Number of Arm Related Videos: 4496\n"
     ]
    }
   ],
   "source": [
    "absVid = dfData[dfData['Category'] == 'Abs']\n",
    "chestVid = dfData[dfData['Category'] == 'Chest']\n",
    "backVid = dfData[dfData['Category'] == 'Back']\n",
    "legsVid = dfData[dfData['Category'] == 'Legs']\n",
    "armsVid = dfData[dfData['Category'] == 'Arms']\n",
    "\n",
    "print \"Number of Abs Related Videos: \" + str(absVid.shape[0])\n",
    "print \"Number of Chest Related Videos: \" + str(chestVid.shape[0])\n",
    "print \"Number of Back Related Videos: \" + str(backVid.shape[0])\n",
    "print \"Number of Leg Related Videos: \" + str(legsVid.shape[0])\n",
    "print \"Number of Arm Related Videos: \" + str(armsVid.shape[0])"
   ]
  },
  {
   "cell_type": "markdown",
   "metadata": {},
   "source": [
    "## Maybe just Body Part Videos"
   ]
  },
  {
   "cell_type": "code",
   "execution_count": 81,
   "metadata": {
    "collapsed": true
   },
   "outputs": [],
   "source": [
    "#dfData = dfData[dfData['Category'].notnull()]\n",
    "#dfData.shape[0]"
   ]
  },
  {
   "cell_type": "code",
   "execution_count": 82,
   "metadata": {},
   "outputs": [
    {
     "data": {
      "text/plain": [
       "<matplotlib.text.Text at 0x21f48048>"
      ]
     },
     "execution_count": 82,
     "metadata": {},
     "output_type": "execute_result"
    },
    {
     "data": {
      "image/png": "[encoded data removed]",
      "text/plain": [
       "<matplotlib.figure.Figure at 0x1ae47978>"
      ]
     },
     "metadata": {},
     "output_type": "display_data"
    }
   ],
   "source": [
    "yCols = ['Abs', 'Chest', 'Back', 'Legs', 'Arms']\n",
    "xCols = [absVid.shape[0], chestVid.shape[0], backVid.shape[0], legsVid.shape[0], armsVid.shape[0]]\n",
    "y = np.arange(len(yCols))\n",
    "plt.bar(y, xCols,align = 'center')\n",
    "plt.xticks(y,yCols)\n",
    "plt.ylabel(\"Number of Videos\")\n",
    "plt.title(\"Number of Videos for each Muscle Group\")"
   ]
  },
  {
   "cell_type": "markdown",
   "metadata": {},
   "source": [
    "## Observation\n",
    "Legs/Abs/Arms being the most since they target both a guy/girl audience"
   ]
  },
  {
   "cell_type": "markdown",
   "metadata": {},
   "source": [
    "## Understanding View Distribution"
   ]
  },
  {
   "cell_type": "code",
   "execution_count": 83,
   "metadata": {},
   "outputs": [
    {
     "name": "stdout",
     "output_type": "stream",
     "text": [
      "Category\n",
      "Motivation    129344.721637\n",
      "Transform      40973.867890\n",
      "Chest          28579.705421\n",
      "HowTo          24131.251253\n",
      "Abs            20405.567076\n",
      "Arms           19198.255116\n",
      "Legs           16286.413453\n",
      "Back           16042.858100\n",
      "Name: ViewCount, dtype: float64\n"
     ]
    },
    {
     "data": {
      "image/png": "[encoded data removed]",
      "text/plain": [
       "<matplotlib.figure.Figure at 0x1ae6ccc0>"
      ]
     },
     "metadata": {},
     "output_type": "display_data"
    }
   ],
   "source": [
    "dfData.groupby('Category').ViewCount.mean().plot(kind=\"bar\")\n",
    "print(dfData.groupby('Category').ViewCount.mean().sort_values(ascending = False))\n",
    "plt.title(\"Average Views per Category\")\n",
    "plt.show()"
   ]
  },
  {
   "cell_type": "code",
   "execution_count": 84,
   "metadata": {},
   "outputs": [
    {
     "name": "stdout",
     "output_type": "stream",
     "text": [
      "Category\n",
      "Motivation    707.408555\n",
      "Transform     396.515596\n",
      "HowTo         381.314844\n",
      "Abs           273.920898\n",
      "Chest         262.340935\n",
      "Back          237.606882\n",
      "Legs          213.938017\n",
      "Arms          188.471530\n",
      "Name: LikeCount, dtype: float64\n"
     ]
    },
    {
     "data": {
      "image/png": "[encoded data removed]",
      "text/plain": [
       "<matplotlib.figure.Figure at 0x16be8e48>"
      ]
     },
     "metadata": {},
     "output_type": "display_data"
    }
   ],
   "source": [
    "dfData.groupby('Category').LikeCount.mean().plot(kind=\"bar\")\n",
    "print(dfData.groupby('Category').LikeCount.mean().sort_values(ascending = False))\n",
    "plt.title(\"Average Likes per Category\")\n",
    "plt.show()"
   ]
  },
  {
   "cell_type": "code",
   "execution_count": 85,
   "metadata": {},
   "outputs": [
    {
     "name": "stdout",
     "output_type": "stream",
     "text": [
      "Category\n",
      "HowTo         66.276482\n",
      "Transform     54.906422\n",
      "Motivation    51.208308\n",
      "Chest         36.995140\n",
      "Back          30.626979\n",
      "Legs          27.453168\n",
      "Abs           24.502405\n",
      "Arms          24.423932\n",
      "Name: CommentCount, dtype: float64\n"
     ]
    },
    {
     "data": {
      "image/png": "[encoded data removed]",
      "text/plain": [
       "<matplotlib.figure.Figure at 0x17652ef0>"
      ]
     },
     "metadata": {},
     "output_type": "display_data"
    }
   ],
   "source": [
    "dfData.groupby('Category').ViewCount.mean().plot(kind=\"bar\")\n",
    "print(dfData.groupby('Category').CommentCount.mean().sort_values(ascending = False))\n",
    "plt.title(\"Average Comments per Category\")\n",
    "plt.show()"
   ]
  },
  {
   "cell_type": "markdown",
   "metadata": {},
   "source": [
    "## Observation"
   ]
  },
  {
   "cell_type": "markdown",
   "metadata": {},
   "source": [
    "Despite Legs having more videos than chest/abs, it has the least amount of views and likes.\n",
    "The most liked videos are chest and abs"
   ]
  },
  {
   "cell_type": "markdown",
   "metadata": {
    "collapsed": true
   },
   "source": [
    "### Categorizing by \"Sponsored\" and \"Description Box\" "
   ]
  },
  {
   "cell_type": "code",
   "execution_count": 86,
   "metadata": {
    "collapsed": true
   },
   "outputs": [],
   "source": [
    "# Abs Workout\n",
    "dfData['isSponsored'] = (dfData['Description'].str.contains('sponsored')  | \n",
    "                       dfData['Description'].str.contains('provided by'))\n",
    "\n",
    "dfData['hasDiscount'] = (dfData['Description'].str.contains(\"discount\") |\n",
    "                        dfData['Description'].str.contains(\"code\"))"
   ]
  },
  {
   "cell_type": "code",
   "execution_count": 87,
   "metadata": {
    "scrolled": false
   },
   "outputs": [
    {
     "data": {
      "text/plain": [
       "<matplotlib.axes._subplots.AxesSubplot at 0x1d476550>"
      ]
     },
     "execution_count": 87,
     "metadata": {},
     "output_type": "execute_result"
    },
    {
     "data": {
      "image/png": "[encoded data removed]",
      "text/plain": [
       "<matplotlib.figure.Figure at 0x1aea78d0>"
      ]
     },
     "metadata": {},
     "output_type": "display_data"
    }
   ],
   "source": [
    "dfData.groupby('isSponsored').ViewCount.mean().plot(kind=\"bar\")"
   ]
  },
  {
   "cell_type": "code",
   "execution_count": 88,
   "metadata": {},
   "outputs": [
    {
     "data": {
      "text/plain": [
       "<matplotlib.axes._subplots.AxesSubplot at 0x10bc1da0>"
      ]
     },
     "execution_count": 88,
     "metadata": {},
     "output_type": "execute_result"
    },
    {
     "data": {
      "image/png": "[encoded data removed]",
      "text/plain": [
       "<matplotlib.figure.Figure at 0x10516ef0>"
      ]
     },
     "metadata": {},
     "output_type": "display_data"
    }
   ],
   "source": [
    "dfData.groupby('hasDiscount').ViewCount.mean().plot(kind=\"bar\")"
   ]
  },
  {
   "cell_type": "code",
   "execution_count": 89,
   "metadata": {
    "collapsed": true
   },
   "outputs": [],
   "source": [
    "dfData['LikeDislikeRatio'] = dfData['LikeCount']/(dfData['LikeCount'] + dfData['DislikeCount'])"
   ]
  },
  {
   "cell_type": "code",
   "execution_count": 90,
   "metadata": {
    "collapsed": true
   },
   "outputs": [],
   "source": [
    "# Motivation\n",
    "# Transformation\n",
    "# Keywords: Ripped/Extreme/sexy/fat/intense\n",
    "# BodyBuilding\n",
    "# Tutorial/How To"
   ]
  },
  {
   "cell_type": "code",
   "execution_count": 91,
   "metadata": {},
   "outputs": [
    {
     "data": {
      "text/plain": [
       "Index([u'Unnamed: 0', u'Unnamed: 0.1', u'rowHash', u'Id', u'Title',\n",
       "       u'Description', u'LikeCount', u'DislikeCount', u'ViewCount',\n",
       "       u'FavoriteCount', u'CommentCount', u'PublishedAt', u'Channel Id',\n",
       "       u'Channel Title', u'Lang', u'publishedAt', u'subscriberCount',\n",
       "       u'channelVideoCount', u'channelViewCount', u'nextHash',\n",
       "       u'PrevCommentCount', u'PrevDislikeCount', u'PrevLikeCount',\n",
       "       u'PrevPublishedAt', u'PrevViewCount', u'Title-clickbait', u'nsfw_score',\n",
       "       u'HowTo', u'Motivation', u'Transform', u'Abs Video', u'Chest Video',\n",
       "       u'Back Video', u'Legs Video', u'Arm Video', u'Category', u'isSponsored',\n",
       "       u'hasDiscount', u'LikeDislikeRatio'],\n",
       "      dtype='object')"
      ]
     },
     "execution_count": 91,
     "metadata": {},
     "output_type": "execute_result"
    }
   ],
   "source": [
    "dfData.columns"
   ]
  },
  {
   "cell_type": "code",
   "execution_count": 92,
   "metadata": {},
   "outputs": [
    {
     "data": {
      "text/plain": [
       "(24627, 39)"
      ]
     },
     "execution_count": 92,
     "metadata": {},
     "output_type": "execute_result"
    }
   ],
   "source": [
    "dfData.shape"
   ]
  },
  {
   "cell_type": "code",
   "execution_count": 145,
   "metadata": {
    "collapsed": true
   },
   "outputs": [],
   "source": [
    "def feature_engineer(dfData):\n",
    "    dfData =dfData.drop(['Category'],axis =1)\n",
    "    dfData['is_english'] = dfData['Lang'].apply(lambda x: 1 if x=='en' else 0)\n",
    "    dfData = dfData.drop('Lang', axis=1)\n",
    "    \n",
    "    dfData['is_Abs'] = dfData['Abs Video'].apply(lambda x: 1 if x==True else 0)\n",
    "    dfData['is_Chest'] = dfData['Chest Video'].apply(lambda x: 1 if x==True else 0)\n",
    "    dfData['is_Back'] = dfData['Back Video'].apply(lambda x: 1 if x==True else 0)\n",
    "    dfData['is_Legs'] = dfData['Legs Video'].apply(lambda x: 1 if x==True else 0)\n",
    "    dfData['is_Arms'] = dfData['Arm Video'].apply(lambda x: 1 if x==True else 0)\n",
    "    dfData['isSponsored'] = dfData['isSponsored'].apply(lambda x: 1 if x==True else 0)\n",
    "    dfData['Motivation'] = dfData['Motivation'].apply(lambda x: 1 if x==True else 0)\n",
    "    dfData['HowTo'] = dfData['HowTo'].apply(lambda x: 1 if x==True else 0)\n",
    "    dfData['PublishedYear'] = dfData['PublishedAt'].apply(lambda x: x[:4])\n",
    "    dfData['ChannelAge'] =  dfData['publishedAt'].apply(lambda x: x[:4])\n",
    "    dfData['channelViewCount'] = np.log1p(dfData['channelViewCount'])\n",
    "    dfData = dfData.drop(['Title','Description','PublishedAt','publishedAt','Channel Id','Channel Title','Abs Video','Chest Video','Back Video',\n",
    "                          'Legs Video','Arm Video','PrevPublishedAt','Id','Unnamed: 0','Unnamed: 0.1','rowHash','FavoriteCount','nextHash','hasDiscount'],axis = 1)\n",
    "    \n",
    "    return dfData\n",
    "\n",
    "def drop_obvious_features(dfData):\n",
    "    dfData = dfData.drop(['LikeCount','DislikeCount','CommentCount'],axis = 1)\n",
    "    return dfData\n",
    "\n",
    "def drop_engineered_features(dfData):\n",
    "    dfData = dfData.drop(['nsfw_score','Title-Clickbait'],axis = 1)\n",
    "    return dfData\n",
    "\n",
    "def drop_categoricals(dfData):\n",
    "    dfData = dfData.drop(['is_Abs','is_Chest','is_Back','is_Legs','is_Arms','isSponsored','is_english','HowTo'],axis =1)\n",
    "    return dfData"
   ]
  },
  {
   "cell_type": "code",
   "execution_count": 146,
   "metadata": {},
   "outputs": [],
   "source": [
    "df = feature_engineer(dfData).drop('LikeDislikeRatio',axis =1)"
   ]
  },
  {
   "cell_type": "code",
   "execution_count": 147,
   "metadata": {},
   "outputs": [
    {
     "data": {
      "text/plain": [
       "Index([u'LikeCount', u'DislikeCount', u'ViewCount', u'CommentCount',\n",
       "       u'subscriberCount', u'channelVideoCount', u'channelViewCount',\n",
       "       u'PrevCommentCount', u'PrevDislikeCount', u'PrevLikeCount',\n",
       "       u'PrevViewCount', u'Title-clickbait', u'nsfw_score', u'HowTo',\n",
       "       u'Motivation', u'Transform', u'isSponsored', u'is_english', u'is_Abs',\n",
       "       u'is_Chest', u'is_Back', u'is_Legs', u'is_Arms', u'PublishedYear',\n",
       "       u'ChannelAge'],\n",
       "      dtype='object')"
      ]
     },
     "execution_count": 147,
     "metadata": {},
     "output_type": "execute_result"
    }
   ],
   "source": [
    "df.columns"
   ]
  },
  {
   "cell_type": "code",
   "execution_count": 148,
   "metadata": {
    "collapsed": true
   },
   "outputs": [],
   "source": [
    "X, y = df.drop('ViewCount',axis = 1) , np.log1p(df['ViewCount'])"
   ]
  },
  {
   "cell_type": "code",
   "execution_count": 166,
   "metadata": {},
   "outputs": [],
   "source": [
    "def checkForNull(X,y):\n",
    "    X = X.as_matrix().astype(float)\n",
    "    print \"Check For Null Values\"\n",
    "    for i in range(0,len(df.columns)-1):\n",
    "        print df.columns[i]\n",
    "        print np.any(np.isnan(X[:,i]))\n",
    "    print \"Check for Pred:\"\n",
    "    y = y.as_matrix().astype(float)\n",
    "    print np.any(np.isnan(y))"
   ]
  },
  {
   "cell_type": "code",
   "execution_count": 150,
   "metadata": {
    "collapsed": true
   },
   "outputs": [],
   "source": [
    "from sklearn.ensemble import GradientBoostingClassifier, GradientBoostingRegressor\n",
    "from sklearn.dummy import DummyClassifier, DummyRegressor\n",
    "from sklearn.model_selection import train_test_split\n",
    "from xgboost import XGBClassifier, XGBRegressor\n"
   ]
  },
  {
   "cell_type": "code",
   "execution_count": 151,
   "metadata": {
    "collapsed": true
   },
   "outputs": [],
   "source": [
    "train_X, test_X, train_y, test_y = train_test_split(X, y, train_size=0.75, test_size=0.25)\n",
    "\n"
   ]
  },
  {
   "cell_type": "code",
   "execution_count": 152,
   "metadata": {},
   "outputs": [
    {
     "data": {
      "text/plain": [
       "0.90439602713758882"
      ]
     },
     "execution_count": 152,
     "metadata": {},
     "output_type": "execute_result"
    }
   ],
   "source": [
    "reg = GradientBoostingRegressor()\n",
    "reg.fit(train_X, train_y)\n",
    "reg.score(test_X, test_y)"
   ]
  },
  {
   "cell_type": "code",
   "execution_count": 153,
   "metadata": {},
   "outputs": [
    {
     "data": {
      "text/plain": [
       "<matplotlib.axes._subplots.AxesSubplot at 0x1bd79518>"
      ]
     },
     "execution_count": 153,
     "metadata": {},
     "output_type": "execute_result"
    },
    {
     "data": {
      "image/png": "[encoded data removed]",
      "text/plain": [
       "<matplotlib.figure.Figure at 0x1bd794a8>"
      ]
     },
     "metadata": {},
     "output_type": "display_data"
    }
   ],
   "source": [
    "sns.set_style('whitegrid')\n",
    "plt.figure(figsize=(10,12))\n",
    "sns.barplot(x=reg.feature_importances_, y=X.columns)"
   ]
  },
  {
   "cell_type": "code",
   "execution_count": 191,
   "metadata": {},
   "outputs": [
    {
     "name": "stdout",
     "output_type": "stream",
     "text": [
      "Index([u'ViewCount', u'subscriberCount', u'channelVideoCount',\n",
      "       u'channelViewCount', u'PrevCommentCount', u'PrevDislikeCount',\n",
      "       u'PrevLikeCount', u'PrevViewCount', u'Title-clickbait', u'nsfw_score',\n",
      "       u'Motivation', u'Transform', u'PublishedYear', u'ChannelAge'],\n",
      "      dtype='object')\n"
     ]
    },
    {
     "data": {
      "text/plain": [
       "0.71291184566329613"
      ]
     },
     "execution_count": 191,
     "metadata": {},
     "output_type": "execute_result"
    }
   ],
   "source": [
    "df = drop_categoricals(drop_obvious_features(feature_engineer(dfData))).drop('LikeDislikeRatio',axis = 1)\n",
    "print df.columns\n",
    "X, y = df.drop(['ViewCount'],axis=1), np.log1p(df['ViewCount'])\n",
    "# checkForNull(X,y)\n",
    "train_X, test_X, train_y, test_y = train_test_split(X, y, train_size=0.75, test_size=0.25)\n",
    "\n",
    "\n",
    "\n",
    "reg = GradientBoostingRegressor()\n",
    "reg.fit(train_X, train_y)\n",
    "reg.score(test_X, test_y)\n",
    "\n"
   ]
  },
  {
   "cell_type": "code",
   "execution_count": 192,
   "metadata": {},
   "outputs": [
    {
     "data": {
      "text/plain": [
       "<matplotlib.axes._subplots.AxesSubplot at 0x26923d30>"
      ]
     },
     "execution_count": 192,
     "metadata": {},
     "output_type": "execute_result"
    },
    {
     "data": {
      "image/png": "[encoded data removed]",
      "text/plain": [
       "<matplotlib.figure.Figure at 0x26fda668>"
      ]
     },
     "metadata": {},
     "output_type": "display_data"
    }
   ],
   "source": [
    "sns.set_style('whitegrid')\n",
    "plt.figure(figsize=(10,12))\n",
    "sns.barplot(x=reg.feature_importances_, y=train_X.columns)"
   ]
  },
  {
   "cell_type": "code",
   "execution_count": 196,
   "metadata": {},
   "outputs": [],
   "source": [
    "reg = XGBRegressor(n_estimators = 1000)\n",
    "train_X['ChannelAge'] = train_X['ChannelAge'].astype(int)\n",
    "test_X['ChannelAge'] = test_X['ChannelAge'].astype(int)\n",
    "train_X['PublishedYear'] = train_X['PublishedYear'].astype(int)\n",
    "test_X['PublishedYear'] = test_X['PublishedYear'].astype(int)\n",
    "reg.fit(train_X, train_y)\n",
    "reg.score(test_X, test_y)\n",
    "\n",
    "import pickle\n",
    "pickle.dump(reg, open(\"xgb001.pickle.dat\", \"wb\"))"
   ]
  },
  {
   "cell_type": "code",
   "execution_count": 194,
   "metadata": {},
   "outputs": [
    {
     "data": {
      "text/plain": [
       "0.72204481908119122"
      ]
     },
     "execution_count": 194,
     "metadata": {},
     "output_type": "execute_result"
    }
   ],
   "source": [
    "reg = XGBRegressor(n_estimators = 1000)\n",
    "train_X, test_X = train_X.drop('nsfw_score',axis = 1), test_X.drop('nsfw_score',axis=1)\n",
    "train_X['ChannelAge'] = train_X['ChannelAge'].astype(int)\n",
    "test_X['ChannelAge'] = test_X['ChannelAge'].astype(int)\n",
    "train_X['PublishedYear'] = train_X['PublishedYear'].astype(int)\n",
    "test_X['PublishedYear'] = test_X['PublishedYear'].astype(int)\n",
    "reg.fit(train_X, train_y)\n",
    "reg.score(test_X, test_y)\n",
    "\n"
   ]
  },
  {
   "cell_type": "code",
   "execution_count": 189,
   "metadata": {},
   "outputs": [
    {
     "data": {
      "text/plain": [
       "0.49744131211076426"
      ]
     },
     "execution_count": 189,
     "metadata": {},
     "output_type": "execute_result"
    }
   ],
   "source": [
    "from sklearn.metrics import mean_squared_error, r2_score\n",
    "from sklearn import datasets, linear_model\n",
    "reg = linear_model.LinearRegression()\n",
    "train_X['ChannelAge'] = train_X['ChannelAge'].astype(int)\n",
    "test_X['ChannelAge'] = test_X['ChannelAge'].astype(int)\n",
    "train_X['PublishedYear'] = train_X['PublishedYear'].astype(int)\n",
    "test_X['PublishedYear'] = test_X['PublishedYear'].astype(int)\n",
    "reg.fit(train_X, train_y)\n",
    "reg.score(test_X, test_y)"
   ]
  },
  {
   "cell_type": "code",
   "execution_count": 133,
   "metadata": {},
   "outputs": [
    {
     "data": {
      "text/plain": [
       "0.66602761241015429"
      ]
     },
     "execution_count": 133,
     "metadata": {},
     "output_type": "execute_result"
    }
   ],
   "source": [
    "from sklearn.ensemble import RandomForestRegressor\n",
    "\n",
    "reg = RandomForestRegressor()\n",
    "train_X['ChannelAge'] = train_X['ChannelAge'].astype(int)\n",
    "test_X['ChannelAge'] = test_X['ChannelAge'].astype(int)\n",
    "train_X['PublishedYear'] = train_X['PublishedYear'].astype(int)\n",
    "test_X['PublishedYear'] = test_X['PublishedYear'].astype(int)\n",
    "reg.fit(train_X, train_y)\n",
    "reg.score(test_X, test_y)"
   ]
  },
  {
   "cell_type": "code",
   "execution_count": null,
   "metadata": {
    "collapsed": true
   },
   "outputs": [],
   "source": []
  },
  {
   "cell_type": "code",
   "execution_count": null,
   "metadata": {
    "collapsed": true
   },
   "outputs": [],
   "source": []
  }
 ],
 "metadata": {
  "kernelspec": {
   "display_name": "Python 2",
   "language": "python",
   "name": "python2"
  },
  "language_info": {
   "codemirror_mode": {
    "name": "ipython",
    "version": 2
   },
   "file_extension": ".py",
   "mimetype": "text/x-python",
   "name": "python",
   "nbconvert_exporter": "python",
   "pygments_lexer": "ipython2",
   "version": "2.7.13"
  }
 },
 "nbformat": 4,
 "nbformat_minor": 1
}
