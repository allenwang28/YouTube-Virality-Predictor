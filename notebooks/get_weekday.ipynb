{
 "cells": [
  {
   "cell_type": "code",
   "execution_count": 4,
   "metadata": {},
   "outputs": [],
   "source": [
    "import time\n",
    "import numpy as np\n",
    "import pandas as pd\n",
    "import matplotlib.pyplot as plt\n",
    "\n",
    "import seaborn as sns"
   ]
  },
  {
   "cell_type": "code",
   "execution_count": 5,
   "metadata": {},
   "outputs": [],
   "source": [
    "df = pd.read_csv('../data/All_data_cbs.csv').drop(['Unnamed: 0', 'Unnamed: 0.1'], axis=1)"
   ]
  },
  {
   "cell_type": "code",
   "execution_count": 6,
   "metadata": {
    "collapsed": true
   },
   "outputs": [],
   "source": [
    "df['PublishedAt'] = pd.to_datetime(df['PublishedAt'], errors='coerce')"
   ]
  },
  {
   "cell_type": "code",
   "execution_count": 10,
   "metadata": {},
   "outputs": [],
   "source": [
    "df['date'] = df[\"PublishedAt\"].dt.date"
   ]
  },
  {
   "cell_type": "code",
   "execution_count": 24,
   "metadata": {},
   "outputs": [],
   "source": [
    "def conv_date_to_weekday(date):\n",
    "#     print(type(str(date)))\n",
    "#     print(str(date))\n",
    "    date = str(date)\n",
    "    weekday = time.strftime(\"%A\", time.strptime(date, \"%Y-%m-%d\"))\n",
    "    return weekday\n",
    "\n",
    "df['weekday'] = df['date'].apply(conv_date_to_weekday)"
   ]
  },
  {
   "cell_type": "code",
   "execution_count": 25,
   "metadata": {},
   "outputs": [
    {
     "data": {
      "text/plain": [
       "0           Sunday\n",
       "1        Wednesday\n",
       "2           Monday\n",
       "3           Monday\n",
       "4           Monday\n",
       "5           Monday\n",
       "6           Monday\n",
       "7           Monday\n",
       "8        Wednesday\n",
       "9         Thursday\n",
       "10       Wednesday\n",
       "11       Wednesday\n",
       "12       Wednesday\n",
       "13          Monday\n",
       "14         Tuesday\n",
       "15          Monday\n",
       "16          Monday\n",
       "17          Monday\n",
       "18          Friday\n",
       "19          Monday\n",
       "20          Monday\n",
       "21        Saturday\n",
       "22         Tuesday\n",
       "23        Thursday\n",
       "24        Thursday\n",
       "25          Friday\n",
       "26          Friday\n",
       "27        Thursday\n",
       "28          Sunday\n",
       "29         Tuesday\n",
       "           ...    \n",
       "92428     Saturday\n",
       "92429      Tuesday\n",
       "92430       Sunday\n",
       "92431    Wednesday\n",
       "92432       Friday\n",
       "92433       Monday\n",
       "92434     Thursday\n",
       "92435     Thursday\n",
       "92436     Saturday\n",
       "92437       Sunday\n",
       "92438     Thursday\n",
       "92439      Tuesday\n",
       "92440    Wednesday\n",
       "92441       Sunday\n",
       "92442       Monday\n",
       "92443       Friday\n",
       "92444     Thursday\n",
       "92445    Wednesday\n",
       "92446      Tuesday\n",
       "92447     Thursday\n",
       "92448       Friday\n",
       "92449       Monday\n",
       "92450       Sunday\n",
       "92451       Sunday\n",
       "92452       Friday\n",
       "92453      Tuesday\n",
       "92454     Saturday\n",
       "92455     Saturday\n",
       "92456     Saturday\n",
       "92457       Sunday\n",
       "Name: weekday, Length: 92458, dtype: object"
      ]
     },
     "execution_count": 25,
     "metadata": {},
     "output_type": "execute_result"
    }
   ],
   "source": [
    "df['weekday']"
   ]
  },
  {
   "cell_type": "code",
   "execution_count": null,
   "metadata": {
    "collapsed": true
   },
   "outputs": [],
   "source": []
  }
 ],
 "metadata": {
  "kernelspec": {
   "display_name": "Python 2",
   "language": "python",
   "name": "python2"
  },
  "language_info": {
   "codemirror_mode": {
    "name": "ipython",
    "version": 2
   },
   "file_extension": ".py",
   "mimetype": "text/x-python",
   "name": "python",
   "nbconvert_exporter": "python",
   "pygments_lexer": "ipython2",
   "version": "2.7.13"
  }
 },
 "nbformat": 4,
 "nbformat_minor": 2
}
